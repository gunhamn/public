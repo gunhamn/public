{
 "cells": [
  {
   "cell_type": "code",
   "execution_count": 1,
   "metadata": {},
   "outputs": [
    {
     "name": "stdout",
     "output_type": "stream",
     "text": [
      "[1. 4. 9.]\n"
     ]
    }
   ],
   "source": [
    "import jax.numpy as jnp\n",
    "\n",
    "def square(x):\n",
    "    return x * x\n",
    "\n",
    "x = jnp.array([1.0, 2.0, 3.0])\n",
    "print(square(x))"
   ]
  },
  {
   "cell_type": "code",
   "execution_count": 2,
   "metadata": {},
   "outputs": [
    {
     "name": "stdout",
     "output_type": "stream",
     "text": [
      "Vector: [1 2 3]\n",
      "Matrix: [[1 2]\n",
      " [3 4]]\n",
      "Sum: [2 4 6]\n",
      "Product: [[ 1  4]\n",
      " [ 9 16]]\n"
     ]
    }
   ],
   "source": [
    "import jax.numpy as jnp\n",
    "\n",
    "vector = jnp.array([1, 2, 3])\n",
    "matrix = jnp.array([[1, 2], [3, 4]])\n",
    "print(\"Vector:\", vector)\n",
    "print(\"Matrix:\", matrix)\n",
    "\n",
    "sum_result = vector + vector\n",
    "product_result = matrix * matrix\n",
    "print(\"Sum:\", sum_result)\n",
    "print(\"Product:\", product_result)"
   ]
  },
  {
   "cell_type": "code",
   "execution_count": 3,
   "metadata": {},
   "outputs": [
    {
     "name": "stdout",
     "output_type": "stream",
     "text": [
      "Gradient at x=2: 14.0\n"
     ]
    }
   ],
   "source": [
    "from jax import grad\n",
    "\n",
    "def quadratic(x):\n",
    "    return 3 * x ** 2 + 2 * x + 1\n",
    "\n",
    "\n",
    "gradient_fn = grad(quadratic)\n",
    "print(\"Gradient at x=2:\", gradient_fn(2.0))\n"
   ]
  },
  {
   "cell_type": "code",
   "execution_count": 4,
   "metadata": {},
   "outputs": [
    {
     "name": "stdout",
     "output_type": "stream",
     "text": [
      "JAX Time: 2.5511696338653564 seconds\n",
      "NumPy Time: 11.365630149841309 seconds\n"
     ]
    }
   ],
   "source": [
    "import numpy as np\n",
    "import time\n",
    "\n",
    "large_matrix_jax = jnp.array(np.random.rand(10000, 10000))\n",
    "large_matrix_np = np.array(np.random.rand(10000, 10000))\n",
    "\n",
    "# Timing JAX operation\n",
    "start_time = time.time()\n",
    "result_jax = jnp.dot(large_matrix_jax, large_matrix_jax)\n",
    "jax_time = time.time() - start_time\n",
    "\n",
    "# Timing NumPy operation\n",
    "start_time = time.time()\n",
    "result_np = np.dot(large_matrix_np, large_matrix_np)\n",
    "np_time = time.time() - start_time\n",
    "\n",
    "print(f\"JAX Time: {jax_time} seconds\")\n",
    "print(f\"NumPy Time: {np_time} seconds\")\n"
   ]
  },
  {
   "cell_type": "code",
   "execution_count": 6,
   "metadata": {},
   "outputs": [
    {
     "name": "stdout",
     "output_type": "stream",
     "text": [
      "Normal Time: 0.2695322036743164 seconds\n",
      "JIT Time: 0.06746506690979004 seconds\n"
     ]
    }
   ],
   "source": [
    "from jax import jit\n",
    "\n",
    "def complicated_function(x):\n",
    "    return jnp.cos(x) * jnp.sin(x) + jnp.log(x + 1)\n",
    "\n",
    "jit_function = jit(complicated_function)\n",
    "\n",
    "# Timing the original function\n",
    "start_time = time.time()\n",
    "for _ in range(10000):\n",
    "    complicated_function(1.0)\n",
    "normal_time = time.time() - start_time\n",
    "\n",
    "# Timing the JIT-compiled function\n",
    "start_time = time.time()\n",
    "for _ in range(10000):\n",
    "    jit_function(1.0)\n",
    "jit_time = time.time() - start_time\n",
    "\n",
    "print(f\"Normal Time: {normal_time} seconds\")\n",
    "print(f\"JIT Time: {jit_time} seconds\")\n"
   ]
  },
  {
   "cell_type": "code",
   "execution_count": null,
   "metadata": {},
   "outputs": [],
   "source": []
  }
 ],
 "metadata": {
  "kernelspec": {
   "display_name": ".venv",
   "language": "python",
   "name": "python3"
  },
  "language_info": {
   "codemirror_mode": {
    "name": "ipython",
    "version": 3
   },
   "file_extension": ".py",
   "mimetype": "text/x-python",
   "name": "python",
   "nbconvert_exporter": "python",
   "pygments_lexer": "ipython3",
   "version": "3.12.0"
  }
 },
 "nbformat": 4,
 "nbformat_minor": 2
}
