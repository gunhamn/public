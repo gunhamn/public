{
 "cells": [
  {
   "cell_type": "code",
   "execution_count": 57,
   "metadata": {},
   "outputs": [],
   "source": [
    "import numpy as np\n",
    "import matplotlib.pyplot as plt\n",
    "import pandas as pd\n",
    "from sklearn.model_selection import train_test_split\n",
    "from sklearn.linear_model import LinearRegression\n",
    "from sklearn.tree import DecisionTreeClassifier\n",
    "from sklearn.metrics import mean_squared_error, r2_score, accuracy_score, confusion_matrix\n",
    "import shap\n",
    "\n",
    "np.random.seed(42)\n",
    "random_state = 42"
   ]
  },
  {
   "cell_type": "code",
   "execution_count": 58,
   "metadata": {},
   "outputs": [],
   "source": [
    "modelNames = [\"r00_g10_3000k\",\n",
    "                \"r01_g10_3000k\",\n",
    "                \"r02_g10_3000k\",\n",
    "                \"r03_g10_3000k\",\n",
    "                \"r04_g10_3000k\",\n",
    "                \"r05_g10_3000k\",\n",
    "                \"r06_g10_3000k\",\n",
    "                \"r07_g10_3000k\",\n",
    "                \"r08_g10_3000k\",\n",
    "                \"r09_g10_3000k\",\n",
    "                \"r10_g10_3000k\",\n",
    "                \"r10_g09_3000k\",\n",
    "                \"r10_g08_3000k\",\n",
    "                \"r10_g07_3000k\",\n",
    "                \"r10_g06_3000k\",\n",
    "                \"r10_g05_3000k\",\n",
    "                \"r10_g04_3000k\",\n",
    "                \"r10_g03_3000k\",\n",
    "                \"r10_g02_3000k\",\n",
    "                \"r10_g01_3000k\",\n",
    "                \"r10_g00_3000k\"]\n",
    "\n",
    "\n",
    "# all 21 act datasets\n",
    "act_r00_g10_3000k = pd.read_csv(\"C:/Projects/public/XAI_Master/datasets/act_r00_g10_3000k.csv\", header=0, index_col=None, float_precision='high')\n",
    "act_r01_g10_3000k = pd.read_csv(\"C:/Projects/public/XAI_Master/datasets/act_r01_g10_3000k.csv\", header=0, index_col=None, float_precision='high')\n",
    "act_r02_g10_3000k = pd.read_csv(\"C:/Projects/public/XAI_Master/datasets/act_r02_g10_3000k.csv\", header=0, index_col=None, float_precision='high')\n",
    "act_r03_g10_3000k = pd.read_csv(\"C:/Projects/public/XAI_Master/datasets/act_r03_g10_3000k.csv\", header=0, index_col=None, float_precision='high')\n",
    "act_r04_g10_3000k = pd.read_csv(\"C:/Projects/public/XAI_Master/datasets/act_r04_g10_3000k.csv\", header=0, index_col=None, float_precision='high')\n",
    "act_r05_g10_3000k = pd.read_csv(\"C:/Projects/public/XAI_Master/datasets/act_r05_g10_3000k.csv\", header=0, index_col=None, float_precision='high')\n",
    "act_r06_g10_3000k = pd.read_csv(\"C:/Projects/public/XAI_Master/datasets/act_r06_g10_3000k.csv\", header=0, index_col=None, float_precision='high')\n",
    "act_r07_g10_3000k = pd.read_csv(\"C:/Projects/public/XAI_Master/datasets/act_r07_g10_3000k.csv\", header=0, index_col=None, float_precision='high')\n",
    "act_r08_g10_3000k = pd.read_csv(\"C:/Projects/public/XAI_Master/datasets/act_r08_g10_3000k.csv\", header=0, index_col=None, float_precision='high')\n",
    "act_r09_g10_3000k = pd.read_csv(\"C:/Projects/public/XAI_Master/datasets/act_r09_g10_3000k.csv\", header=0, index_col=None, float_precision='high')\n",
    "act_r10_g00_3000k = pd.read_csv(\"C:/Projects/public/XAI_Master/datasets/act_r10_g00_3000k.csv\", header=0, index_col=None, float_precision='high')\n",
    "act_r10_g01_3000k = pd.read_csv(\"C:/Projects/public/XAI_Master/datasets/act_r10_g01_3000k.csv\", header=0, index_col=None, float_precision='high')\n",
    "act_r10_g02_3000k = pd.read_csv(\"C:/Projects/public/XAI_Master/datasets/act_r10_g02_3000k.csv\", header=0, index_col=None, float_precision='high')\n",
    "act_r10_g03_3000k = pd.read_csv(\"C:/Projects/public/XAI_Master/datasets/act_r10_g03_3000k.csv\", header=0, index_col=None, float_precision='high')\n",
    "act_r10_g04_3000k = pd.read_csv(\"C:/Projects/public/XAI_Master/datasets/act_r10_g04_3000k.csv\", header=0, index_col=None, float_precision='high')\n",
    "act_r10_g05_3000k = pd.read_csv(\"C:/Projects/public/XAI_Master/datasets/act_r10_g05_3000k.csv\", header=0, index_col=None, float_precision='high')\n",
    "act_r10_g06_3000k = pd.read_csv(\"C:/Projects/public/XAI_Master/datasets/act_r10_g06_3000k.csv\", header=0, index_col=None, float_precision='high')\n",
    "act_r10_g07_3000k = pd.read_csv(\"C:/Projects/public/XAI_Master/datasets/act_r10_g07_3000k.csv\", header=0, index_col=None, float_precision='high')\n",
    "act_r10_g08_3000k = pd.read_csv(\"C:/Projects/public/XAI_Master/datasets/act_r10_g08_3000k.csv\", header=0, index_col=None, float_precision='high')\n",
    "act_r10_g09_3000k = pd.read_csv(\"C:/Projects/public/XAI_Master/datasets/act_r10_g09_3000k.csv\", header=0, index_col=None, float_precision='high')\n",
    "act_r10_g10_3000k = pd.read_csv(\"C:/Projects/public/XAI_Master/datasets/act_r10_g10_3000k.csv\", header=0, index_col=None, float_precision='high')\n",
    "\n",
    "# all 21 shap datasets\n",
    "shap_r00_g10_3000k = pd.read_csv(\"C:/Projects/public/XAI_Master/datasets/shap_r00_g10_3000k.csv\", header=0, index_col=None, float_precision='high')\n",
    "shap_r01_g10_3000k = pd.read_csv(\"C:/Projects/public/XAI_Master/datasets/shap_r01_g10_3000k.csv\", header=0, index_col=None, float_precision='high')\n",
    "shap_r02_g10_3000k = pd.read_csv(\"C:/Projects/public/XAI_Master/datasets/shap_r02_g10_3000k.csv\", header=0, index_col=None, float_precision='high')\n",
    "shap_r03_g10_3000k = pd.read_csv(\"C:/Projects/public/XAI_Master/datasets/shap_r03_g10_3000k.csv\", header=0, index_col=None, float_precision='high')\n",
    "shap_r04_g10_3000k = pd.read_csv(\"C:/Projects/public/XAI_Master/datasets/shap_r04_g10_3000k.csv\", header=0, index_col=None, float_precision='high')\n",
    "shap_r05_g10_3000k = pd.read_csv(\"C:/Projects/public/XAI_Master/datasets/shap_r05_g10_3000k.csv\", header=0, index_col=None, float_precision='high')\n",
    "shap_r06_g10_3000k = pd.read_csv(\"C:/Projects/public/XAI_Master/datasets/shap_r06_g10_3000k.csv\", header=0, index_col=None, float_precision='high')\n",
    "shap_r07_g10_3000k = pd.read_csv(\"C:/Projects/public/XAI_Master/datasets/shap_r07_g10_3000k.csv\", header=0, index_col=None, float_precision='high')\n",
    "shap_r08_g10_3000k = pd.read_csv(\"C:/Projects/public/XAI_Master/datasets/shap_r08_g10_3000k.csv\", header=0, index_col=None, float_precision='high')\n",
    "shap_r09_g10_3000k = pd.read_csv(\"C:/Projects/public/XAI_Master/datasets/shap_r09_g10_3000k.csv\", header=0, index_col=None, float_precision='high')\n",
    "shap_r10_g00_3000k = pd.read_csv(\"C:/Projects/public/XAI_Master/datasets/shap_r10_g00_3000k.csv\", header=0, index_col=None, float_precision='high')\n",
    "shap_r10_g01_3000k = pd.read_csv(\"C:/Projects/public/XAI_Master/datasets/shap_r10_g01_3000k.csv\", header=0, index_col=None, float_precision='high')\n",
    "shap_r10_g02_3000k = pd.read_csv(\"C:/Projects/public/XAI_Master/datasets/shap_r10_g02_3000k.csv\", header=0, index_col=None, float_precision='high')\n",
    "shap_r10_g03_3000k = pd.read_csv(\"C:/Projects/public/XAI_Master/datasets/shap_r10_g03_3000k.csv\", header=0, index_col=None, float_precision='high')\n",
    "shap_r10_g04_3000k = pd.read_csv(\"C:/Projects/public/XAI_Master/datasets/shap_r10_g04_3000k.csv\", header=0, index_col=None, float_precision='high')\n",
    "shap_r10_g05_3000k = pd.read_csv(\"C:/Projects/public/XAI_Master/datasets/shap_r10_g05_3000k.csv\", header=0, index_col=None, float_precision='high')\n",
    "shap_r10_g06_3000k = pd.read_csv(\"C:/Projects/public/XAI_Master/datasets/shap_r10_g06_3000k.csv\", header=0, index_col=None, float_precision='high')\n",
    "shap_r10_g07_3000k = pd.read_csv(\"C:/Projects/public/XAI_Master/datasets/shap_r10_g07_3000k.csv\", header=0, index_col=None, float_precision='high')\n",
    "shap_r10_g08_3000k = pd.read_csv(\"C:/Projects/public/XAI_Master/datasets/shap_r10_g08_3000k.csv\", header=0, index_col=None, float_precision='high')\n",
    "shap_r10_g09_3000k = pd.read_csv(\"C:/Projects/public/XAI_Master/datasets/shap_r10_g09_3000k.csv\", header=0, index_col=None, float_precision='high')\n",
    "shap_r10_g10_3000k = pd.read_csv(\"C:/Projects/public/XAI_Master/datasets/shap_r10_g10_3000k.csv\", header=0, index_col=None, float_precision='high')\n",
    "\n",
    "\n",
    "\n",
    "\n",
    "\n",
    "\n",
    "datasetDict = {\n",
    "    \"r00g10-act\": act_r00_g10_3000k,\n",
    "    \"r01g10-act\": act_r01_g10_3000k,\n",
    "    \"r02g10-act\": act_r02_g10_3000k,\n",
    "    \"r03g10-act\": act_r03_g10_3000k,\n",
    "    \"r04g10-act\": act_r04_g10_3000k,\n",
    "    \"r05g10-act\": act_r05_g10_3000k,\n",
    "    \"r06g10-act\": act_r06_g10_3000k,\n",
    "    \"r07g10-act\": act_r07_g10_3000k,\n",
    "    \"r08g10-act\": act_r08_g10_3000k,\n",
    "    \"r09g10-act\": act_r09_g10_3000k,\n",
    "    \"r00g10-shap\": shap_r00_g10_3000k,\n",
    "    \"r01g10-shap\": shap_r01_g10_3000k,\n",
    "    \"r02g10-shap\": shap_r02_g10_3000k,\n",
    "    \"r03g10-shap\": shap_r03_g10_3000k,\n",
    "    \"r04g10-shap\": shap_r04_g10_3000k,\n",
    "    \"r05g10-shap\": shap_r05_g10_3000k,\n",
    "    \"r06g10-shap\": shap_r06_g10_3000k,\n",
    "    \"r07g10-shap\": shap_r07_g10_3000k,\n",
    "    \"r08g10-shap\": shap_r08_g10_3000k,\n",
    "    \"r09g10-shap\": shap_r09_g10_3000k,\n",
    "    \"r10g00-act\": act_r10_g00_3000k,\n",
    "    \"r10g01-act\": act_r10_g01_3000k,\n",
    "    \"r10g02-act\": act_r10_g02_3000k,\n",
    "    \"r10g03-act\": act_r10_g03_3000k,\n",
    "    \"r10g04-act\": act_r10_g04_3000k,\n",
    "    \"r10g05-act\": act_r10_g05_3000k,\n",
    "    \"r10g06-act\": act_r10_g06_3000k,\n",
    "    \"r10g07-act\": act_r10_g07_3000k,\n",
    "    \"r10g08-act\": act_r10_g08_3000k,\n",
    "    \"r10g09-act\": act_r10_g09_3000k,\n",
    "    \"r10g10-act\": act_r10_g10_3000k,\n",
    "    \"r10g00-shap\": shap_r10_g00_3000k,\n",
    "    \"r10g01-shap\": shap_r10_g01_3000k,\n",
    "    \"r10g02-shap\": shap_r10_g02_3000k,\n",
    "    \"r10g03-shap\": shap_r10_g03_3000k,\n",
    "    \"r10g04-shap\": shap_r10_g04_3000k,\n",
    "    \"r10g05-shap\": shap_r10_g05_3000k,\n",
    "    \"r10g06-shap\": shap_r10_g06_3000k,\n",
    "    \"r10g07-shap\": shap_r10_g07_3000k,\n",
    "    \"r10g08-shap\": shap_r10_g08_3000k,\n",
    "    \"r10g09-shap\": shap_r10_g09_3000k,\n",
    "    \"r10g10-shap\": shap_r10_g10_3000k\n",
    "}"
   ]
  },
  {
   "cell_type": "code",
   "execution_count": 59,
   "metadata": {},
   "outputs": [
    {
     "name": "stdout",
     "output_type": "stream",
     "text": [
      "Empty DataFrame\n",
      "Columns: [target, 00r, 00g, 00b, 01r, 01g, 01b, 02r, 02g, 02b, 03r, 03g, 03b, 04r, 04g, 04b, 05r, 05g, 05b, 06r, 06g, 06b, 10r, 10g, 10b, 11r, 11g, 11b, 12r, 12g, 12b, 13r, 13g, 13b, 14r, 14g, 14b, 15r, 15g, 15b, 16r, 16g, 16b, 20r, 20g, 20b, 21r, 21g, 21b, 22r, 22g, 22b, 23r, 23g, 23b, 24r, 24g, 24b, 25r, 25g, 25b, 26r, 26g, 26b, 30r, 30g, 30b, 31r, 31g, 31b, 32r, 32g, 32b, 33r, 33g, 33b, 34r, 34g, 34b, 35r, 35g, 35b, 36r, 36g, 36b, 40r, 40g, 40b, 41r, 41g, 41b, 42r, 42g, 42b, 43r, 43g, 43b, 44r, 44g, 44b, ...]\n",
      "Index: []\n",
      "Empty DataFrame\n",
      "Columns: [target, 00r, 00g, 00b, 01r, 01g, 01b, 02r, 02g, 02b, 03r, 03g, 03b, 04r, 04g, 04b, 05r, 05g, 05b, 06r, 06g, 06b, 10r, 10g, 10b, 11r, 11g, 11b, 12r, 12g, 12b, 13r, 13g, 13b, 14r, 14g, 14b, 15r, 15g, 15b, 16r, 16g, 16b, 20r, 20g, 20b, 21r, 21g, 21b, 22r, 22g, 22b, 23r, 23g, 23b, 24r, 24g, 24b, 25r, 25g, 25b, 26r, 26g, 26b, 30r, 30g, 30b, 31r, 31g, 31b, 32r, 32g, 32b, 33r, 33g, 33b, 34r, 34g, 34b, 35r, 35g, 35b, 36r, 36g, 36b, 40r, 40g, 40b, 41r, 41g, 41b, 42r, 42g, 42b, 43r, 43g, 43b, 44r, 44g, 44b, ...]\n",
      "Index: []\n",
      "     target  00r  00g  00b  01r  01g  01b  02r  02g  02b  03r  03g  03b  04r  \\\n",
      "866     0.0  1.0  1.0  1.0  1.0  1.0  1.0  1.0  1.0  1.0  1.0  1.0  1.0  1.0   \n",
      "\n",
      "     04g  04b  05r  05g  05b  06r  06g  06b  10r  10g  10b  11r  11g  11b  \\\n",
      "866  1.0  1.0  1.0  0.0  1.0  1.0  1.0  1.0  0.0  0.0  0.0  1.0  0.0  0.0   \n",
      "\n",
      "     12r  12g  12b  13r  13g  13b  14r  14g  14b  15r  15g  15b  16r  16g  \\\n",
      "866  0.0  1.0  1.0  1.0  1.0  1.0  1.0  0.0  1.0  1.0  1.0  1.0  1.0  1.0   \n",
      "\n",
      "     16b  20r  20g  20b  21r  21g  21b  22r  22g  22b  23r  23g  23b  24r  \\\n",
      "866  1.0  1.0  1.0  1.0  1.0  1.0  1.0  1.0  1.0  1.0  1.0  1.0  1.0  0.0   \n",
      "\n",
      "     24g  24b  25r  25g  25b  26r  26g  26b  30r  30g  30b  31r  31g  31b  \\\n",
      "866  1.0  1.0  1.0  1.0  1.0  1.0  1.0  1.0  1.0  1.0  1.0  1.0  1.0  1.0   \n",
      "\n",
      "     32r  32g  32b  33r  33g  33b  34r  34g  34b  35r  35g  35b  36r  36g  \\\n",
      "866  1.0  0.0  0.0  0.0  1.0  0.0  0.0  0.0  1.0  1.0  1.0  1.0  1.0  1.0   \n",
      "\n",
      "     36b  40r  40g  40b  41r  41g  41b  42r  42g  42b  43r  43g  43b  44r  \\\n",
      "866  0.0  1.0  1.0  1.0  1.0  1.0  1.0  1.0  1.0  1.0  1.0  1.0  1.0  1.0   \n",
      "\n",
      "     44g  44b  45r  45g  45b  46r  46g  46b  50r  50g  50b  51r  51g  51b  \\\n",
      "866  1.0  1.0  1.0  1.0  1.0  1.0  0.0  1.0  1.0  1.0  1.0  1.0  1.0  1.0   \n",
      "\n",
      "     52r  52g  52b  53r  53g  53b  54r  54g  54b  55r  55g  55b  56r  56g  \\\n",
      "866  1.0  1.0  1.0  0.0  1.0  1.0  1.0  1.0  0.0  0.0  0.0  1.0  0.0  0.0   \n",
      "\n",
      "     56b  60r  60g  60b  61r  61g  61b  62r  62g  62b  63r  63g  63b  64r  \\\n",
      "866  0.0  1.0  1.0  1.0  1.0  1.0  1.0  1.0  1.0  1.0  1.0  1.0  1.0  1.0   \n",
      "\n",
      "     64g  64b  65r  65g  65b  66r  66g  66b  shap00r  shap00g  shap00b  \\\n",
      "866  1.0  1.0  1.0  1.0  1.0  1.0  1.0  1.0      0.0      0.0      0.0   \n",
      "\n",
      "     shap01r  shap01g  shap01b  shap02r  shap02g  shap02b  shap03r  shap03g  \\\n",
      "866      0.0      0.0      0.0      0.0      0.0      0.0      0.0      0.0   \n",
      "\n",
      "     shap03b  shap04r  shap04g  shap04b  shap05r   shap05g  shap05b  shap06r  \\\n",
      "866      0.0      0.0      0.0      0.0      0.0  0.000102      0.0      0.0   \n",
      "\n",
      "     shap06g  shap06b  shap10r       shap10g   shap10b  shap11r   shap11g  \\\n",
      "866      0.0      0.0      0.0 -9.650499e-07  0.000343      0.0 -0.002474   \n",
      "\n",
      "      shap11b   shap12r  shap12g  shap12b  shap13r  shap13g  shap13b  shap14r  \\\n",
      "866 -0.036936 -0.025378      0.0      0.0      0.0      0.0      0.0      0.0   \n",
      "\n",
      "     shap14g  shap14b  shap15r  shap15g  shap15b  shap16r  shap16g  shap16b  \\\n",
      "866  0.14585      0.0      0.0      0.0      0.0      0.0      0.0      0.0   \n",
      "\n",
      "     shap20r  shap20g  shap20b  shap21r  shap21g  shap21b  shap22r  shap22g  \\\n",
      "866      0.0      0.0      0.0      0.0      0.0      0.0      0.0      0.0   \n",
      "\n",
      "     shap22b  shap23r  shap23g  shap23b   shap24r  shap24g  shap24b  shap25r  \\\n",
      "866      0.0      0.0      0.0      0.0 -0.012361      0.0      0.0      0.0   \n",
      "\n",
      "     shap25g  shap25b  shap26r  shap26g  shap26b  shap30r  shap30g  shap30b  \\\n",
      "866      0.0      0.0      0.0      0.0      0.0      0.0      0.0      0.0   \n",
      "\n",
      "     shap31r  shap31g  shap31b  shap32r  shap32g   shap32b   shap33r  shap33g  \\\n",
      "866      0.0      0.0      0.0      0.0      0.0 -0.000005  0.000265      0.0   \n",
      "\n",
      "      shap33b   shap34r  shap34g  shap34b  shap35r  shap35g  shap35b  shap36r  \\\n",
      "866  0.011543  0.026968  0.12244      0.0      0.0      0.0      0.0      0.0   \n",
      "\n",
      "     shap36g   shap36b  shap40r  shap40g  shap40b  shap41r  shap41g  shap41b  \\\n",
      "866      0.0  0.319972      0.0      0.0      0.0      0.0      0.0      0.0   \n",
      "\n",
      "     shap42r  shap42g  shap42b  shap43r  shap43g  shap43b  shap44r  shap44g  \\\n",
      "866      0.0      0.0      0.0      0.0      0.0      0.0      0.0      0.0   \n",
      "\n",
      "     shap44b  shap45r  shap45g  shap45b  shap46r   shap46g  shap46b  shap50r  \\\n",
      "866      0.0      0.0      0.0      0.0      0.0 -0.006025      0.0      0.0   \n",
      "\n",
      "     shap50g  shap50b  shap51r  shap51g  shap51b  shap52r  shap52g  shap52b  \\\n",
      "866      0.0      0.0      0.0      0.0      0.0      0.0      0.0      0.0   \n",
      "\n",
      "      shap53r  shap53g  shap53b  shap54r  shap54g  shap54b   shap55r  \\\n",
      "866 -0.000383      0.0      0.0      0.0      0.0      0.0  0.000021   \n",
      "\n",
      "      shap55g  shap55b   shap56r   shap56g   shap56b  shap60r  shap60g  \\\n",
      "866 -0.000339      0.0 -0.005682  0.030507 -0.066856      0.0      0.0   \n",
      "\n",
      "     shap60b  shap61r  shap61g  shap61b  shap62r  shap62g  shap62b  shap63r  \\\n",
      "866      0.0      0.0      0.0      0.0      0.0      0.0      0.0      0.0   \n",
      "\n",
      "     shap63g  shap63b  shap64r  shap64g  shap64b  shap65r  shap65g  shap65b  \\\n",
      "866      0.0      0.0      0.0      0.0      0.0      0.0      0.0      0.0   \n",
      "\n",
      "     shap66r  shap66g  shap66b  \n",
      "866      0.0      0.0      0.0  \n"
     ]
    }
   ],
   "source": [
    "# Print all rows in shap_r00_g10_3000k, shap_r10_g10_3000k, shap_r10_g00_3000k where 'target' == 0\n",
    "print(shap_r00_g10_3000k[shap_r00_g10_3000k['target'] == 0])\n",
    "print(shap_r10_g10_3000k[shap_r10_g10_3000k['target'] == 0])\n",
    "print(shap_r10_g00_3000k[shap_r10_g00_3000k['target'] == 0])"
   ]
  },
  {
   "cell_type": "code",
   "execution_count": 60,
   "metadata": {},
   "outputs": [
    {
     "name": "stdout",
     "output_type": "stream",
     "text": [
      "act_r00_g10_3000k:  target\n",
      " 1.0    0.9975\n",
      "-1.0    0.0025\n",
      "Name: proportion, dtype: float64\n",
      "        Dataset     Red    None   Green\n",
      "0    r00g10-act  0.0025  0.0000  0.9975\n",
      "1   r00g10-shap  0.0030  0.0000  0.9970\n",
      "2    r01g10-act  0.0020  0.0000  0.9980\n",
      "3   r01g10-shap  0.0050  0.0005  0.9945\n",
      "4    r02g10-act  0.0055  0.0000  0.9945\n",
      "5   r02g10-shap  0.0070  0.0000  0.9930\n",
      "6    r03g10-act  0.0035  0.0050  0.9915\n",
      "7   r03g10-shap  0.0030  0.0060  0.9910\n",
      "8    r04g10-act  0.0045  0.0000  0.9955\n",
      "9   r04g10-shap  0.0030  0.0000  0.9970\n",
      "10   r05g10-act  0.0030  0.0000  0.9970\n",
      "11  r05g10-shap  0.0060  0.0005  0.9935\n",
      "12   r06g10-act  0.0060  0.0005  0.9935\n",
      "13  r06g10-shap  0.0045  0.0000  0.9955\n",
      "14   r07g10-act  0.0070  0.0000  0.9930\n",
      "15  r07g10-shap  0.0035  0.0000  0.9965\n",
      "16   r08g10-act  0.0085  0.0000  0.9915\n",
      "17  r08g10-shap  0.0090  0.0000  0.9910\n",
      "18   r09g10-act  0.1370  0.0000  0.8630\n",
      "19  r09g10-shap  0.1375  0.0005  0.8620\n",
      "20   r10g00-act  0.9940  0.0010  0.0050\n",
      "21  r10g00-shap  0.9920  0.0005  0.0075\n",
      "22   r10g01-act  0.9935  0.0005  0.0060\n",
      "23  r10g01-shap  0.9925  0.0005  0.0070\n",
      "24   r10g02-act  0.9920  0.0020  0.0060\n",
      "25  r10g02-shap  0.9905  0.0030  0.0065\n",
      "26   r10g03-act  0.9930  0.0015  0.0055\n",
      "27  r10g03-shap  0.9935  0.0020  0.0045\n",
      "28   r10g04-act  0.9930  0.0040  0.0030\n",
      "29  r10g04-shap  0.9905  0.0030  0.0065\n",
      "30   r10g05-act  0.9930  0.0005  0.0065\n",
      "31  r10g05-shap  0.9940  0.0005  0.0055\n",
      "32   r10g06-act  0.9930  0.0005  0.0065\n",
      "33  r10g06-shap  0.9955  0.0005  0.0040\n",
      "34   r10g07-act  0.9935  0.0005  0.0060\n",
      "35  r10g07-shap  0.9935  0.0000  0.0065\n",
      "36   r10g08-act  0.9920  0.0005  0.0075\n",
      "37  r10g08-shap  0.9940  0.0000  0.0060\n",
      "38   r10g09-act  0.8860  0.0000  0.1140\n",
      "39  r10g09-shap  0.8850  0.0005  0.1145\n",
      "40   r10g10-act  0.5265  0.0005  0.4730\n",
      "41  r10g10-shap  0.5010  0.0000  0.4990\n"
     ]
    }
   ],
   "source": [
    "\n",
    "# Statistics of the datasets\n",
    "# Dataset, % of 'target'==-1, % of 'target'==0, , % of 'target'==1\n",
    "print(\"act_r00_g10_3000k: \", act_r00_g10_3000k['target'].value_counts(normalize=True))\n",
    "\n",
    "def createStatistics(datasetDict):\n",
    "    df = pd.DataFrame(columns=['Dataset', 'Red', 'None', 'Green'])\n",
    "    \n",
    "    for i, (dataset_name, data) in enumerate(datasetDict.items()):\n",
    "        target_counts = data['target'].value_counts(normalize=True)\n",
    "        target_minus1 = target_counts.get(-1, 0)\n",
    "        target_0 = target_counts.get(0, 0)\n",
    "        target_1 = target_counts.get(1, 0)\n",
    "\n",
    "        df.loc[i] = [dataset_name, target_minus1, target_0, target_1]\n",
    "    \n",
    "    return df\n",
    "\n",
    "statistics_df = createStatistics(datasetDict)\n",
    "\n",
    "#sort alphabetically\n",
    "statistics_df = statistics_df.sort_values(by='Dataset')\n",
    "# reset index\n",
    "statistics_df = statistics_df.reset_index(drop=True)\n",
    "# Always use 4 decimals\n",
    "statistics_df = statistics_df.round(4)\n",
    "print(statistics_df)\n",
    "\n",
    "\n",
    "# output the statistics to a csv file, always using 4 decimals\n",
    "statistics_df.to_csv(\"C:/Projects/public/XAI_Master/datasets/targetStatistics.csv\", index=False, float_format='%.4f')"
   ]
  },
  {
   "cell_type": "code",
   "execution_count": 61,
   "metadata": {},
   "outputs": [
    {
     "name": "stdout",
     "output_type": "stream",
     "text": [
      "The agent reached: Green\n"
     ]
    },
    {
     "data": {
      "image/png": "[encoded data removed]",
      "text/plain": [
       "<Figure size 600x500 with 3 Axes>"
      ]
     },
     "metadata": {},
     "output_type": "display_data"
    },
    {
     "name": "stdout",
     "output_type": "stream",
     "text": [
      "The agent reached: Green\n"
     ]
    },
    {
     "data": {
      "image/png": "[encoded data removed]",
      "text/plain": [
       "<Figure size 600x500 with 3 Axes>"
      ]
     },
     "metadata": {},
     "output_type": "display_data"
    },
    {
     "name": "stdout",
     "output_type": "stream",
     "text": [
      "The agent reached: Green\n"
     ]
    },
    {
     "data": {
      "image/png": "[encoded data removed]",
      "text/plain": [
       "<Figure size 600x500 with 3 Axes>"
      ]
     },
     "metadata": {},
     "output_type": "display_data"
    },
    {
     "name": "stdout",
     "output_type": "stream",
     "text": [
      "The agent reached: Green\n"
     ]
    },
    {
     "data": {
      "image/png": "[encoded data removed]",
      "text/plain": [
       "<Figure size 600x500 with 3 Axes>"
      ]
     },
     "metadata": {},
     "output_type": "display_data"
    },
    {
     "name": "stdout",
     "output_type": "stream",
     "text": [
      "The agent reached: Green\n"
     ]
    },
    {
     "data": {
      "image/png": "[encoded data removed]",
      "text/plain": [
       "<Figure size 600x500 with 3 Axes>"
      ]
     },
     "metadata": {},
     "output_type": "display_data"
    },
    {
     "name": "stdout",
     "output_type": "stream",
     "text": [
      "The agent reached: Green\n"
     ]
    },
    {
     "data": {
      "image/png": "[encoded data removed]",
      "text/plain": [
       "<Figure size 600x500 with 3 Axes>"
      ]
     },
     "metadata": {},
     "output_type": "display_data"
    },
    {
     "name": "stdout",
     "output_type": "stream",
     "text": [
      "The agent reached: Green\n"
     ]
    },
    {
     "data": {
      "image/png": "[encoded data removed]",
      "text/plain": [
       "<Figure size 600x500 with 3 Axes>"
      ]
     },
     "metadata": {},
     "output_type": "display_data"
    },
    {
     "name": "stdout",
     "output_type": "stream",
     "text": [
      "The agent reached: Green\n"
     ]
    },
    {
     "data": {
      "image/png": "[encoded data removed]",
      "text/plain": [
       "<Figure size 600x500 with 3 Axes>"
      ]
     },
     "metadata": {},
     "output_type": "display_data"
    },
    {
     "name": "stdout",
     "output_type": "stream",
     "text": [
      "The agent reached: Green\n"
     ]
    },
    {
     "data": {
      "image/png": "[encoded data removed]",
      "text/plain": [
       "<Figure size 600x500 with 3 Axes>"
      ]
     },
     "metadata": {},
     "output_type": "display_data"
    },
    {
     "name": "stdout",
     "output_type": "stream",
     "text": [
      "The agent reached: Green\n"
     ]
    },
    {
     "data": {
      "image/png": "[encoded data removed]",
      "text/plain": [
       "<Figure size 600x500 with 3 Axes>"
      ]
     },
     "metadata": {},
     "output_type": "display_data"
    }
   ],
   "source": [
    "dataset = pd.read_csv(\"C:/Projects/public/XAI_Master/datasets/shap_test.csv\", header=0, index_col=None, float_precision='high')\n",
    "\n",
    "def plot_shapley_values(row, includePixelShap=True):\n",
    "    \n",
    "    targetName = {-1: 'Red', 0: 'None', 1: 'Green'}\n",
    "    # Extract RGB image values\n",
    "    image_values = row[1:148].values.reshape(3, 7, 7).transpose((2, 1, 0))  # Reshape to (7, 7, 3)\n",
    "    \n",
    "    # Extract and reshape Shapley values\n",
    "    shap_values = row.filter(like='shap').values.reshape(3, 7, 7).transpose((2, 1, 0))\n",
    "    \n",
    "    if includePixelShap:\n",
    "        fig, axes = plt.subplots(1, 4, figsize=(20, 5))\n",
    "        channels = ['Red', 'Green', 'Blue']\n",
    "\n",
    "        # Plot original image\n",
    "        axes[0].imshow(image_values)\n",
    "        axes[0].set_title(f'The agent reached: {targetName[row[\"target\"]]}')\n",
    "        axes[0].axis('off')\n",
    "        \n",
    "        for i, ax in enumerate(axes[1:]):\n",
    "            im = ax.imshow(shap_values[:, :, i], cmap='RdBu_r', interpolation='nearest', vmin=-0.2, vmax=0.2)\n",
    "            ax.set_title(f'{channels[i]} pixel SHAP values')\n",
    "            ax.axis('off')\n",
    "            fig.colorbar(im, ax=ax, fraction=0.046, pad=0.04)\n",
    "    else:\n",
    "        print(f'The agent reached: {targetName[row[\"target\"]]}')\n",
    "    \n",
    "    shap.image_plot([shap_values], image_values, show=False)\n",
    "    plt.show()\n",
    "\n",
    "# gamestateDataset = pd.read_csv(\"C:/Projects/public/XAI_Master/datasets/42000_gamestates.csv\")\n",
    "# plt.imshow(gamestateDataset.iloc[0].values.reshape(7, 7, 3).transpose((1, 0, 2)))\n",
    "\n",
    "for row in dataset[:10].iterrows():\n",
    "    plot_shapley_values(row[1], includePixelShap=False)"
   ]
  },
  {
   "cell_type": "markdown",
   "metadata": {},
   "source": [
    "Earlier..\n",
    "\n",
    "Done:\n",
    "- Train 21 models\n",
    "- Create all activation and shap datasets\n",
    "- Precicted unseen network datasets\n",
    "\n",
    "Answered questions:\n",
    "- Should the models retain the 5% epsilon during dataset creation? Yes\n",
    "- Does the SHAP background data sound sound? Compare\n",
    "- Should the decision tree recieve coordinates too? Format? Yes, no feature engineering"
   ]
  },
  {
   "cell_type": "markdown",
   "metadata": {},
   "source": [
    "### Meeting 2025-02-24\n",
    "\n",
    "Next up:\n",
    "- Implement Gradcam\n",
    "\n",
    "Questions:\n",
    "- Should I switch to an environment where the agent can't see the goal? Yes\n",
    "- What other XAI methods makes sense to implement after gradcam? Wait\n",
    "- Should I spend time visualising these results to be able to put them into the thesis? Yes\n",
    "\n",
    "Todo:\n",
    "- Visualise using shap\n",
    "- Alter environment\n",
    "\n",
    "\n"
   ]
  }
 ],
 "metadata": {
  "kernelspec": {
   "display_name": ".venv",
   "language": "python",
   "name": "python3"
  },
  "language_info": {
   "codemirror_mode": {
    "name": "ipython",
    "version": 3
   },
   "file_extension": ".py",
   "mimetype": "text/x-python",
   "name": "python",
   "nbconvert_exporter": "python",
   "pygments_lexer": "ipython3",
   "version": "3.12.2"
  }
 },
 "nbformat": 4,
 "nbformat_minor": 2
}
