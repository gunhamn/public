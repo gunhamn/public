{
 "cells": [
  {
   "cell_type": "code",
   "execution_count": 44,
   "metadata": {},
   "outputs": [],
   "source": [
    "import numpy as np\n",
    "import matplotlib.pyplot as plt\n",
    "import pandas as pd\n",
    "from sklearn.model_selection import train_test_split\n",
    "from sklearn.linear_model import LinearRegression\n",
    "from sklearn.tree import DecisionTreeClassifier\n",
    "from sklearn.metrics import mean_squared_error, r2_score, accuracy_score, confusion_matrix\n",
    "import shap\n",
    "\n",
    "np.random.seed(42)\n",
    "random_state = 42"
   ]
  },
  {
   "cell_type": "code",
   "execution_count": 45,
   "metadata": {},
   "outputs": [],
   "source": [
    "modelNames = [\"r00_g10_1500k\",\n",
    "              \"r01_g10_1500k\",\n",
    "              \"r02_g10_1500k\",\n",
    "              \"r03_g10_1500k\",\n",
    "              \"r04_g10_1500k\",\n",
    "              \"r05_g10_1500k\",\n",
    "              \"r06_g10_1500k\",\n",
    "              \"r07_g10_1500k\",\n",
    "              \"r08_g10_1500k\",\n",
    "              \"r09_g10_1500k\",\n",
    "              \"r10_g00_1500k\",\n",
    "              \"r10_g01_1500k\",\n",
    "              \"r10_g02_1500k\",\n",
    "              \"r10_g03_1500k\",\n",
    "              \"r10_g04_1500k\",\n",
    "              \"r10_g05_1500k\",\n",
    "              \"r10_g06_1500k\",\n",
    "              \"r10_g07_1500k\",\n",
    "              \"r10_g08_1500k\",\n",
    "              \"r10_g09_1500k\",\n",
    "              \"r10_g10_1500k\"]\n",
    "\n",
    "# all 21 act datasets\n",
    "act_r00_g10_1500k = pd.read_csv(\"C:/Projects/public/XAI_Master/datasets/act_r00_g10_1500k.csv\", header=0, index_col=None, float_precision='high')\n",
    "act_r01_g10_1500k = pd.read_csv(\"C:/Projects/public/XAI_Master/datasets/act_r01_g10_1500k.csv\", header=0, index_col=None, float_precision='high')\n",
    "act_r02_g10_1500k = pd.read_csv(\"C:/Projects/public/XAI_Master/datasets/act_r02_g10_1500k.csv\", header=0, index_col=None, float_precision='high')\n",
    "act_r03_g10_1500k = pd.read_csv(\"C:/Projects/public/XAI_Master/datasets/act_r03_g10_1500k.csv\", header=0, index_col=None, float_precision='high')\n",
    "act_r04_g10_1500k = pd.read_csv(\"C:/Projects/public/XAI_Master/datasets/act_r04_g10_1500k.csv\", header=0, index_col=None, float_precision='high')\n",
    "act_r05_g10_1500k = pd.read_csv(\"C:/Projects/public/XAI_Master/datasets/act_r05_g10_1500k.csv\", header=0, index_col=None, float_precision='high')\n",
    "act_r06_g10_1500k = pd.read_csv(\"C:/Projects/public/XAI_Master/datasets/act_r06_g10_1500k.csv\", header=0, index_col=None, float_precision='high')\n",
    "act_r07_g10_1500k = pd.read_csv(\"C:/Projects/public/XAI_Master/datasets/act_r07_g10_1500k.csv\", header=0, index_col=None, float_precision='high')\n",
    "act_r08_g10_1500k = pd.read_csv(\"C:/Projects/public/XAI_Master/datasets/act_r08_g10_1500k.csv\", header=0, index_col=None, float_precision='high')\n",
    "act_r09_g10_1500k = pd.read_csv(\"C:/Projects/public/XAI_Master/datasets/act_r09_g10_1500k.csv\", header=0, index_col=None, float_precision='high')\n",
    "act_r10_g00_1500k = pd.read_csv(\"C:/Projects/public/XAI_Master/datasets/act_r10_g00_1500k.csv\", header=0, index_col=None, float_precision='high')\n",
    "act_r10_g01_1500k = pd.read_csv(\"C:/Projects/public/XAI_Master/datasets/act_r10_g01_1500k.csv\", header=0, index_col=None, float_precision='high')\n",
    "act_r10_g02_1500k = pd.read_csv(\"C:/Projects/public/XAI_Master/datasets/act_r10_g02_1500k.csv\", header=0, index_col=None, float_precision='high')\n",
    "act_r10_g03_1500k = pd.read_csv(\"C:/Projects/public/XAI_Master/datasets/act_r10_g03_1500k.csv\", header=0, index_col=None, float_precision='high')\n",
    "act_r10_g04_1500k = pd.read_csv(\"C:/Projects/public/XAI_Master/datasets/act_r10_g04_1500k.csv\", header=0, index_col=None, float_precision='high')\n",
    "act_r10_g05_1500k = pd.read_csv(\"C:/Projects/public/XAI_Master/datasets/act_r10_g05_1500k.csv\", header=0, index_col=None, float_precision='high')\n",
    "act_r10_g06_1500k = pd.read_csv(\"C:/Projects/public/XAI_Master/datasets/act_r10_g06_1500k.csv\", header=0, index_col=None, float_precision='high')\n",
    "act_r10_g07_1500k = pd.read_csv(\"C:/Projects/public/XAI_Master/datasets/act_r10_g07_1500k.csv\", header=0, index_col=None, float_precision='high')\n",
    "act_r10_g08_1500k = pd.read_csv(\"C:/Projects/public/XAI_Master/datasets/act_r10_g08_1500k.csv\", header=0, index_col=None, float_precision='high')\n",
    "act_r10_g09_1500k = pd.read_csv(\"C:/Projects/public/XAI_Master/datasets/act_r10_g09_1500k.csv\", header=0, index_col=None, float_precision='high')\n",
    "act_r10_g10_1500k = pd.read_csv(\"C:/Projects/public/XAI_Master/datasets/act_r10_g10_1500k.csv\", header=0, index_col=None, float_precision='high')\n",
    "\n",
    "# all 21 shap datasets\n",
    "shap_r00_g10_1500k = pd.read_csv(\"C:/Projects/public/XAI_Master/datasets/shap_r00_g10_1500k.csv\", header=0, index_col=None, float_precision='high')\n",
    "shap_r01_g10_1500k = pd.read_csv(\"C:/Projects/public/XAI_Master/datasets/shap_r01_g10_1500k.csv\", header=0, index_col=None, float_precision='high')\n",
    "shap_r02_g10_1500k = pd.read_csv(\"C:/Projects/public/XAI_Master/datasets/shap_r02_g10_1500k.csv\", header=0, index_col=None, float_precision='high')\n",
    "shap_r03_g10_1500k = pd.read_csv(\"C:/Projects/public/XAI_Master/datasets/shap_r03_g10_1500k.csv\", header=0, index_col=None, float_precision='high')\n",
    "shap_r04_g10_1500k = pd.read_csv(\"C:/Projects/public/XAI_Master/datasets/shap_r04_g10_1500k.csv\", header=0, index_col=None, float_precision='high')\n",
    "shap_r05_g10_1500k = pd.read_csv(\"C:/Projects/public/XAI_Master/datasets/shap_r05_g10_1500k.csv\", header=0, index_col=None, float_precision='high')\n",
    "shap_r06_g10_1500k = pd.read_csv(\"C:/Projects/public/XAI_Master/datasets/shap_r06_g10_1500k.csv\", header=0, index_col=None, float_precision='high')\n",
    "shap_r07_g10_1500k = pd.read_csv(\"C:/Projects/public/XAI_Master/datasets/shap_r07_g10_1500k.csv\", header=0, index_col=None, float_precision='high')\n",
    "shap_r08_g10_1500k = pd.read_csv(\"C:/Projects/public/XAI_Master/datasets/shap_r08_g10_1500k.csv\", header=0, index_col=None, float_precision='high')\n",
    "shap_r09_g10_1500k = pd.read_csv(\"C:/Projects/public/XAI_Master/datasets/shap_r09_g10_1500k.csv\", header=0, index_col=None, float_precision='high')\n",
    "shap_r10_g00_1500k = pd.read_csv(\"C:/Projects/public/XAI_Master/datasets/shap_r10_g00_1500k.csv\", header=0, index_col=None, float_precision='high')\n",
    "shap_r10_g01_1500k = pd.read_csv(\"C:/Projects/public/XAI_Master/datasets/shap_r10_g01_1500k.csv\", header=0, index_col=None, float_precision='high')\n",
    "shap_r10_g02_1500k = pd.read_csv(\"C:/Projects/public/XAI_Master/datasets/shap_r10_g02_1500k.csv\", header=0, index_col=None, float_precision='high')\n",
    "shap_r10_g03_1500k = pd.read_csv(\"C:/Projects/public/XAI_Master/datasets/shap_r10_g03_1500k.csv\", header=0, index_col=None, float_precision='high')\n",
    "shap_r10_g04_1500k = pd.read_csv(\"C:/Projects/public/XAI_Master/datasets/shap_r10_g04_1500k.csv\", header=0, index_col=None, float_precision='high')\n",
    "shap_r10_g05_1500k = pd.read_csv(\"C:/Projects/public/XAI_Master/datasets/shap_r10_g05_1500k.csv\", header=0, index_col=None, float_precision='high')\n",
    "shap_r10_g06_1500k = pd.read_csv(\"C:/Projects/public/XAI_Master/datasets/shap_r10_g06_1500k.csv\", header=0, index_col=None, float_precision='high')\n",
    "shap_r10_g07_1500k = pd.read_csv(\"C:/Projects/public/XAI_Master/datasets/shap_r10_g07_1500k.csv\", header=0, index_col=None, float_precision='high')\n",
    "shap_r10_g08_1500k = pd.read_csv(\"C:/Projects/public/XAI_Master/datasets/shap_r10_g08_1500k.csv\", header=0, index_col=None, float_precision='high')\n",
    "shap_r10_g09_1500k = pd.read_csv(\"C:/Projects/public/XAI_Master/datasets/shap_r10_g09_1500k.csv\", header=0, index_col=None, float_precision='high')\n",
    "shap_r10_g10_1500k = pd.read_csv(\"C:/Projects/public/XAI_Master/datasets/shap_r10_g10_1500k.csv\", header=0, index_col=None, float_precision='high')\n",
    "\n",
    "\n",
    "\n",
    "\n",
    "\n",
    "\n",
    "datasetDict = {\n",
    "    \"r00g10-act\": act_r00_g10_1500k,\n",
    "    \"r01g10-act\": act_r01_g10_1500k,\n",
    "    \"r02g10-act\": act_r02_g10_1500k,\n",
    "    \"r03g10-act\": act_r03_g10_1500k,\n",
    "    \"r04g10-act\": act_r04_g10_1500k,\n",
    "    \"r05g10-act\": act_r05_g10_1500k,\n",
    "    \"r06g10-act\": act_r06_g10_1500k,\n",
    "    \"r07g10-act\": act_r07_g10_1500k,\n",
    "    \"r08g10-act\": act_r08_g10_1500k,\n",
    "    \"r09g10-act\": act_r09_g10_1500k,\n",
    "    \"r00g10-shap\": shap_r00_g10_1500k,\n",
    "    \"r01g10-shap\": shap_r01_g10_1500k,\n",
    "    \"r02g10-shap\": shap_r02_g10_1500k,\n",
    "    \"r03g10-shap\": shap_r03_g10_1500k,\n",
    "    \"r04g10-shap\": shap_r04_g10_1500k,\n",
    "    \"r05g10-shap\": shap_r05_g10_1500k,\n",
    "    \"r06g10-shap\": shap_r06_g10_1500k,\n",
    "    \"r07g10-shap\": shap_r07_g10_1500k,\n",
    "    \"r08g10-shap\": shap_r08_g10_1500k,\n",
    "    \"r09g10-shap\": shap_r09_g10_1500k,\n",
    "    \"r10g00-act\": act_r10_g00_1500k,\n",
    "    \"r10g01-act\": act_r10_g01_1500k,\n",
    "    \"r10g02-act\": act_r10_g02_1500k,\n",
    "    \"r10g03-act\": act_r10_g03_1500k,\n",
    "    \"r10g04-act\": act_r10_g04_1500k,\n",
    "    \"r10g05-act\": act_r10_g05_1500k,\n",
    "    \"r10g06-act\": act_r10_g06_1500k,\n",
    "    \"r10g07-act\": act_r10_g07_1500k,\n",
    "    \"r10g08-act\": act_r10_g08_1500k,\n",
    "    \"r10g09-act\": act_r10_g09_1500k,\n",
    "    \"r10g10-act\": act_r10_g10_1500k,\n",
    "    \"r10g00-shap\": shap_r10_g00_1500k,\n",
    "    \"r10g01-shap\": shap_r10_g01_1500k,\n",
    "    \"r10g02-shap\": shap_r10_g02_1500k,\n",
    "    \"r10g03-shap\": shap_r10_g03_1500k,\n",
    "    \"r10g04-shap\": shap_r10_g04_1500k,\n",
    "    \"r10g05-shap\": shap_r10_g05_1500k,\n",
    "    \"r10g06-shap\": shap_r10_g06_1500k,\n",
    "    \"r10g07-shap\": shap_r10_g07_1500k,\n",
    "    \"r10g08-shap\": shap_r10_g08_1500k,\n",
    "    \"r10g09-shap\": shap_r10_g09_1500k,\n",
    "    \"r10g10-shap\": shap_r10_g10_1500k\n",
    "}"
   ]
  },
  {
   "cell_type": "code",
   "execution_count": 46,
   "metadata": {},
   "outputs": [
    {
     "name": "stdout",
     "output_type": "stream",
     "text": [
      "      target  00r  00g  00b  01r  01g  01b  02r  02g  02b  ...  shap63b  \\\n",
      "94       0.0  1.0  1.0  1.0  1.0  1.0  1.0  1.0  1.0  1.0  ...      0.0   \n",
      "215      0.0  1.0  1.0  1.0  1.0  1.0  1.0  1.0  1.0  1.0  ...      0.0   \n",
      "249      0.0  1.0  1.0  1.0  1.0  1.0  1.0  1.0  1.0  1.0  ...      0.0   \n",
      "557      0.0  1.0  1.0  1.0  1.0  1.0  1.0  1.0  1.0  1.0  ...      0.0   \n",
      "843      0.0  1.0  1.0  1.0  1.0  1.0  1.0  1.0  1.0  1.0  ...      0.0   \n",
      "1138     0.0  1.0  1.0  1.0  0.0  1.0  0.0  1.0  1.0  1.0  ...      0.0   \n",
      "1842     0.0  1.0  1.0  1.0  1.0  1.0  1.0  1.0  1.0  1.0  ...      0.0   \n",
      "1883     0.0  1.0  1.0  1.0  1.0  1.0  1.0  1.0  1.0  1.0  ...      0.0   \n",
      "\n",
      "      shap64r  shap64g  shap64b  shap65r  shap65g  shap65b   shap66r  \\\n",
      "94        0.0      0.0      0.0      0.0      0.0      0.0  0.011378   \n",
      "215       0.0      0.0      0.0      0.0      0.0      0.0  0.010226   \n",
      "249       0.0      0.0      0.0      0.0      0.0      0.0  0.010880   \n",
      "557       0.0      0.0      0.0      0.0      0.0      0.0  0.012737   \n",
      "843       0.0      0.0      0.0      0.0      0.0      0.0  0.012661   \n",
      "1138      0.0      0.0      0.0      0.0      0.0      0.0  0.010032   \n",
      "1842      0.0      0.0      0.0      0.0      0.0      0.0  0.012167   \n",
      "1883      0.0      0.0      0.0      0.0      0.0      0.0  0.012721   \n",
      "\n",
      "       shap66g  shap66b  \n",
      "94    0.014654      0.0  \n",
      "215   0.010349      0.0  \n",
      "249   0.014802      0.0  \n",
      "557   0.012335      0.0  \n",
      "843   0.012586      0.0  \n",
      "1138  0.011766      0.0  \n",
      "1842  0.012224      0.0  \n",
      "1883  0.012632      0.0  \n",
      "\n",
      "[8 rows x 295 columns]\n",
      "      target  00r  00g  00b  01r  01g  01b  02r  02g  02b  ...  shap63b  \\\n",
      "741      0.0  1.0  1.0  1.0  1.0  1.0  1.0  1.0  1.0  1.0  ...      0.0   \n",
      "1554     0.0  1.0  1.0  1.0  1.0  1.0  1.0  1.0  1.0  1.0  ...      0.0   \n",
      "\n",
      "      shap64r  shap64g  shap64b  shap65r  shap65g  shap65b   shap66r  \\\n",
      "741       0.0      0.0      0.0      0.0      0.0      0.0  0.011528   \n",
      "1554      0.0      0.0      0.0      0.0      0.0      0.0  0.011169   \n",
      "\n",
      "       shap66g  shap66b  \n",
      "741   0.030625      0.0  \n",
      "1554  0.029541      0.0  \n",
      "\n",
      "[2 rows x 295 columns]\n",
      "      target  00r  00g  00b  01r  01g  01b  02r  02g  02b  ...  shap63b  \\\n",
      "309      0.0  1.0  1.0  1.0  1.0  1.0  1.0  1.0  1.0  1.0  ...      0.0   \n",
      "594      0.0  1.0  1.0  1.0  1.0  1.0  1.0  1.0  1.0  1.0  ...      0.0   \n",
      "629      0.0  1.0  1.0  1.0  1.0  1.0  1.0  1.0  1.0  1.0  ...      0.0   \n",
      "688      0.0  1.0  1.0  1.0  1.0  1.0  1.0  1.0  1.0  1.0  ...      0.0   \n",
      "763      0.0  1.0  1.0  1.0  1.0  1.0  1.0  1.0  1.0  1.0  ...      0.0   \n",
      "808      0.0  1.0  1.0  1.0  1.0  1.0  1.0  1.0  1.0  1.0  ...      0.0   \n",
      "1101     0.0  1.0  1.0  1.0  1.0  1.0  1.0  1.0  1.0  1.0  ...      0.0   \n",
      "1206     0.0  1.0  1.0  1.0  1.0  1.0  1.0  1.0  1.0  1.0  ...      0.0   \n",
      "1390     0.0  1.0  1.0  1.0  1.0  1.0  1.0  1.0  1.0  1.0  ...      0.0   \n",
      "1542     0.0  1.0  1.0  1.0  1.0  1.0  1.0  1.0  1.0  1.0  ...      0.0   \n",
      "1657     0.0  1.0  1.0  1.0  1.0  1.0  1.0  1.0  1.0  1.0  ...      0.0   \n",
      "\n",
      "      shap64r  shap64g  shap64b  shap65r  shap65g  shap65b   shap66r  \\\n",
      "309       0.0      0.0      0.0      0.0      0.0      0.0  0.005716   \n",
      "594       0.0      0.0      0.0      0.0      0.0      0.0 -0.017426   \n",
      "629       0.0      0.0      0.0      0.0      0.0      0.0  0.002337   \n",
      "688       0.0      0.0      0.0      0.0      0.0      0.0 -0.014962   \n",
      "763       0.0      0.0      0.0      0.0      0.0      0.0  0.004843   \n",
      "808       0.0      0.0      0.0      0.0      0.0      0.0  0.004841   \n",
      "1101      0.0      0.0      0.0      0.0      0.0      0.0  0.005589   \n",
      "1206      0.0      0.0      0.0      0.0      0.0      0.0  0.004587   \n",
      "1390      0.0      0.0      0.0      0.0      0.0      0.0  0.003165   \n",
      "1542      0.0      0.0      0.0      0.0      0.0      0.0  0.004414   \n",
      "1657      0.0      0.0      0.0      0.0      0.0      0.0  0.005618   \n",
      "\n",
      "       shap66g  shap66b  \n",
      "309   0.005125      0.0  \n",
      "594  -0.009600      0.0  \n",
      "629   0.001822      0.0  \n",
      "688  -0.009411      0.0  \n",
      "763   0.003777      0.0  \n",
      "808   0.004150      0.0  \n",
      "1101  0.004494      0.0  \n",
      "1206  0.003230      0.0  \n",
      "1390  0.002847      0.0  \n",
      "1542  0.003808      0.0  \n",
      "1657  0.005160      0.0  \n",
      "\n",
      "[11 rows x 295 columns]\n"
     ]
    }
   ],
   "source": [
    "# Print all rows in shap_r00_g10_1500k, shap_r10_g10_1500k, shap_r10_g00_1500k where 'target' == 0\n",
    "print(shap_r00_g10_1500k[shap_r00_g10_1500k['target'] == 0])\n",
    "print(shap_r10_g10_1500k[shap_r10_g10_1500k['target'] == 0])\n",
    "print(shap_r10_g00_1500k[shap_r10_g00_1500k['target'] == 0])"
   ]
  },
  {
   "cell_type": "code",
   "execution_count": 47,
   "metadata": {},
   "outputs": [
    {
     "name": "stdout",
     "output_type": "stream",
     "text": [
      "act_r00_g10_1500k:  target\n",
      " 1.0    0.9955\n",
      "-1.0    0.0030\n",
      " 0.0    0.0015\n",
      "Name: proportion, dtype: float64\n",
      "        Dataset     Red    None   Green\n",
      "0    r00g10-act  0.0030  0.0015  0.9955\n",
      "1   r00g10-shap  0.0040  0.0040  0.9920\n",
      "2    r01g10-act  0.0040  0.0035  0.9925\n",
      "3   r01g10-shap  0.0075  0.0025  0.9900\n",
      "4    r02g10-act  0.0030  0.0035  0.9935\n",
      "5   r02g10-shap  0.0050  0.0030  0.9920\n",
      "6    r03g10-act  0.0095  0.0065  0.9840\n",
      "7   r03g10-shap  0.0070  0.0065  0.9865\n",
      "8    r04g10-act  0.0045  0.0005  0.9950\n",
      "9   r04g10-shap  0.0075  0.0015  0.9910\n",
      "10   r05g10-act  0.0025  0.0015  0.9960\n",
      "11  r05g10-shap  0.0080  0.0030  0.9890\n",
      "12   r06g10-act  0.0070  0.0065  0.9865\n",
      "13  r06g10-shap  0.0090  0.0040  0.9870\n",
      "14   r07g10-act  0.0055  0.1510  0.8435\n",
      "15  r07g10-shap  0.0040  0.1535  0.8425\n",
      "16   r08g10-act  0.0075  0.0000  0.9925\n",
      "17  r08g10-shap  0.0070  0.0010  0.9920\n",
      "18   r09g10-act  0.1540  0.0085  0.8375\n",
      "19  r09g10-shap  0.1515  0.0065  0.8420\n",
      "20   r10g00-act  0.9920  0.0050  0.0030\n",
      "21  r10g00-shap  0.9875  0.0055  0.0070\n",
      "22   r10g01-act  0.9900  0.0045  0.0055\n",
      "23  r10g01-shap  0.9835  0.0115  0.0050\n",
      "24   r10g02-act  0.9940  0.0015  0.0045\n",
      "25  r10g02-shap  0.9930  0.0025  0.0045\n",
      "26   r10g03-act  0.9880  0.0070  0.0050\n",
      "27  r10g03-shap  0.9880  0.0035  0.0085\n",
      "28   r10g04-act  0.9935  0.0010  0.0055\n",
      "29  r10g04-shap  0.9935  0.0005  0.0060\n",
      "30   r10g05-act  0.9875  0.0040  0.0085\n",
      "31  r10g05-shap  0.9955  0.0025  0.0020\n",
      "32   r10g06-act  0.9950  0.0000  0.0050\n",
      "33  r10g06-shap  0.9930  0.0000  0.0070\n",
      "34   r10g07-act  0.9935  0.0000  0.0065\n",
      "35  r10g07-shap  0.9945  0.0005  0.0050\n",
      "36   r10g08-act  0.9915  0.0005  0.0080\n",
      "37  r10g08-shap  0.9875  0.0010  0.0115\n",
      "38   r10g09-act  0.8525  0.0000  0.1475\n",
      "39  r10g09-shap  0.8700  0.0000  0.1300\n",
      "40   r10g10-act  0.5165  0.0000  0.4835\n",
      "41  r10g10-shap  0.5180  0.0010  0.4810\n"
     ]
    }
   ],
   "source": [
    "\n",
    "# Statistics of the datasets\n",
    "# Dataset, % of 'target'==-1, % of 'target'==0, , % of 'target'==1\n",
    "print(\"act_r00_g10_1500k: \", act_r00_g10_1500k['target'].value_counts(normalize=True))\n",
    "\n",
    "def createStatistics(datasetDict):\n",
    "    df = pd.DataFrame(columns=['Dataset', 'Red', 'None', 'Green'])\n",
    "    \n",
    "    for i, (dataset_name, data) in enumerate(datasetDict.items()):\n",
    "        target_counts = data['target'].value_counts(normalize=True)\n",
    "        target_minus1 = target_counts.get(-1, 0)\n",
    "        target_0 = target_counts.get(0, 0)\n",
    "        target_1 = target_counts.get(1, 0)\n",
    "\n",
    "        df.loc[i] = [dataset_name, target_minus1, target_0, target_1]\n",
    "    \n",
    "    return df\n",
    "\n",
    "statistics_df = createStatistics(datasetDict)\n",
    "\n",
    "#sort alphabetically\n",
    "statistics_df = statistics_df.sort_values(by='Dataset')\n",
    "# reset index\n",
    "statistics_df = statistics_df.reset_index(drop=True)\n",
    "# Always use 4 decimals\n",
    "statistics_df = statistics_df.round(4)\n",
    "print(statistics_df)\n",
    "\n",
    "\n",
    "# output the statistics to a csv file, always using 4 decimals\n",
    "statistics_df.to_csv(\"C:/Projects/public/XAI_Master/datasets/targetStatistics.csv\", index=False, float_format='%.4f')"
   ]
  },
  {
   "cell_type": "code",
   "execution_count": 48,
   "metadata": {},
   "outputs": [
    {
     "name": "stdout",
     "output_type": "stream",
     "text": [
      "The agent reached: Green\n"
     ]
    },
    {
     "data": {
      "image/png": "[encoded data removed]",
      "text/plain": [
       "<Figure size 600x500 with 3 Axes>"
      ]
     },
     "metadata": {},
     "output_type": "display_data"
    },
    {
     "name": "stdout",
     "output_type": "stream",
     "text": [
      "The agent reached: Green\n"
     ]
    },
    {
     "data": {
      "image/png": "[encoded data removed]",
      "text/plain": [
       "<Figure size 600x500 with 3 Axes>"
      ]
     },
     "metadata": {},
     "output_type": "display_data"
    },
    {
     "name": "stdout",
     "output_type": "stream",
     "text": [
      "The agent reached: Green\n"
     ]
    },
    {
     "data": {
      "image/png": "[encoded data removed]",
      "text/plain": [
       "<Figure size 600x500 with 3 Axes>"
      ]
     },
     "metadata": {},
     "output_type": "display_data"
    },
    {
     "name": "stdout",
     "output_type": "stream",
     "text": [
      "The agent reached: Green\n"
     ]
    },
    {
     "data": {
      "image/png": "[encoded data removed]",
      "text/plain": [
       "<Figure size 600x500 with 3 Axes>"
      ]
     },
     "metadata": {},
     "output_type": "display_data"
    },
    {
     "name": "stdout",
     "output_type": "stream",
     "text": [
      "The agent reached: Green\n"
     ]
    },
    {
     "data": {
      "image/png": "[encoded data removed]",
      "text/plain": [
       "<Figure size 600x500 with 3 Axes>"
      ]
     },
     "metadata": {},
     "output_type": "display_data"
    },
    {
     "name": "stdout",
     "output_type": "stream",
     "text": [
      "The agent reached: Green\n"
     ]
    },
    {
     "data": {
      "image/png": "[encoded data removed]",
      "text/plain": [
       "<Figure size 600x500 with 3 Axes>"
      ]
     },
     "metadata": {},
     "output_type": "display_data"
    },
    {
     "name": "stdout",
     "output_type": "stream",
     "text": [
      "The agent reached: Green\n"
     ]
    },
    {
     "data": {
      "image/png": "[encoded data removed]",
      "text/plain": [
       "<Figure size 600x500 with 3 Axes>"
      ]
     },
     "metadata": {},
     "output_type": "display_data"
    },
    {
     "name": "stdout",
     "output_type": "stream",
     "text": [
      "The agent reached: Green\n"
     ]
    },
    {
     "data": {
      "image/png": "[encoded data removed]",
      "text/plain": [
       "<Figure size 600x500 with 3 Axes>"
      ]
     },
     "metadata": {},
     "output_type": "display_data"
    },
    {
     "name": "stdout",
     "output_type": "stream",
     "text": [
      "The agent reached: Green\n"
     ]
    },
    {
     "data": {
      "image/png": "[encoded data removed]",
      "text/plain": [
       "<Figure size 600x500 with 3 Axes>"
      ]
     },
     "metadata": {},
     "output_type": "display_data"
    },
    {
     "name": "stdout",
     "output_type": "stream",
     "text": [
      "The agent reached: Green\n"
     ]
    },
    {
     "data": {
      "image/png": "[encoded data removed]",
      "text/plain": [
       "<Figure size 600x500 with 3 Axes>"
      ]
     },
     "metadata": {},
     "output_type": "display_data"
    }
   ],
   "source": [
    "shap_test = pd.read_csv(\"C:/Projects/public/XAI_Master/datasets/shap_r01_g10_1500k.csv\", header=0, index_col=None, float_precision='high')\n",
    "\n",
    "def plot_shapley_values(row, includePixelShap=True):\n",
    "    \n",
    "    targetName = {-1: 'Red', 0: 'None', 1: 'Green'}\n",
    "    # Extract RGB image values\n",
    "    image_values = row[1:148].values.reshape(7, 7, 3).transpose((1, 0, 2))\n",
    "    \n",
    "    # Extract and reshape Shapley values\n",
    "    shap_values = row.filter(like='shap').values.reshape(7, 7, 3).transpose((1, 0, 2))\n",
    "    \n",
    "    if includePixelShap:\n",
    "        fig, axes = plt.subplots(1, 4, figsize=(20, 5))\n",
    "        channels = ['Red', 'Green', 'Blue']\n",
    "\n",
    "        # Plot original image\n",
    "        axes[0].imshow(image_values)\n",
    "        axes[0].set_title(f'The agent reached: {targetName[row[\"target\"]]}')\n",
    "        axes[0].axis('off')\n",
    "        \n",
    "        for i, ax in enumerate(axes[1:]):\n",
    "            im = ax.imshow(shap_values[:, :, i], cmap='RdBu_r', interpolation='nearest', vmin=-0.2, vmax=0.2)\n",
    "            ax.set_title(f'{channels[i]} pixel SHAP values')\n",
    "            ax.axis('off')\n",
    "            fig.colorbar(im, ax=ax, fraction=0.046, pad=0.04)\n",
    "    else:\n",
    "        print(f'The agent reached: {targetName[row[\"target\"]]}')\n",
    "    \n",
    "    shap.image_plot([shap_values], image_values, show=False)\n",
    "    plt.show()\n",
    "\n",
    "\n",
    "#for episode in range(10, 20):\n",
    "#    evalEpisode = shap_r00_g10_1500k.iloc[episode]\n",
    "#    plot_shapley_values(evalEpisode)\n",
    "\n",
    "for row in shap_test[:10].iterrows():\n",
    "    plot_shapley_values(row[1], includePixelShap=False)"
   ]
  },
  {
   "cell_type": "code",
   "execution_count": 49,
   "metadata": {},
   "outputs": [],
   "source": [
    "# Merge and shuffle(?) the datasets\n",
    "act_train = pd.concat([act_r01_g10_1500k, act_r02_g10_1500k, act_r03_g10_1500k, act_r04_g10_1500k, act_r05_g10_1500k, act_r06_g10_1500k, act_r07_g10_1500k, act_r08_g10_1500k, act_r09_g10_1500k, act_r10_g01_1500k, act_r10_g02_1500k, act_r10_g03_1500k, act_r10_g04_1500k, act_r10_g05_1500k, act_r10_g06_1500k, act_r10_g07_1500k, act_r10_g08_1500k, act_r10_g09_1500k], ignore_index=True)\n",
    "# act_train = act_train.sample(frac=1, random_state=random_state).reset_index(drop=True)\n",
    "#act_train = act_train.drop([\"agentX\",\"agentY\",\"redX\",\"redY\",\"greenX\",\"greenY\"], axis=1)\n",
    "act_df_test = pd.concat([act_r00_g10_1500k, act_r10_g10_1500k, act_r10_g00_1500k], ignore_index=True)\n",
    "#act_df_test = act_df_test.drop([\"agentX\",\"agentY\",\"redX\",\"redY\",\"greenX\",\"greenY\"], axis=1)\n",
    "\n",
    "act_x_train = act_train.drop('target', axis=1)\n",
    "act_y_train = act_train['target']\n",
    "act_x_test = act_df_test.drop('target', axis=1)\n",
    "act_y_test = act_df_test['target']\n",
    "\n",
    "shap_train = pd.concat([shap_r01_g10_1500k, shap_r02_g10_1500k, shap_r03_g10_1500k, shap_r04_g10_1500k, shap_r05_g10_1500k, shap_r06_g10_1500k, shap_r07_g10_1500k, shap_r08_g10_1500k, shap_r09_g10_1500k, shap_r10_g01_1500k, shap_r10_g02_1500k, shap_r10_g03_1500k, shap_r10_g04_1500k, shap_r10_g05_1500k, shap_r10_g06_1500k, shap_r10_g07_1500k, shap_r10_g08_1500k, shap_r10_g09_1500k], ignore_index=True)\n",
    "# shap_train = shap_train.sample(frac=1, random_state=random_state).reset_index(drop=True)\n",
    "shap_test = pd.concat([shap_r00_g10_1500k, shap_r10_g10_1500k, shap_r10_g00_1500k], ignore_index=True)\n",
    "\n",
    "shap_x_train = shap_train.drop('target', axis=1)\n",
    "shap_y_train = shap_train['target']\n",
    "shap_x_test = shap_test.drop('target', axis=1)\n",
    "shap_y_test = shap_test['target']"
   ]
  },
  {
   "cell_type": "code",
   "execution_count": 50,
   "metadata": {},
   "outputs": [
    {
     "name": "stdout",
     "output_type": "stream",
     "text": [
      "Linear regression, Activation dataset\n",
      "Total correct predictions: 826 out of 6000\n",
      "Accuracy: 13.77%\n",
      "\n",
      "Confusion matrix:\n",
      "[[ 117 1612 1294]\n",
      " [   2    6    5]\n",
      " [1031 1230  703]]\n"
     ]
    }
   ],
   "source": [
    "actLinRegModel = LinearRegression()\n",
    "actLinRegModel.fit(act_x_train, act_y_train)\n",
    "act_y_pred = actLinRegModel.predict(act_x_test)\n",
    "act_y_pred = np.clip(np.round(act_y_pred), -1, 1) # Round y_pred to int, max 1 and min -1\n",
    "total_correct = (act_y_test == act_y_pred).sum()\n",
    "total_samples = len(act_y_test)\n",
    "print(f\"Linear regression, Activation dataset\")\n",
    "print(f\"Total correct predictions: {total_correct} out of {total_samples}\")\n",
    "print(f\"Accuracy: {accuracy_score(act_y_test, act_y_pred):.2%}\")\n",
    "print(f\"\\nConfusion matrix:\\n{confusion_matrix(act_y_test, act_y_pred)}\")\n"
   ]
  },
  {
   "cell_type": "code",
   "execution_count": 51,
   "metadata": {},
   "outputs": [
    {
     "name": "stdout",
     "output_type": "stream",
     "text": [
      "Linear regression, Shap dataset\n",
      "Total correct predictions: 26 out of 6000\n",
      "Accuracy: 0.43%\n",
      "\n",
      "Confusion matrix:\n",
      "[[   0 3019    0]\n",
      " [   0   21    0]\n",
      " [   0 2955    5]]\n"
     ]
    },
    {
     "data": {
      "image/png": "[encoded data removed]",
      "text/plain": [
       "<Figure size 1200x800 with 1 Axes>"
      ]
     },
     "metadata": {},
     "output_type": "display_data"
    }
   ],
   "source": [
    "shapLinRegModel = LinearRegression()\n",
    "shapLinRegModel.fit(shap_x_train, shap_y_train)\n",
    "shap_y_pred = shapLinRegModel.predict(shap_x_test)\n",
    "shap_y_pred = np.clip(np.round(shap_y_pred), -1, 1) # Round y_pred to int, max 1 and min -1\n",
    "total_correct = (shap_y_test == shap_y_pred).sum()\n",
    "total_samples = len(shap_y_test)\n",
    "print(f\"Linear regression, Shap dataset\")\n",
    "print(f\"Total correct predictions: {total_correct} out of {total_samples}\")\n",
    "print(f\"Accuracy: {accuracy_score(shap_y_test, shap_y_pred):.2%}\")\n",
    "print(f\"\\nConfusion matrix:\\n{confusion_matrix(shap_y_test, shap_y_pred)}\")\n",
    "\n",
    "# Checka koefficienter\n",
    "\n",
    "# Get the coefficients\n",
    "coefficients = shapLinRegModel.coef_\n",
    "intercept = shapLinRegModel.intercept_\n",
    "\n",
    "# If your model has a single target (not multiclass), reshape coefficients\n",
    "if len(coefficients.shape) > 1:\n",
    "    # For multiclass, you might want to plot coefficients for each class\n",
    "    # This example plots coefficients for the first class\n",
    "    coefficients = coefficients[0]\n",
    "\n",
    "# Create a list of feature names (replace with your actual feature names if available)\n",
    "feature_names = [f\"Feature {i}\" for i in range(len(coefficients))]\n",
    "\n",
    "# Sort coefficients by absolute value to highlight the most significant ones\n",
    "sorted_indices = np.argsort(np.abs(coefficients))[::-1]\n",
    "sorted_coefficients = coefficients[sorted_indices]\n",
    "sorted_features = [feature_names[i] for i in sorted_indices]\n",
    "\n",
    "# Plot\n",
    "plt.figure(figsize=(12, 8))\n",
    "bars = plt.bar(range(len(sorted_coefficients)), sorted_coefficients)\n",
    "\n",
    "# Color code the bars (positive: blue, negative: red)\n",
    "for i, bar in enumerate(bars):\n",
    "    if sorted_coefficients[i] < 0:\n",
    "        bar.set_color('r')\n",
    "    else:\n",
    "        bar.set_color('b')\n",
    "\n",
    "plt.xlabel('Features')\n",
    "plt.ylabel('Coefficient Value')\n",
    "plt.title('Linear Regression Coefficients')\n",
    "# plt.xticks(range(len(sorted_coefficients)), sorted_features, rotation=90)\n",
    "plt.tight_layout()\n",
    "\n",
    "# Add a horizontal line at y=0\n",
    "plt.axhline(y=0, color='k', linestyle='-', alpha=0.3)\n",
    "\n",
    "# Add intercept value as text\n",
    "plt.figtext(0.7, 0.01, f'Intercept: {intercept:.4f}', ha='center')\n",
    "\n",
    "plt.show()"
   ]
  },
  {
   "cell_type": "code",
   "execution_count": 52,
   "metadata": {},
   "outputs": [
    {
     "name": "stdout",
     "output_type": "stream",
     "text": [
      "Decicion tree, Activation dataset\n",
      "Total correct predictions: 4200 out of 6000\n",
      "Accuracy: 70.00%\n",
      "\n",
      "Confusion matrix:\n",
      "[[2300    0  723]\n",
      " [   2    0   11]\n",
      " [1043   21 1900]]\n"
     ]
    }
   ],
   "source": [
    "actTreeModel = DecisionTreeClassifier(random_state=42)\n",
    "actTreeModel.fit(act_x_train, act_y_train)\n",
    "act_y_pred = actTreeModel.predict(act_x_test)\n",
    "total_correct = (act_y_test == act_y_pred).sum()\n",
    "total_samples = len(act_y_test)\n",
    "print(f\"Decicion tree, Activation dataset\")\n",
    "print(f\"Total correct predictions: {total_correct} out of {total_samples}\")\n",
    "print(f\"Accuracy: {accuracy_score(act_y_test, act_y_pred):.2%}\")\n",
    "print(f\"\\nConfusion matrix:\\n{confusion_matrix(act_y_test, act_y_pred)}\")"
   ]
  },
  {
   "cell_type": "code",
   "execution_count": 53,
   "metadata": {},
   "outputs": [
    {
     "name": "stdout",
     "output_type": "stream",
     "text": [
      "Decicion tree, Shap dataset\n",
      "Total correct predictions: 4813 out of 6000\n",
      "Accuracy: 80.22%\n",
      "\n",
      "Confusion matrix:\n",
      "[[2836    5  178]\n",
      " [  14    0    7]\n",
      " [ 921   62 1977]]\n"
     ]
    }
   ],
   "source": [
    "shapTreeModel = DecisionTreeClassifier(random_state=42)\n",
    "shapTreeModel.fit(shap_x_train, shap_y_train)\n",
    "shap_y_pred = shapTreeModel.predict(shap_x_test)\n",
    "total_correct = (shap_y_test == shap_y_pred).sum()\n",
    "total_samples = len(shap_y_test)\n",
    "print(f\"Decicion tree, Shap dataset\")\n",
    "print(f\"Total correct predictions: {total_correct} out of {total_samples}\")\n",
    "print(f\"Accuracy: {accuracy_score(shap_y_test, shap_y_pred):.2%}\")\n",
    "print(f\"\\nConfusion matrix:\\n{confusion_matrix(shap_y_test, shap_y_pred)}\")"
   ]
  },
  {
   "cell_type": "markdown",
   "metadata": {},
   "source": [
    "Earlier..\n",
    "\n",
    "Done:\n",
    "- Train 21 models\n",
    "- Create all activation and shap datasets\n",
    "- Precicted unseen network datasets\n",
    "\n",
    "Answered questions:\n",
    "- Should the models retain the 5% epsilon during dataset creation? Yes\n",
    "- Does the SHAP background data sound sound? Compare\n",
    "- Should the decision tree recieve coordinates too? Format? Yes, no feature engineering"
   ]
  },
  {
   "cell_type": "markdown",
   "metadata": {},
   "source": [
    "### Meeting 2025-02-24\n",
    "\n",
    "Next up:\n",
    "- Implement Gradcam\n",
    "\n",
    "Questions:\n",
    "- Should I switch to an environment where the agent can't see the goal? Yes\n",
    "- What other XAI methods makes sense to implement after gradcam? Wait\n",
    "- Should I spend time visualising these results to be able to put them into the thesis? Yes\n",
    "\n",
    "Todo:\n",
    "- Visualise using shap\n",
    "- Alter environment\n",
    "\n",
    "\n"
   ]
  }
 ],
 "metadata": {
  "kernelspec": {
   "display_name": ".venv",
   "language": "python",
   "name": "python3"
  },
  "language_info": {
   "codemirror_mode": {
    "name": "ipython",
    "version": 3
   },
   "file_extension": ".py",
   "mimetype": "text/x-python",
   "name": "python",
   "nbconvert_exporter": "python",
   "pygments_lexer": "ipython3",
   "version": "3.12.2"
  }
 },
 "nbformat": 4,
 "nbformat_minor": 2
}
