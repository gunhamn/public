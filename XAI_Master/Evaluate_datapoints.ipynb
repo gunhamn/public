{
 "cells": [
  {
   "cell_type": "code",
   "execution_count": 2,
   "metadata": {},
   "outputs": [],
   "source": [
    "import numpy as np\n",
    "import matplotlib.pyplot as plt\n",
    "import pandas as pd\n",
    "from sklearn.model_selection import train_test_split\n",
    "from sklearn.linear_model import LinearRegression\n",
    "from sklearn.tree import DecisionTreeClassifier\n",
    "from sklearn.metrics import mean_squared_error, r2_score, accuracy_score, confusion_matrix\n",
    "import shap\n",
    "\n",
    "np.random.seed(42)\n",
    "random_state = 42"
   ]
  },
  {
   "cell_type": "code",
   "execution_count": 3,
   "metadata": {},
   "outputs": [
    {
     "data": {
      "text/html": [
       "<div>\n",
       "<style scoped>\n",
       "    .dataframe tbody tr th:only-of-type {\n",
       "        vertical-align: middle;\n",
       "    }\n",
       "\n",
       "    .dataframe tbody tr th {\n",
       "        vertical-align: top;\n",
       "    }\n",
       "\n",
       "    .dataframe thead th {\n",
       "        text-align: right;\n",
       "    }\n",
       "</style>\n",
       "<table border=\"1\" class=\"dataframe\">\n",
       "  <thead>\n",
       "    <tr style=\"text-align: right;\">\n",
       "      <th></th>\n",
       "      <th>target</th>\n",
       "      <th>00r</th>\n",
       "      <th>00g</th>\n",
       "      <th>00b</th>\n",
       "      <th>01r</th>\n",
       "      <th>01g</th>\n",
       "      <th>01b</th>\n",
       "      <th>02r</th>\n",
       "      <th>02g</th>\n",
       "      <th>02b</th>\n",
       "      <th>...</th>\n",
       "      <th>a119</th>\n",
       "      <th>a120</th>\n",
       "      <th>a121</th>\n",
       "      <th>a122</th>\n",
       "      <th>a123</th>\n",
       "      <th>a124</th>\n",
       "      <th>a125</th>\n",
       "      <th>a126</th>\n",
       "      <th>a127</th>\n",
       "      <th>a128</th>\n",
       "    </tr>\n",
       "  </thead>\n",
       "  <tbody>\n",
       "    <tr>\n",
       "      <th>0</th>\n",
       "      <td>1.0</td>\n",
       "      <td>1.0</td>\n",
       "      <td>1.0</td>\n",
       "      <td>1.0</td>\n",
       "      <td>1.0</td>\n",
       "      <td>1.0</td>\n",
       "      <td>1.0</td>\n",
       "      <td>1.0</td>\n",
       "      <td>0.0</td>\n",
       "      <td>0.0</td>\n",
       "      <td>...</td>\n",
       "      <td>-0.370958</td>\n",
       "      <td>0.015664</td>\n",
       "      <td>0.200085</td>\n",
       "      <td>-0.104260</td>\n",
       "      <td>-0.042845</td>\n",
       "      <td>-0.147230</td>\n",
       "      <td>-0.252146</td>\n",
       "      <td>-0.114353</td>\n",
       "      <td>-0.054936</td>\n",
       "      <td>-0.079697</td>\n",
       "    </tr>\n",
       "    <tr>\n",
       "      <th>1</th>\n",
       "      <td>-1.0</td>\n",
       "      <td>1.0</td>\n",
       "      <td>1.0</td>\n",
       "      <td>1.0</td>\n",
       "      <td>1.0</td>\n",
       "      <td>1.0</td>\n",
       "      <td>1.0</td>\n",
       "      <td>1.0</td>\n",
       "      <td>1.0</td>\n",
       "      <td>1.0</td>\n",
       "      <td>...</td>\n",
       "      <td>-0.310895</td>\n",
       "      <td>0.025990</td>\n",
       "      <td>0.219086</td>\n",
       "      <td>-0.101220</td>\n",
       "      <td>-0.038705</td>\n",
       "      <td>-0.135953</td>\n",
       "      <td>-0.253984</td>\n",
       "      <td>-0.115242</td>\n",
       "      <td>-0.059519</td>\n",
       "      <td>-0.069593</td>\n",
       "    </tr>\n",
       "    <tr>\n",
       "      <th>2</th>\n",
       "      <td>1.0</td>\n",
       "      <td>1.0</td>\n",
       "      <td>1.0</td>\n",
       "      <td>1.0</td>\n",
       "      <td>1.0</td>\n",
       "      <td>1.0</td>\n",
       "      <td>1.0</td>\n",
       "      <td>0.0</td>\n",
       "      <td>1.0</td>\n",
       "      <td>0.0</td>\n",
       "      <td>...</td>\n",
       "      <td>-0.283055</td>\n",
       "      <td>-0.372314</td>\n",
       "      <td>-0.212476</td>\n",
       "      <td>-0.132545</td>\n",
       "      <td>-0.052872</td>\n",
       "      <td>-0.147475</td>\n",
       "      <td>-0.231721</td>\n",
       "      <td>-0.065279</td>\n",
       "      <td>-0.038018</td>\n",
       "      <td>-0.078415</td>\n",
       "    </tr>\n",
       "    <tr>\n",
       "      <th>3</th>\n",
       "      <td>1.0</td>\n",
       "      <td>1.0</td>\n",
       "      <td>1.0</td>\n",
       "      <td>1.0</td>\n",
       "      <td>1.0</td>\n",
       "      <td>1.0</td>\n",
       "      <td>1.0</td>\n",
       "      <td>1.0</td>\n",
       "      <td>1.0</td>\n",
       "      <td>1.0</td>\n",
       "      <td>...</td>\n",
       "      <td>-0.424393</td>\n",
       "      <td>-0.338818</td>\n",
       "      <td>-0.157856</td>\n",
       "      <td>-0.135356</td>\n",
       "      <td>-0.053728</td>\n",
       "      <td>-0.122333</td>\n",
       "      <td>-0.116633</td>\n",
       "      <td>-0.060886</td>\n",
       "      <td>-0.031313</td>\n",
       "      <td>-0.087665</td>\n",
       "    </tr>\n",
       "    <tr>\n",
       "      <th>4</th>\n",
       "      <td>1.0</td>\n",
       "      <td>1.0</td>\n",
       "      <td>1.0</td>\n",
       "      <td>1.0</td>\n",
       "      <td>1.0</td>\n",
       "      <td>1.0</td>\n",
       "      <td>1.0</td>\n",
       "      <td>1.0</td>\n",
       "      <td>1.0</td>\n",
       "      <td>1.0</td>\n",
       "      <td>...</td>\n",
       "      <td>-0.308029</td>\n",
       "      <td>-0.315605</td>\n",
       "      <td>0.258038</td>\n",
       "      <td>-0.096551</td>\n",
       "      <td>-0.037616</td>\n",
       "      <td>-0.135054</td>\n",
       "      <td>-0.302021</td>\n",
       "      <td>-0.082572</td>\n",
       "      <td>-0.049799</td>\n",
       "      <td>-0.061600</td>\n",
       "    </tr>\n",
       "  </tbody>\n",
       "</table>\n",
       "<p>5 rows × 276 columns</p>\n",
       "</div>"
      ],
      "text/plain": [
       "   target  00r  00g  00b  01r  01g  01b  02r  02g  02b  ...      a119  \\\n",
       "0     1.0  1.0  1.0  1.0  1.0  1.0  1.0  1.0  0.0  0.0  ... -0.370958   \n",
       "1    -1.0  1.0  1.0  1.0  1.0  1.0  1.0  1.0  1.0  1.0  ... -0.310895   \n",
       "2     1.0  1.0  1.0  1.0  1.0  1.0  1.0  0.0  1.0  0.0  ... -0.283055   \n",
       "3     1.0  1.0  1.0  1.0  1.0  1.0  1.0  1.0  1.0  1.0  ... -0.424393   \n",
       "4     1.0  1.0  1.0  1.0  1.0  1.0  1.0  1.0  1.0  1.0  ... -0.308029   \n",
       "\n",
       "       a120      a121      a122      a123      a124      a125      a126  \\\n",
       "0  0.015664  0.200085 -0.104260 -0.042845 -0.147230 -0.252146 -0.114353   \n",
       "1  0.025990  0.219086 -0.101220 -0.038705 -0.135953 -0.253984 -0.115242   \n",
       "2 -0.372314 -0.212476 -0.132545 -0.052872 -0.147475 -0.231721 -0.065279   \n",
       "3 -0.338818 -0.157856 -0.135356 -0.053728 -0.122333 -0.116633 -0.060886   \n",
       "4 -0.315605  0.258038 -0.096551 -0.037616 -0.135054 -0.302021 -0.082572   \n",
       "\n",
       "       a127      a128  \n",
       "0 -0.054936 -0.079697  \n",
       "1 -0.059519 -0.069593  \n",
       "2 -0.038018 -0.078415  \n",
       "3 -0.031313 -0.087665  \n",
       "4 -0.049799 -0.061600  \n",
       "\n",
       "[5 rows x 276 columns]"
      ]
     },
     "execution_count": 3,
     "metadata": {},
     "output_type": "execute_result"
    }
   ],
   "source": [
    "modelNames = [\"r00_g10_1500k\",\n",
    "              \"r01_g10_1500k\",\n",
    "              \"r02_g10_1500k\",\n",
    "              \"r03_g10_1500k\",\n",
    "              \"r04_g10_1500k\",\n",
    "              \"r05_g10_1500k\",\n",
    "              \"r06_g10_1500k\",\n",
    "              \"r07_g10_1500k\",\n",
    "              \"r08_g10_1500k\",\n",
    "              \"r09_g10_1500k\",\n",
    "              \"r10_g00_1500k\",\n",
    "              \"r10_g01_1500k\",\n",
    "              \"r10_g02_1500k\",\n",
    "              \"r10_g03_1500k\",\n",
    "              \"r10_g04_1500k\",\n",
    "              \"r10_g05_1500k\",\n",
    "              \"r10_g06_1500k\",\n",
    "              \"r10_g07_1500k\",\n",
    "              \"r10_g08_1500k\",\n",
    "              \"r10_g09_1500k\",\n",
    "              \"r10_g10_1500k\"]\n",
    "\n",
    "# all 21 act datasets\n",
    "act_r00_g10_1500k = pd.read_csv(\"C:/Projects/public/XAI_Master/datasets/act_r00_g10_1500k.csv\", header=0, index_col=None, float_precision='high')\n",
    "act_r01_g10_1500k = pd.read_csv(\"C:/Projects/public/XAI_Master/datasets/act_r01_g10_1500k.csv\", header=0, index_col=None, float_precision='high')\n",
    "act_r02_g10_1500k = pd.read_csv(\"C:/Projects/public/XAI_Master/datasets/act_r02_g10_1500k.csv\", header=0, index_col=None, float_precision='high')\n",
    "act_r03_g10_1500k = pd.read_csv(\"C:/Projects/public/XAI_Master/datasets/act_r03_g10_1500k.csv\", header=0, index_col=None, float_precision='high')\n",
    "act_r04_g10_1500k = pd.read_csv(\"C:/Projects/public/XAI_Master/datasets/act_r04_g10_1500k.csv\", header=0, index_col=None, float_precision='high')\n",
    "act_r05_g10_1500k = pd.read_csv(\"C:/Projects/public/XAI_Master/datasets/act_r05_g10_1500k.csv\", header=0, index_col=None, float_precision='high')\n",
    "act_r06_g10_1500k = pd.read_csv(\"C:/Projects/public/XAI_Master/datasets/act_r06_g10_1500k.csv\", header=0, index_col=None, float_precision='high')\n",
    "act_r07_g10_1500k = pd.read_csv(\"C:/Projects/public/XAI_Master/datasets/act_r07_g10_1500k.csv\", header=0, index_col=None, float_precision='high')\n",
    "act_r08_g10_1500k = pd.read_csv(\"C:/Projects/public/XAI_Master/datasets/act_r08_g10_1500k.csv\", header=0, index_col=None, float_precision='high')\n",
    "act_r09_g10_1500k = pd.read_csv(\"C:/Projects/public/XAI_Master/datasets/act_r09_g10_1500k.csv\", header=0, index_col=None, float_precision='high')\n",
    "act_r10_g00_1500k = pd.read_csv(\"C:/Projects/public/XAI_Master/datasets/act_r10_g00_1500k.csv\", header=0, index_col=None, float_precision='high')\n",
    "act_r10_g01_1500k = pd.read_csv(\"C:/Projects/public/XAI_Master/datasets/act_r10_g01_1500k.csv\", header=0, index_col=None, float_precision='high')\n",
    "act_r10_g02_1500k = pd.read_csv(\"C:/Projects/public/XAI_Master/datasets/act_r10_g02_1500k.csv\", header=0, index_col=None, float_precision='high')\n",
    "act_r10_g03_1500k = pd.read_csv(\"C:/Projects/public/XAI_Master/datasets/act_r10_g03_1500k.csv\", header=0, index_col=None, float_precision='high')\n",
    "act_r10_g04_1500k = pd.read_csv(\"C:/Projects/public/XAI_Master/datasets/act_r10_g04_1500k.csv\", header=0, index_col=None, float_precision='high')\n",
    "act_r10_g05_1500k = pd.read_csv(\"C:/Projects/public/XAI_Master/datasets/act_r10_g05_1500k.csv\", header=0, index_col=None, float_precision='high')\n",
    "act_r10_g06_1500k = pd.read_csv(\"C:/Projects/public/XAI_Master/datasets/act_r10_g06_1500k.csv\", header=0, index_col=None, float_precision='high')\n",
    "act_r10_g07_1500k = pd.read_csv(\"C:/Projects/public/XAI_Master/datasets/act_r10_g07_1500k.csv\", header=0, index_col=None, float_precision='high')\n",
    "act_r10_g08_1500k = pd.read_csv(\"C:/Projects/public/XAI_Master/datasets/act_r10_g08_1500k.csv\", header=0, index_col=None, float_precision='high')\n",
    "act_r10_g09_1500k = pd.read_csv(\"C:/Projects/public/XAI_Master/datasets/act_r10_g09_1500k.csv\", header=0, index_col=None, float_precision='high')\n",
    "act_r10_g10_1500k = pd.read_csv(\"C:/Projects/public/XAI_Master/datasets/act_r10_g10_1500k.csv\", header=0, index_col=None, float_precision='high')\n",
    "\n",
    "# all 21 shap datasets\n",
    "shap_r00_g10_1500k = pd.read_csv(\"C:/Projects/public/XAI_Master/datasets/shap_r00_g10_1500k.csv\", header=0, index_col=None, float_precision='high')\n",
    "shap_r01_g10_1500k = pd.read_csv(\"C:/Projects/public/XAI_Master/datasets/shap_r01_g10_1500k.csv\", header=0, index_col=None, float_precision='high')\n",
    "shap_r02_g10_1500k = pd.read_csv(\"C:/Projects/public/XAI_Master/datasets/shap_r02_g10_1500k.csv\", header=0, index_col=None, float_precision='high')\n",
    "shap_r03_g10_1500k = pd.read_csv(\"C:/Projects/public/XAI_Master/datasets/shap_r03_g10_1500k.csv\", header=0, index_col=None, float_precision='high')\n",
    "shap_r04_g10_1500k = pd.read_csv(\"C:/Projects/public/XAI_Master/datasets/shap_r04_g10_1500k.csv\", header=0, index_col=None, float_precision='high')\n",
    "shap_r05_g10_1500k = pd.read_csv(\"C:/Projects/public/XAI_Master/datasets/shap_r05_g10_1500k.csv\", header=0, index_col=None, float_precision='high')\n",
    "shap_r06_g10_1500k = pd.read_csv(\"C:/Projects/public/XAI_Master/datasets/shap_r06_g10_1500k.csv\", header=0, index_col=None, float_precision='high')\n",
    "shap_r07_g10_1500k = pd.read_csv(\"C:/Projects/public/XAI_Master/datasets/shap_r07_g10_1500k.csv\", header=0, index_col=None, float_precision='high')\n",
    "shap_r08_g10_1500k = pd.read_csv(\"C:/Projects/public/XAI_Master/datasets/shap_r08_g10_1500k.csv\", header=0, index_col=None, float_precision='high')\n",
    "shap_r09_g10_1500k = pd.read_csv(\"C:/Projects/public/XAI_Master/datasets/shap_r09_g10_1500k.csv\", header=0, index_col=None, float_precision='high')\n",
    "shap_r10_g00_1500k = pd.read_csv(\"C:/Projects/public/XAI_Master/datasets/shap_r10_g00_1500k.csv\", header=0, index_col=None, float_precision='high')\n",
    "shap_r10_g01_1500k = pd.read_csv(\"C:/Projects/public/XAI_Master/datasets/shap_r10_g01_1500k.csv\", header=0, index_col=None, float_precision='high')\n",
    "shap_r10_g02_1500k = pd.read_csv(\"C:/Projects/public/XAI_Master/datasets/shap_r10_g02_1500k.csv\", header=0, index_col=None, float_precision='high')\n",
    "shap_r10_g03_1500k = pd.read_csv(\"C:/Projects/public/XAI_Master/datasets/shap_r10_g03_1500k.csv\", header=0, index_col=None, float_precision='high')\n",
    "shap_r10_g04_1500k = pd.read_csv(\"C:/Projects/public/XAI_Master/datasets/shap_r10_g04_1500k.csv\", header=0, index_col=None, float_precision='high')\n",
    "shap_r10_g05_1500k = pd.read_csv(\"C:/Projects/public/XAI_Master/datasets/shap_r10_g05_1500k.csv\", header=0, index_col=None, float_precision='high')\n",
    "shap_r10_g06_1500k = pd.read_csv(\"C:/Projects/public/XAI_Master/datasets/shap_r10_g06_1500k.csv\", header=0, index_col=None, float_precision='high')\n",
    "shap_r10_g07_1500k = pd.read_csv(\"C:/Projects/public/XAI_Master/datasets/shap_r10_g07_1500k.csv\", header=0, index_col=None, float_precision='high')\n",
    "shap_r10_g08_1500k = pd.read_csv(\"C:/Projects/public/XAI_Master/datasets/shap_r10_g08_1500k.csv\", header=0, index_col=None, float_precision='high')\n",
    "shap_r10_g09_1500k = pd.read_csv(\"C:/Projects/public/XAI_Master/datasets/shap_r10_g09_1500k.csv\", header=0, index_col=None, float_precision='high')\n",
    "shap_r10_g10_1500k = pd.read_csv(\"C:/Projects/public/XAI_Master/datasets/shap_r10_g10_1500k.csv\", header=0, index_col=None, float_precision='high')\n",
    "\n",
    "\n",
    "\n",
    "\n",
    "\n",
    "act_r10_g10_1500k.head()"
   ]
  },
  {
   "cell_type": "code",
   "execution_count": 4,
   "metadata": {},
   "outputs": [
    {
     "data": {
      "text/html": [
       "<div>\n",
       "<style scoped>\n",
       "    .dataframe tbody tr th:only-of-type {\n",
       "        vertical-align: middle;\n",
       "    }\n",
       "\n",
       "    .dataframe tbody tr th {\n",
       "        vertical-align: top;\n",
       "    }\n",
       "\n",
       "    .dataframe thead th {\n",
       "        text-align: right;\n",
       "    }\n",
       "</style>\n",
       "<table border=\"1\" class=\"dataframe\">\n",
       "  <thead>\n",
       "    <tr style=\"text-align: right;\">\n",
       "      <th></th>\n",
       "      <th>target</th>\n",
       "      <th>00r</th>\n",
       "      <th>00g</th>\n",
       "      <th>00b</th>\n",
       "      <th>01r</th>\n",
       "      <th>01g</th>\n",
       "      <th>01b</th>\n",
       "      <th>02r</th>\n",
       "      <th>02g</th>\n",
       "      <th>02b</th>\n",
       "      <th>...</th>\n",
       "      <th>shap63b</th>\n",
       "      <th>shap64r</th>\n",
       "      <th>shap64g</th>\n",
       "      <th>shap64b</th>\n",
       "      <th>shap65r</th>\n",
       "      <th>shap65g</th>\n",
       "      <th>shap65b</th>\n",
       "      <th>shap66r</th>\n",
       "      <th>shap66g</th>\n",
       "      <th>shap66b</th>\n",
       "    </tr>\n",
       "  </thead>\n",
       "  <tbody>\n",
       "    <tr>\n",
       "      <th>0</th>\n",
       "      <td>-1.0</td>\n",
       "      <td>1.0</td>\n",
       "      <td>1.0</td>\n",
       "      <td>1.0</td>\n",
       "      <td>1.0</td>\n",
       "      <td>1.0</td>\n",
       "      <td>1.0</td>\n",
       "      <td>1.0</td>\n",
       "      <td>1.0</td>\n",
       "      <td>1.0</td>\n",
       "      <td>...</td>\n",
       "      <td>0.0</td>\n",
       "      <td>0.0</td>\n",
       "      <td>0.0</td>\n",
       "      <td>0.0</td>\n",
       "      <td>0.0</td>\n",
       "      <td>0.0</td>\n",
       "      <td>0.0</td>\n",
       "      <td>-0.057482</td>\n",
       "      <td>-0.136571</td>\n",
       "      <td>0.0</td>\n",
       "    </tr>\n",
       "    <tr>\n",
       "      <th>1</th>\n",
       "      <td>1.0</td>\n",
       "      <td>1.0</td>\n",
       "      <td>1.0</td>\n",
       "      <td>1.0</td>\n",
       "      <td>1.0</td>\n",
       "      <td>1.0</td>\n",
       "      <td>1.0</td>\n",
       "      <td>1.0</td>\n",
       "      <td>1.0</td>\n",
       "      <td>1.0</td>\n",
       "      <td>...</td>\n",
       "      <td>0.0</td>\n",
       "      <td>0.0</td>\n",
       "      <td>0.0</td>\n",
       "      <td>0.0</td>\n",
       "      <td>0.0</td>\n",
       "      <td>0.0</td>\n",
       "      <td>0.0</td>\n",
       "      <td>0.000000</td>\n",
       "      <td>0.000000</td>\n",
       "      <td>0.0</td>\n",
       "    </tr>\n",
       "    <tr>\n",
       "      <th>2</th>\n",
       "      <td>-1.0</td>\n",
       "      <td>1.0</td>\n",
       "      <td>1.0</td>\n",
       "      <td>1.0</td>\n",
       "      <td>1.0</td>\n",
       "      <td>1.0</td>\n",
       "      <td>1.0</td>\n",
       "      <td>1.0</td>\n",
       "      <td>1.0</td>\n",
       "      <td>1.0</td>\n",
       "      <td>...</td>\n",
       "      <td>0.0</td>\n",
       "      <td>0.0</td>\n",
       "      <td>0.0</td>\n",
       "      <td>0.0</td>\n",
       "      <td>0.0</td>\n",
       "      <td>0.0</td>\n",
       "      <td>0.0</td>\n",
       "      <td>0.000000</td>\n",
       "      <td>0.000000</td>\n",
       "      <td>0.0</td>\n",
       "    </tr>\n",
       "    <tr>\n",
       "      <th>3</th>\n",
       "      <td>-1.0</td>\n",
       "      <td>1.0</td>\n",
       "      <td>1.0</td>\n",
       "      <td>1.0</td>\n",
       "      <td>1.0</td>\n",
       "      <td>1.0</td>\n",
       "      <td>1.0</td>\n",
       "      <td>1.0</td>\n",
       "      <td>1.0</td>\n",
       "      <td>1.0</td>\n",
       "      <td>...</td>\n",
       "      <td>0.0</td>\n",
       "      <td>0.0</td>\n",
       "      <td>0.0</td>\n",
       "      <td>0.0</td>\n",
       "      <td>0.0</td>\n",
       "      <td>0.0</td>\n",
       "      <td>0.0</td>\n",
       "      <td>0.000000</td>\n",
       "      <td>0.000000</td>\n",
       "      <td>0.0</td>\n",
       "    </tr>\n",
       "    <tr>\n",
       "      <th>4</th>\n",
       "      <td>-1.0</td>\n",
       "      <td>1.0</td>\n",
       "      <td>1.0</td>\n",
       "      <td>1.0</td>\n",
       "      <td>1.0</td>\n",
       "      <td>1.0</td>\n",
       "      <td>1.0</td>\n",
       "      <td>1.0</td>\n",
       "      <td>1.0</td>\n",
       "      <td>1.0</td>\n",
       "      <td>...</td>\n",
       "      <td>0.0</td>\n",
       "      <td>0.0</td>\n",
       "      <td>0.0</td>\n",
       "      <td>0.0</td>\n",
       "      <td>0.0</td>\n",
       "      <td>0.0</td>\n",
       "      <td>0.0</td>\n",
       "      <td>-0.069929</td>\n",
       "      <td>-0.179187</td>\n",
       "      <td>0.0</td>\n",
       "    </tr>\n",
       "  </tbody>\n",
       "</table>\n",
       "<p>5 rows × 295 columns</p>\n",
       "</div>"
      ],
      "text/plain": [
       "   target  00r  00g  00b  01r  01g  01b  02r  02g  02b  ...  shap63b  shap64r  \\\n",
       "0    -1.0  1.0  1.0  1.0  1.0  1.0  1.0  1.0  1.0  1.0  ...      0.0      0.0   \n",
       "1     1.0  1.0  1.0  1.0  1.0  1.0  1.0  1.0  1.0  1.0  ...      0.0      0.0   \n",
       "2    -1.0  1.0  1.0  1.0  1.0  1.0  1.0  1.0  1.0  1.0  ...      0.0      0.0   \n",
       "3    -1.0  1.0  1.0  1.0  1.0  1.0  1.0  1.0  1.0  1.0  ...      0.0      0.0   \n",
       "4    -1.0  1.0  1.0  1.0  1.0  1.0  1.0  1.0  1.0  1.0  ...      0.0      0.0   \n",
       "\n",
       "   shap64g  shap64b  shap65r  shap65g  shap65b   shap66r   shap66g  shap66b  \n",
       "0      0.0      0.0      0.0      0.0      0.0 -0.057482 -0.136571      0.0  \n",
       "1      0.0      0.0      0.0      0.0      0.0  0.000000  0.000000      0.0  \n",
       "2      0.0      0.0      0.0      0.0      0.0  0.000000  0.000000      0.0  \n",
       "3      0.0      0.0      0.0      0.0      0.0  0.000000  0.000000      0.0  \n",
       "4      0.0      0.0      0.0      0.0      0.0 -0.069929 -0.179187      0.0  \n",
       "\n",
       "[5 rows x 295 columns]"
      ]
     },
     "execution_count": 4,
     "metadata": {},
     "output_type": "execute_result"
    }
   ],
   "source": [
    "shap_r10_g10_1500k.head()"
   ]
  },
  {
   "cell_type": "code",
   "execution_count": 5,
   "metadata": {},
   "outputs": [
    {
     "name": "stdout",
     "output_type": "stream",
     "text": [
      "      target  00r  00g  00b  01r  01g  01b  02r  02g  02b  ...  shap63b  \\\n",
      "85       0.0  1.0  1.0  1.0  1.0  1.0  1.0  1.0  1.0  1.0  ...      0.0   \n",
      "634      0.0  1.0  1.0  1.0  0.0  1.0  0.0  1.0  1.0  1.0  ...      0.0   \n",
      "728      0.0  1.0  1.0  1.0  1.0  1.0  1.0  1.0  1.0  1.0  ...      0.0   \n",
      "1041     0.0  1.0  0.0  0.0  0.0  1.0  0.0  1.0  1.0  1.0  ...      0.0   \n",
      "1161     0.0  1.0  1.0  1.0  1.0  1.0  1.0  1.0  1.0  1.0  ...      0.0   \n",
      "1349     0.0  1.0  1.0  1.0  1.0  1.0  1.0  1.0  1.0  1.0  ...      0.0   \n",
      "1474     0.0  1.0  1.0  1.0  1.0  1.0  1.0  1.0  0.0  0.0  ...      0.0   \n",
      "1583     0.0  1.0  1.0  1.0  1.0  1.0  1.0  1.0  1.0  1.0  ...      0.0   \n",
      "1673     0.0  1.0  1.0  1.0  1.0  1.0  1.0  1.0  1.0  1.0  ...      0.0   \n",
      "1759     0.0  1.0  1.0  1.0  1.0  1.0  1.0  1.0  0.0  0.0  ...      0.0   \n",
      "1931     0.0  1.0  1.0  1.0  1.0  1.0  1.0  1.0  1.0  1.0  ...      0.0   \n",
      "1969     0.0  1.0  1.0  1.0  1.0  1.0  1.0  1.0  1.0  1.0  ...      0.0   \n",
      "\n",
      "      shap64r  shap64g  shap64b  shap65r  shap65g  shap65b  shap66r   shap66g  \\\n",
      "85        0.0      0.0      0.0      0.0      0.0      0.0 -0.04199 -0.041713   \n",
      "634       0.0      0.0      0.0      0.0      0.0      0.0  0.00000  0.000000   \n",
      "728       0.0      0.0      0.0      0.0      0.0      0.0  0.00000  0.000000   \n",
      "1041      0.0      0.0      0.0      0.0      0.0      0.0  0.00000  0.000000   \n",
      "1161      0.0      0.0      0.0      0.0      0.0      0.0  0.00000  0.000000   \n",
      "1349      0.0      0.0      0.0      0.0      0.0      0.0  0.00000  0.000000   \n",
      "1474      0.0      0.0      0.0      0.0      0.0      0.0  0.00000  0.000000   \n",
      "1583      0.0      0.0      0.0      0.0      0.0      0.0  0.00000  0.000000   \n",
      "1673      0.0      0.0      0.0      0.0      0.0      0.0  0.00000  0.000000   \n",
      "1759      0.0      0.0      0.0      0.0      0.0      0.0  0.00000  0.000000   \n",
      "1931      0.0      0.0      0.0      0.0      0.0      0.0  0.00000  0.000000   \n",
      "1969      0.0      0.0      0.0      0.0      0.0      0.0  0.00000  0.000000   \n",
      "\n",
      "      shap66b  \n",
      "85        0.0  \n",
      "634       0.0  \n",
      "728       0.0  \n",
      "1041      0.0  \n",
      "1161      0.0  \n",
      "1349      0.0  \n",
      "1474      0.0  \n",
      "1583      0.0  \n",
      "1673      0.0  \n",
      "1759      0.0  \n",
      "1931      0.0  \n",
      "1969      0.0  \n",
      "\n",
      "[12 rows x 295 columns]\n",
      "      target  00r  00g  00b  01r  01g  01b  02r  02g  02b  ...  shap63b  \\\n",
      "1022     0.0  1.0  1.0  1.0  1.0  1.0  1.0  1.0  1.0  1.0  ...      0.0   \n",
      "\n",
      "      shap64r  shap64g  shap64b  shap65r  shap65g  shap65b  shap66r  shap66g  \\\n",
      "1022      0.0      0.0      0.0      0.0      0.0      0.0      0.0      0.0   \n",
      "\n",
      "      shap66b  \n",
      "1022      0.0  \n",
      "\n",
      "[1 rows x 295 columns]\n",
      "      target  00r  00g  00b  01r  01g  01b  02r  02g  02b  ...  shap63b  \\\n",
      "0        0.0  1.0  1.0  1.0  1.0  1.0  1.0  1.0  1.0  1.0  ...      0.0   \n",
      "290      0.0  1.0  1.0  1.0  1.0  1.0  1.0  1.0  1.0  1.0  ...      0.0   \n",
      "925      0.0  1.0  1.0  1.0  1.0  1.0  1.0  1.0  1.0  1.0  ...      0.0   \n",
      "950      0.0  1.0  1.0  1.0  1.0  1.0  1.0  1.0  1.0  1.0  ...      0.0   \n",
      "1315     0.0  1.0  1.0  1.0  1.0  1.0  1.0  1.0  1.0  1.0  ...      0.0   \n",
      "1381     0.0  1.0  1.0  1.0  1.0  1.0  1.0  1.0  1.0  1.0  ...      0.0   \n",
      "1683     0.0  1.0  1.0  1.0  1.0  1.0  1.0  1.0  1.0  1.0  ...      0.0   \n",
      "1696     0.0  1.0  1.0  1.0  1.0  1.0  1.0  1.0  1.0  1.0  ...      0.0   \n",
      "\n",
      "      shap64r  shap64g  shap64b  shap65r  shap65g  shap65b  shap66r  shap66g  \\\n",
      "0         0.0      0.0      0.0      0.0      0.0      0.0      0.0      0.0   \n",
      "290       0.0      0.0      0.0      0.0      0.0      0.0      0.0      0.0   \n",
      "925       0.0      0.0      0.0      0.0      0.0      0.0      0.0      0.0   \n",
      "950       0.0      0.0      0.0      0.0      0.0      0.0      0.0      0.0   \n",
      "1315      0.0      0.0      0.0      0.0      0.0      0.0      0.0      0.0   \n",
      "1381      0.0      0.0      0.0      0.0      0.0      0.0      0.0      0.0   \n",
      "1683      0.0      0.0      0.0      0.0      0.0      0.0      0.0      0.0   \n",
      "1696      0.0      0.0      0.0      0.0      0.0      0.0      0.0      0.0   \n",
      "\n",
      "      shap66b  \n",
      "0         0.0  \n",
      "290       0.0  \n",
      "925       0.0  \n",
      "950       0.0  \n",
      "1315      0.0  \n",
      "1381      0.0  \n",
      "1683      0.0  \n",
      "1696      0.0  \n",
      "\n",
      "[8 rows x 295 columns]\n"
     ]
    }
   ],
   "source": [
    "# Print all rows in shap_r00_g10_1500k, shap_r10_g10_1500k, shap_r10_g00_1500k where 'target' == 0\n",
    "print(shap_r00_g10_1500k[shap_r00_g10_1500k['target'] == 0])\n",
    "print(shap_r10_g10_1500k[shap_r10_g10_1500k['target'] == 0])\n",
    "print(shap_r10_g00_1500k[shap_r10_g00_1500k['target'] == 0])"
   ]
  },
  {
   "cell_type": "code",
   "execution_count": 6,
   "metadata": {},
   "outputs": [
    {
     "name": "stdout",
     "output_type": "stream",
     "text": [
      "The agent reached: Green\n"
     ]
    },
    {
     "data": {
      "image/png": "[encoded data removed]",
      "text/plain": [
       "<Figure size 600x500 with 3 Axes>"
      ]
     },
     "metadata": {},
     "output_type": "display_data"
    },
    {
     "name": "stdout",
     "output_type": "stream",
     "text": [
      "The agent reached: Green\n"
     ]
    },
    {
     "data": {
      "image/png": "[encoded data removed]",
      "text/plain": [
       "<Figure size 600x500 with 3 Axes>"
      ]
     },
     "metadata": {},
     "output_type": "display_data"
    },
    {
     "name": "stdout",
     "output_type": "stream",
     "text": [
      "The agent reached: Red\n"
     ]
    },
    {
     "data": {
      "image/png": "[encoded data removed]",
      "text/plain": [
       "<Figure size 600x500 with 3 Axes>"
      ]
     },
     "metadata": {},
     "output_type": "display_data"
    },
    {
     "name": "stdout",
     "output_type": "stream",
     "text": [
      "The agent reached: Green\n"
     ]
    },
    {
     "data": {
      "image/png": "[encoded data removed]",
      "text/plain": [
       "<Figure size 600x500 with 3 Axes>"
      ]
     },
     "metadata": {},
     "output_type": "display_data"
    },
    {
     "name": "stdout",
     "output_type": "stream",
     "text": [
      "The agent reached: Red\n"
     ]
    },
    {
     "data": {
      "image/png": "[encoded data removed]",
      "text/plain": [
       "<Figure size 600x500 with 3 Axes>"
      ]
     },
     "metadata": {},
     "output_type": "display_data"
    },
    {
     "name": "stdout",
     "output_type": "stream",
     "text": [
      "The agent reached: Red\n"
     ]
    },
    {
     "data": {
      "image/png": "[encoded data removed]",
      "text/plain": [
       "<Figure size 600x500 with 3 Axes>"
      ]
     },
     "metadata": {},
     "output_type": "display_data"
    },
    {
     "name": "stdout",
     "output_type": "stream",
     "text": [
      "The agent reached: Red\n"
     ]
    },
    {
     "data": {
      "image/png": "[encoded data removed]",
      "text/plain": [
       "<Figure size 600x500 with 3 Axes>"
      ]
     },
     "metadata": {},
     "output_type": "display_data"
    },
    {
     "name": "stdout",
     "output_type": "stream",
     "text": [
      "The agent reached: Green\n"
     ]
    },
    {
     "data": {
      "image/png": "[encoded data removed]",
      "text/plain": [
       "<Figure size 600x500 with 3 Axes>"
      ]
     },
     "metadata": {},
     "output_type": "display_data"
    },
    {
     "name": "stdout",
     "output_type": "stream",
     "text": [
      "The agent reached: Green\n"
     ]
    },
    {
     "data": {
      "image/png": "[encoded data removed]",
      "text/plain": [
       "<Figure size 600x500 with 3 Axes>"
      ]
     },
     "metadata": {},
     "output_type": "display_data"
    },
    {
     "name": "stdout",
     "output_type": "stream",
     "text": [
      "The agent reached: Red\n"
     ]
    },
    {
     "data": {
      "image/png": "[encoded data removed]",
      "text/plain": [
       "<Figure size 600x500 with 3 Axes>"
      ]
     },
     "metadata": {},
     "output_type": "display_data"
    }
   ],
   "source": [
    "shap_test = pd.read_csv(\"C:/Projects/public/XAI_Master/datasets/shap_test.csv\", header=0, index_col=None, float_precision='high')\n",
    "\n",
    "def plot_shapley_values(row, includePixelShap=True):\n",
    "    \n",
    "    targetName = {-1: 'Red', 0: 'None', 1: 'Green'}\n",
    "    # Extract RGB image values\n",
    "    image_values = row[1:148].values.reshape(7, 7, 3).transpose((1, 0, 2))\n",
    "    \n",
    "    # Extract and reshape Shapley values\n",
    "    shap_values = row.filter(like='shap').values.reshape(7, 7, 3).transpose((1, 0, 2))\n",
    "    \n",
    "    if includePixelShap:\n",
    "        fig, axes = plt.subplots(1, 4, figsize=(20, 5))\n",
    "        channels = ['Red', 'Green', 'Blue']\n",
    "\n",
    "        # Plot original image\n",
    "        axes[0].imshow(image_values)\n",
    "        axes[0].set_title(f'The agent reached: {targetName[row[\"target\"]]}')\n",
    "        axes[0].axis('off')\n",
    "        \n",
    "        for i, ax in enumerate(axes[1:]):\n",
    "            im = ax.imshow(shap_values[:, :, i], cmap='RdBu_r', interpolation='nearest', vmin=-0.2, vmax=0.2)\n",
    "            ax.set_title(f'{channels[i]} pixel SHAP values')\n",
    "            ax.axis('off')\n",
    "            fig.colorbar(im, ax=ax, fraction=0.046, pad=0.04)\n",
    "    else:\n",
    "        print(f'The agent reached: {targetName[row[\"target\"]]}')\n",
    "    \n",
    "    shap.image_plot([shap_values], image_values, show=False)\n",
    "    plt.show()\n",
    "\n",
    "\n",
    "#for episode in range(10, 20):\n",
    "#    evalEpisode = shap_r00_g10_1500k.iloc[episode]\n",
    "#    plot_shapley_values(evalEpisode)\n",
    "\n",
    "for row in shap_test.iterrows():\n",
    "    plot_shapley_values(row[1], includePixelShap=False)"
   ]
  },
  {
   "cell_type": "code",
   "execution_count": 7,
   "metadata": {},
   "outputs": [],
   "source": [
    "# Merge and shuffle(?) the datasets\n",
    "act_train = pd.concat([act_r01_g10_1500k, act_r02_g10_1500k, act_r03_g10_1500k, act_r04_g10_1500k, act_r05_g10_1500k, act_r06_g10_1500k, act_r07_g10_1500k, act_r08_g10_1500k, act_r09_g10_1500k, act_r10_g01_1500k, act_r10_g02_1500k, act_r10_g03_1500k, act_r10_g04_1500k, act_r10_g05_1500k, act_r10_g06_1500k, act_r10_g07_1500k, act_r10_g08_1500k, act_r10_g09_1500k], ignore_index=True)\n",
    "# act_train = act_train.sample(frac=1, random_state=random_state).reset_index(drop=True)\n",
    "#act_train = act_train.drop([\"agentX\",\"agentY\",\"redX\",\"redY\",\"greenX\",\"greenY\"], axis=1)\n",
    "act_df_test = pd.concat([act_r00_g10_1500k, act_r10_g10_1500k, act_r10_g00_1500k], ignore_index=True)\n",
    "#act_df_test = act_df_test.drop([\"agentX\",\"agentY\",\"redX\",\"redY\",\"greenX\",\"greenY\"], axis=1)\n",
    "\n",
    "act_x_train = act_train.drop('target', axis=1)\n",
    "act_y_train = act_train['target']\n",
    "act_x_test = act_df_test.drop('target', axis=1)\n",
    "act_y_test = act_df_test['target']\n",
    "\n",
    "shap_train = pd.concat([shap_r01_g10_1500k, shap_r02_g10_1500k, shap_r03_g10_1500k, shap_r04_g10_1500k, shap_r05_g10_1500k, shap_r06_g10_1500k, shap_r07_g10_1500k, shap_r08_g10_1500k, shap_r09_g10_1500k, shap_r10_g01_1500k, shap_r10_g02_1500k, shap_r10_g03_1500k, shap_r10_g04_1500k, shap_r10_g05_1500k, shap_r10_g06_1500k, shap_r10_g07_1500k, shap_r10_g08_1500k, shap_r10_g09_1500k], ignore_index=True)\n",
    "# shap_train = shap_train.sample(frac=1, random_state=random_state).reset_index(drop=True)\n",
    "shap_test = pd.concat([shap_r00_g10_1500k, shap_r10_g10_1500k, shap_r10_g00_1500k], ignore_index=True)\n",
    "\n",
    "shap_x_train = shap_train.drop('target', axis=1)\n",
    "shap_y_train = shap_train['target']\n",
    "shap_x_test = shap_test.drop('target', axis=1)\n",
    "shap_y_test = shap_test['target']"
   ]
  },
  {
   "cell_type": "code",
   "execution_count": 8,
   "metadata": {},
   "outputs": [
    {
     "name": "stdout",
     "output_type": "stream",
     "text": [
      "Linear regression, Activation dataset\n",
      "Total correct predictions: 826 out of 6000\n",
      "Accuracy: 13.77%\n",
      "\n",
      "Confusion matrix:\n",
      "[[ 117 1612 1294]\n",
      " [   2    6    5]\n",
      " [1031 1230  703]]\n"
     ]
    }
   ],
   "source": [
    "actLinRegModel = LinearRegression()\n",
    "actLinRegModel.fit(act_x_train, act_y_train)\n",
    "act_y_pred = actLinRegModel.predict(act_x_test)\n",
    "act_y_pred = np.clip(np.round(act_y_pred), -1, 1) # Round y_pred to int, max 1 and min -1\n",
    "total_correct = (act_y_test == act_y_pred).sum()\n",
    "total_samples = len(act_y_test)\n",
    "print(f\"Linear regression, Activation dataset\")\n",
    "print(f\"Total correct predictions: {total_correct} out of {total_samples}\")\n",
    "print(f\"Accuracy: {accuracy_score(act_y_test, act_y_pred):.2%}\")\n",
    "print(f\"\\nConfusion matrix:\\n{confusion_matrix(act_y_test, act_y_pred)}\")\n"
   ]
  },
  {
   "cell_type": "code",
   "execution_count": 9,
   "metadata": {},
   "outputs": [
    {
     "name": "stdout",
     "output_type": "stream",
     "text": [
      "Linear regression, Shap dataset\n",
      "Total correct predictions: 1179 out of 6000\n",
      "Accuracy: 19.65%\n",
      "\n",
      "Confusion matrix:\n",
      "[[ 335 2474  222]\n",
      " [   4   12    5]\n",
      " [ 432 1684  832]]\n"
     ]
    },
    {
     "data": {
      "image/png": "[encoded data removed]",
      "text/plain": [
       "<Figure size 1200x800 with 1 Axes>"
      ]
     },
     "metadata": {},
     "output_type": "display_data"
    }
   ],
   "source": [
    "shapLinRegModel = LinearRegression()\n",
    "shapLinRegModel.fit(shap_x_train, shap_y_train)\n",
    "shap_y_pred = shapLinRegModel.predict(shap_x_test)\n",
    "shap_y_pred = np.clip(np.round(shap_y_pred), -1, 1) # Round y_pred to int, max 1 and min -1\n",
    "total_correct = (shap_y_test == shap_y_pred).sum()\n",
    "total_samples = len(shap_y_test)\n",
    "print(f\"Linear regression, Shap dataset\")\n",
    "print(f\"Total correct predictions: {total_correct} out of {total_samples}\")\n",
    "print(f\"Accuracy: {accuracy_score(shap_y_test, shap_y_pred):.2%}\")\n",
    "print(f\"\\nConfusion matrix:\\n{confusion_matrix(shap_y_test, shap_y_pred)}\")\n",
    "\n",
    "# Checka koefficienter\n",
    "\n",
    "# Get the coefficients\n",
    "coefficients = shapLinRegModel.coef_\n",
    "intercept = shapLinRegModel.intercept_\n",
    "\n",
    "# If your model has a single target (not multiclass), reshape coefficients\n",
    "if len(coefficients.shape) > 1:\n",
    "    # For multiclass, you might want to plot coefficients for each class\n",
    "    # This example plots coefficients for the first class\n",
    "    coefficients = coefficients[0]\n",
    "\n",
    "# Create a list of feature names (replace with your actual feature names if available)\n",
    "feature_names = [f\"Feature {i}\" for i in range(len(coefficients))]\n",
    "\n",
    "# Sort coefficients by absolute value to highlight the most significant ones\n",
    "sorted_indices = np.argsort(np.abs(coefficients))[::-1]\n",
    "sorted_coefficients = coefficients[sorted_indices]\n",
    "sorted_features = [feature_names[i] for i in sorted_indices]\n",
    "\n",
    "# Plot\n",
    "plt.figure(figsize=(12, 8))\n",
    "bars = plt.bar(range(len(sorted_coefficients)), sorted_coefficients)\n",
    "\n",
    "# Color code the bars (positive: blue, negative: red)\n",
    "for i, bar in enumerate(bars):\n",
    "    if sorted_coefficients[i] < 0:\n",
    "        bar.set_color('r')\n",
    "    else:\n",
    "        bar.set_color('b')\n",
    "\n",
    "plt.xlabel('Features')\n",
    "plt.ylabel('Coefficient Value')\n",
    "plt.title('Linear Regression Coefficients')\n",
    "# plt.xticks(range(len(sorted_coefficients)), sorted_features, rotation=90)\n",
    "plt.tight_layout()\n",
    "\n",
    "# Add a horizontal line at y=0\n",
    "plt.axhline(y=0, color='k', linestyle='-', alpha=0.3)\n",
    "\n",
    "# Add intercept value as text\n",
    "plt.figtext(0.7, 0.01, f'Intercept: {intercept:.4f}', ha='center')\n",
    "\n",
    "plt.show()"
   ]
  },
  {
   "cell_type": "code",
   "execution_count": 10,
   "metadata": {},
   "outputs": [
    {
     "name": "stdout",
     "output_type": "stream",
     "text": [
      "Decicion tree, Activation dataset\n",
      "Total correct predictions: 4200 out of 6000\n",
      "Accuracy: 70.00%\n",
      "\n",
      "Confusion matrix:\n",
      "[[2300    0  723]\n",
      " [   2    0   11]\n",
      " [1043   21 1900]]\n"
     ]
    }
   ],
   "source": [
    "actTreeModel = DecisionTreeClassifier(random_state=42)\n",
    "actTreeModel.fit(act_x_train, act_y_train)\n",
    "act_y_pred = actTreeModel.predict(act_x_test)\n",
    "total_correct = (act_y_test == act_y_pred).sum()\n",
    "total_samples = len(act_y_test)\n",
    "print(f\"Decicion tree, Activation dataset\")\n",
    "print(f\"Total correct predictions: {total_correct} out of {total_samples}\")\n",
    "print(f\"Accuracy: {accuracy_score(act_y_test, act_y_pred):.2%}\")\n",
    "print(f\"\\nConfusion matrix:\\n{confusion_matrix(act_y_test, act_y_pred)}\")"
   ]
  },
  {
   "cell_type": "code",
   "execution_count": 11,
   "metadata": {},
   "outputs": [
    {
     "name": "stdout",
     "output_type": "stream",
     "text": [
      "Decicion tree, Shap dataset\n",
      "Total correct predictions: 3979 out of 6000\n",
      "Accuracy: 66.32%\n",
      "\n",
      "Confusion matrix:\n",
      "[[2246   79  706]\n",
      " [  13    0    8]\n",
      " [1180   35 1733]]\n"
     ]
    }
   ],
   "source": [
    "shapTreeModel = DecisionTreeClassifier(random_state=42)\n",
    "shapTreeModel.fit(shap_x_train, shap_y_train)\n",
    "shap_y_pred = shapTreeModel.predict(shap_x_test)\n",
    "total_correct = (shap_y_test == shap_y_pred).sum()\n",
    "total_samples = len(shap_y_test)\n",
    "print(f\"Decicion tree, Shap dataset\")\n",
    "print(f\"Total correct predictions: {total_correct} out of {total_samples}\")\n",
    "print(f\"Accuracy: {accuracy_score(shap_y_test, shap_y_pred):.2%}\")\n",
    "print(f\"\\nConfusion matrix:\\n{confusion_matrix(shap_y_test, shap_y_pred)}\")"
   ]
  },
  {
   "cell_type": "markdown",
   "metadata": {},
   "source": [
    "Earlier..\n",
    "\n",
    "Done:\n",
    "- Train 21 models\n",
    "- Create all activation and shap datasets\n",
    "- Precicted unseen network datasets\n",
    "\n",
    "Answered questions:\n",
    "- Should the models retain the 5% epsilon during dataset creation? Yes\n",
    "- Does the SHAP background data sound sound? Compare\n",
    "- Should the decision tree recieve coordinates too? Format? Yes, no feature engineering"
   ]
  },
  {
   "cell_type": "markdown",
   "metadata": {},
   "source": [
    "### Meeting 2025-02-24\n",
    "\n",
    "Next up:\n",
    "- Implement Gradcam\n",
    "\n",
    "Questions:\n",
    "- Should I switch to an environment where the agent can't see the goal? Yes\n",
    "- What other XAI methods makes sense to implement after gradcam? Wait\n",
    "- Should I spend time visualising these results to be able to put them into the thesis? Yes\n",
    "\n",
    "Todo:\n",
    "- Visualise using shap\n",
    "- Alter environment\n",
    "\n",
    "\n"
   ]
  }
 ],
 "metadata": {
  "kernelspec": {
   "display_name": ".venv",
   "language": "python",
   "name": "python3"
  },
  "language_info": {
   "codemirror_mode": {
    "name": "ipython",
    "version": 3
   },
   "file_extension": ".py",
   "mimetype": "text/x-python",
   "name": "python",
   "nbconvert_exporter": "python",
   "pygments_lexer": "ipython3",
   "version": "3.12.2"
  }
 },
 "nbformat": 4,
 "nbformat_minor": 2
}
