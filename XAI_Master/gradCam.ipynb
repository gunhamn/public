{
 "cells": [
  {
   "cell_type": "code",
   "execution_count": 112,
   "metadata": {},
   "outputs": [],
   "source": [
    "import numpy as np\n",
    "import pandas as pd\n",
    "import torch\n",
    "from torch.utils.data import Dataset, DataLoader\n",
    "import matplotlib.pyplot as plt\n",
    "from WallWorld import WallWorld\n",
    "from DqnAgentNewDims import DqnAgentNewDims, neural_network\n",
    "from pytorch_grad_cam import GradCAM, HiResCAM, ScoreCAM, GradCAMPlusPlus, AblationCAM, XGradCAM, EigenCAM, FullGrad\n",
    "from pytorch_grad_cam.utils.image import show_cam_on_image\n",
    "from pytorch_grad_cam.utils.model_targets import ClassifierOutputTarget\n",
    "from tensorflow.keras.datasets import mnist\n",
    "\n",
    "if __name__ == \"__main__\":\n",
    "\n",
    "    # Config\n",
    "    max_steps=500_000\n",
    "\n",
    "    # WallWorld\n",
    "    render_mode=None\n",
    "    size=7\n",
    "    agentSpawn = None\n",
    "    maxSteps=200\n",
    "    stepLoss=0\n",
    "    chestSpawnCoordinates=np.array([[0, 0], [0, 1], [0, 2], [0, 3], [0, 4], [0, 5], [0, 6],\n",
    "                                    [1, 0], [1, 1], [1, 2], [1, 3], [1, 4], [1, 5], [1, 6],\n",
    "                                    [2, 0], [2, 1], [2, 2],         [2, 4], [2, 5], [2, 6]])\n",
    "    wallCoordinates=      np.array([[3, 0], [3, 1], [3, 2],         [3, 4], [3, 5], [3, 6],])\n",
    "    agentSpawnCoordinates=np.array([[4, 0],                                         [4, 6],\n",
    "                                    [5, 0],                                         [5, 6],\n",
    "                                    [6, 0],                                         [6, 6]])\n",
    "    randomWalls=0\n",
    "    redChestCoordinates=None\n",
    "    greenChestCoordinates=None\n",
    "    keyCoordinates=None\n",
    "    randomredChests=1\n",
    "    randomgreenChests=1\n",
    "    randomkeys=0\n",
    "    redChestReward=-1 # Don't change this\n",
    "    greenChestReward=1 # Don't change this\n",
    "    # Explaination:\n",
    "    # terminated with 1 reward ---> green chest: 1\n",
    "    # terminated with 0 reward ---> red chest:  -1\n",
    "    # truncated                 --> no chest:    0\n",
    "    \n",
    "    # Agent\n",
    "    batch_size=64\n",
    "    lr=0.001\n",
    "    gamma=0.95\n",
    "    epsilon_start=1\n",
    "    epsilon_min=0.05\n",
    "    epsilon_decay=200_000 # 50_000 at 3000 episodes\n",
    "    tau=0.0005 # Was 0.005\n",
    "    replayBuffer=100_000\n",
    "\n",
    "    env = WallWorld(render_mode=None,\n",
    "                    size=size, agentSpawn=agentSpawn,\n",
    "                    stepLoss=stepLoss, maxSteps=maxSteps,\n",
    "                    wallCoordinates=wallCoordinates,\n",
    "                    randomWalls=randomWalls,\n",
    "                    redChestCoordinates=redChestCoordinates,\n",
    "                    greenChestCoordinates=greenChestCoordinates,\n",
    "                    keyCoordinates=keyCoordinates,\n",
    "                    redChestReward=redChestReward,\n",
    "                    greenChestReward=greenChestReward,\n",
    "                    randomredChests=randomredChests,\n",
    "                    randomgreenChests=randomgreenChests,\n",
    "                    randomkeys=randomkeys,\n",
    "                    agentSpawnCoordinates=agentSpawnCoordinates,\n",
    "                    chestSpawnCoordinates=chestSpawnCoordinates,\n",
    "                    newDims=True)\n",
    "    observation, _ = env.reset()\n",
    "    agent = DqnAgentNewDims(env.action_space, observation,\n",
    "        batch_size=batch_size,\n",
    "        lr=lr,\n",
    "        gamma=gamma,\n",
    "        epsilon_start=epsilon_start,\n",
    "        epsilon_min=epsilon_min,\n",
    "        epsilon_decay=epsilon_decay,\n",
    "        tau=tau,\n",
    "        replayBuffer=replayBuffer)\n",
    "    \n",
    "    maxSteps = 30 #????\n",
    "    show_env = WallWorld(render_mode=\"human\",\n",
    "                    size=size, agentSpawn=agentSpawn,\n",
    "                    stepLoss=stepLoss, maxSteps=maxSteps,\n",
    "                    wallCoordinates=wallCoordinates,\n",
    "                    randomWalls=randomWalls,\n",
    "                    redChestCoordinates=redChestCoordinates,\n",
    "                    greenChestCoordinates=greenChestCoordinates,\n",
    "                    keyCoordinates=keyCoordinates,\n",
    "                    redChestReward=redChestReward,\n",
    "                    greenChestReward=greenChestReward,\n",
    "                    randomredChests=randomredChests,\n",
    "                    randomgreenChests=randomgreenChests,\n",
    "                    randomkeys=randomkeys,\n",
    "                    agentSpawnCoordinates=agentSpawnCoordinates,\n",
    "                    chestSpawnCoordinates=chestSpawnCoordinates,\n",
    "                    newDims=True)\n",
    "\n",
    "    modelNames = [\"r00_g10_1500k\",\n",
    "              \"r01_g10_1500k\",\n",
    "              \"r02_g10_1500k\",\n",
    "              \"r03_g10_1500k\",\n",
    "              \"r04_g10_1500k\",\n",
    "              \"r05_g10_1500k\",\n",
    "              \"r06_g10_1500k\",\n",
    "              \"r07_g10_1500k\",\n",
    "              \"r08_g10_1500k\",\n",
    "              \"r09_g10_1500k\",\n",
    "              \"r10_g00_1500k\",\n",
    "              \"r10_g01_1500k\",\n",
    "              \"r10_g02_1500k\",\n",
    "              \"r10_g03_1500k\",\n",
    "              \"r10_g04_1500k\",\n",
    "              \"r10_g05_1500k\",\n",
    "              \"r10_g06_1500k\",\n",
    "              \"r10_g07_1500k\",\n",
    "              \"r10_g08_1500k\",\n",
    "              \"r10_g09_1500k\",\n",
    "              \"r10_g10_1500k\"]"
   ]
  },
  {
   "cell_type": "code",
   "execution_count": 113,
   "metadata": {},
   "outputs": [
    {
     "name": "stdout",
     "output_type": "stream",
     "text": [
      "neural_network(\n",
      "  (conv1): Conv2d(3, 32, kernel_size=(3, 3), stride=(1, 1), padding=(1, 1))\n",
      "  (conv2): Conv2d(32, 32, kernel_size=(3, 3), stride=(1, 1), padding=(1, 1))\n",
      "  (conv3): Conv2d(32, 32, kernel_size=(3, 3), stride=(1, 1), padding=(1, 1))\n",
      "  (fc1): Linear(in_features=25088, out_features=128, bias=True)\n",
      "  (fc2): Linear(in_features=128, out_features=10, bias=True)\n",
      ")\n"
     ]
    }
   ],
   "source": [
    "#Mnist model\n",
    "\n",
    "\n",
    "# a random numpy array with shape (3, 28, 28)\n",
    "observation = np.random.rand(3, 28, 28).astype(np.float32)\n",
    "action_space_n = 10\n",
    "\n",
    "mnistModel = neural_network(\n",
    "    action_space_n=action_space_n,\n",
    "    observation=observation)\n",
    "\n",
    "\n",
    "criterion = torch.nn.CrossEntropyLoss()\n",
    "optimizer = torch.optim.Adam(mnistModel.parameters(), lr=0.001)\n",
    "\n",
    "# Load MNIST\n",
    "(x_train, y_train), (x_test, y_test) = mnist.load_data()\n",
    "x_train = x_train.astype(np.float32) / 255.0\n",
    "y_train = y_train.astype(np.int64)\n",
    "\n",
    "# Convert to shape: (N, 3, 28, 28)\n",
    "x_train = np.expand_dims(x_train, axis=1)           # (N, 1, 28, 28)\n",
    "x_train = np.repeat(x_train, 3, axis=1)              # (N, 3, 28, 28)\n",
    "\n",
    "# Convert to torch tensors\n",
    "x_train_tensor = torch.tensor(x_train)\n",
    "y_train_tensor = torch.tensor(y_train)\n",
    "\n",
    "# Define Dataset\n",
    "class MNIST3ChannelDataset(Dataset):\n",
    "    def __init__(self, images, labels):\n",
    "        self.images = images\n",
    "        self.labels = labels\n",
    "\n",
    "    def __len__(self):\n",
    "        return len(self.images)\n",
    "\n",
    "    def __getitem__(self, idx):\n",
    "        return self.images[idx], self.labels[idx]\n",
    "\n",
    "# Create DataLoader\n",
    "train_dataset = MNIST3ChannelDataset(x_train_tensor, y_train_tensor)\n",
    "dataloader = DataLoader(train_dataset, batch_size=64, shuffle=True)\n",
    "\n",
    "\n",
    "\"\"\"\n",
    "num_epochs = 10\n",
    "mnistModel.train()\n",
    "\n",
    "for epoch in range(num_epochs):\n",
    "    for batch_obs, batch_labels in dataloader:\n",
    "        # Forward pass\n",
    "        outputs = mnistModel(batch_obs)\n",
    "        loss = criterion(outputs, batch_labels)\n",
    "\n",
    "        # Backward pass and optimization\n",
    "        optimizer.zero_grad()\n",
    "        loss.backward()\n",
    "        optimizer.step()\n",
    "\n",
    "    print(f\"Epoch {epoch+1}/{num_epochs}, Loss: {loss.item():.4f}\")\n",
    "\n",
    "torch.save(mnistModel.state_dict(), \"C:/Projects/public/XAI_Master/models/mnistModel.pth\")\n",
    "\"\"\"\n",
    "\"\"\"Epoch 1/10, Loss: 0.0106\n",
    "Epoch 2/10, Loss: 0.0040\n",
    "Epoch 3/10, Loss: 0.6902\n",
    "Epoch 4/10, Loss: 0.0007\n",
    "Epoch 5/10, Loss: 0.0001\n",
    "Epoch 6/10, Loss: 0.0003\n",
    "Epoch 7/10, Loss: 0.0245\n",
    "Epoch 8/10, Loss: 0.0050\n",
    "Epoch 9/10, Loss: 0.0291\n",
    "Epoch 10/10, Loss: 0.0000\"\"\"\n",
    "\n",
    "print(mnistModel)"
   ]
  },
  {
   "cell_type": "code",
   "execution_count": 117,
   "metadata": {},
   "outputs": [
    {
     "name": "stdout",
     "output_type": "stream",
     "text": [
      "Model loaded: C:/Projects/public/XAI_Master/models/mnistModel.pth\n",
      "Layer: 1\n",
      "Action index: 4\n"
     ]
    },
    {
     "data": {
      "image/png": "[encoded data removed]",
      "text/plain": [
       "<Figure size 1000x500 with 2 Axes>"
      ]
     },
     "metadata": {},
     "output_type": "display_data"
    },
    {
     "name": "stdout",
     "output_type": "stream",
     "text": [
      "Layer: 2\n",
      "Action index: 4\n"
     ]
    },
    {
     "data": {
      "image/png": "[encoded data removed]",
      "text/plain": [
       "<Figure size 1000x500 with 2 Axes>"
      ]
     },
     "metadata": {},
     "output_type": "display_data"
    },
    {
     "name": "stdout",
     "output_type": "stream",
     "text": [
      "Layer: 3\n",
      "Action index: 4\n"
     ]
    },
    {
     "data": {
      "image/png": "[encoded data removed]",
      "text/plain": [
       "<Figure size 1000x500 with 2 Axes>"
      ]
     },
     "metadata": {},
     "output_type": "display_data"
    }
   ],
   "source": [
    "\n",
    "path = \"C:/Projects/public/XAI_Master/models/mnistModel.pth\"\n",
    "mnistModel.load_state_dict(torch.load(path))\n",
    "mnistModel.eval()\n",
    "print(f\"Model loaded: {path}\")\n",
    "\n",
    "dataloader = DataLoader(train_dataset, batch_size=64, shuffle=True)\n",
    "\n",
    "layers = (mnistModel.conv1, mnistModel.conv2, mnistModel.conv3)\n",
    "\n",
    "for layer, counter in zip(layers, range(len(layers))):\n",
    "    print(f\"Layer: {counter+1}\")\n",
    "\n",
    "    state = dataloader.dataset[2][0].unsqueeze(0) # Change picture here\n",
    "    actions = mnistModel(state)\n",
    "    target_layer = mnistModel.conv3\n",
    "    target_layer = layer\n",
    "    action_idx = torch.argmax(actions, dim=1).item()\n",
    "    targets = [ClassifierOutputTarget(action_idx)]\n",
    "    print(f\"Action index: {action_idx}\")\n",
    "\n",
    "\n",
    "\n",
    "    # Create a GradCAM object with the agent's policy network and target layer\n",
    "    with GradCAM(model=mnistModel, target_layers=[target_layer]) as cam:\n",
    "        # Generate the CAM\n",
    "        grayscale_cam = cam(input_tensor=state, targets=targets)\n",
    "        grayscale_cam = grayscale_cam[0, :]#only one image in the batch\n",
    "        original_img = state[0].permute(1, 2, 0).cpu().numpy()\n",
    "\n",
    "    plt.figure(figsize=(10, 5))\n",
    "    plt.subplot(1, 2, 1)\n",
    "    plt.imshow(original_img, interpolation='nearest')\n",
    "    plt.title(\"Original Image\")\n",
    "    plt.axis('off')\n",
    "\n",
    "    plt.subplot(1, 2, 2)\n",
    "    plt.imshow(grayscale_cam, interpolation=None)\n",
    "    plt.title(\"GradCAM\")\n",
    "    plt.axis('off')\n",
    "    plt.show()\n",
    "\n",
    "\n"
   ]
  },
  {
   "cell_type": "code",
   "execution_count": 127,
   "metadata": {},
   "outputs": [],
   "source": [
    "state_init, _ = env.reset()"
   ]
  },
  {
   "cell_type": "code",
   "execution_count": 132,
   "metadata": {},
   "outputs": [
    {
     "name": "stdout",
     "output_type": "stream",
     "text": [
      "Model loaded: C:/Projects/public/XAI_Master/models/y_r10_g03_3000k.pth\n",
      "Layer: 1\n",
      "Action: Up\n"
     ]
    },
    {
     "data": {
      "image/png": "[encoded data removed]",
      "text/plain": [
       "<Figure size 1000x500 with 2 Axes>"
      ]
     },
     "metadata": {},
     "output_type": "display_data"
    },
    {
     "name": "stdout",
     "output_type": "stream",
     "text": [
      "Layer: 2\n",
      "Action: Up\n"
     ]
    },
    {
     "data": {
      "image/png": "[encoded data removed]",
      "text/plain": [
       "<Figure size 1000x500 with 2 Axes>"
      ]
     },
     "metadata": {},
     "output_type": "display_data"
    },
    {
     "name": "stdout",
     "output_type": "stream",
     "text": [
      "Layer: 3\n",
      "Action: Up\n"
     ]
    },
    {
     "data": {
      "image/png": "[encoded data removed]",
      "text/plain": [
       "<Figure size 1000x500 with 2 Axes>"
      ]
     },
     "metadata": {},
     "output_type": "display_data"
    }
   ],
   "source": [
    "agent.load_model_weights(f\"C:/Projects/public/XAI_Master/models/y_r10_g03_3000k.pth\")\n",
    "\n",
    "action_to_direction = {0: 'Right', 1: 'Down', 2: 'Left', 3: 'Up'}\n",
    "\n",
    "state = torch.tensor(state_init, dtype=torch.float32, device=agent.device).unsqueeze(0)\n",
    "actions = agent.predict(state)\n",
    "\n",
    "layers = (agent.policy_net.conv1, agent.policy_net.conv2, agent.policy_net.conv3)\n",
    "for layer, counter in zip(layers, range(len(layers))):\n",
    "    print(f\"Layer: {counter+1}\")\n",
    "\n",
    "    target_layer = agent.policy_net.conv3\n",
    "    action_idx = torch.argmax(actions, dim=1).item()\n",
    "    targets = [ClassifierOutputTarget(action_idx)]\n",
    "    print(f\"Action: {action_to_direction[action_idx]}\")\n",
    "\n",
    "    with GradCAM(model=agent.policy_net, target_layers=[target_layer]) as cam:\n",
    "        grayscale_cam = cam(input_tensor=state, targets=targets)\n",
    "        grayscale_cam = grayscale_cam[0, :]#only one image in the batch\n",
    "        original_img = state[0].permute(2, 1, 0).cpu().numpy()\n",
    "        grayscale_cam = grayscale_cam.transpose(1, 0)\n",
    "\n",
    "        # You can also get the model outputs without redoing inference\n",
    "        #model_outputs = cam.outputs\n",
    "        #print(f\"Model outputs: {model_outputs}\")\n",
    "\n",
    "    plt.figure(figsize=(10, 5))\n",
    "    plt.subplot(1, 2, 1)\n",
    "    plt.imshow(original_img, interpolation='nearest')\n",
    "    plt.title(\"Original Image\")\n",
    "    plt.axis('off')\n",
    "\n",
    "    plt.subplot(1, 2, 2)\n",
    "    plt.imshow(grayscale_cam, interpolation=None)\n",
    "    plt.title(\"GradCAM\")\n",
    "    plt.axis('off')\n",
    "    plt.show()\n",
    "\n",
    "    #print(grayscale_cam)"
   ]
  }
 ],
 "metadata": {
  "kernelspec": {
   "display_name": ".venv",
   "language": "python",
   "name": "python3"
  },
  "language_info": {
   "codemirror_mode": {
    "name": "ipython",
    "version": 3
   },
   "file_extension": ".py",
   "mimetype": "text/x-python",
   "name": "python",
   "nbconvert_exporter": "python",
   "pygments_lexer": "ipython3",
   "version": "3.12.2"
  }
 },
 "nbformat": 4,
 "nbformat_minor": 2
}
