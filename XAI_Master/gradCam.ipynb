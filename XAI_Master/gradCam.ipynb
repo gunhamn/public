{
 "cells": [
  {
   "cell_type": "code",
   "execution_count": 195,
   "metadata": {},
   "outputs": [],
   "source": [
    "import numpy as np\n",
    "import pandas as pd\n",
    "import torch\n",
    "import matplotlib.pyplot as plt\n",
    "from WallWorld import WallWorld\n",
    "from DqnAgentNewDims import DqnAgentNewDims\n",
    "from pytorch_grad_cam import GradCAM, HiResCAM, ScoreCAM, GradCAMPlusPlus, AblationCAM, XGradCAM, EigenCAM, FullGrad\n",
    "from pytorch_grad_cam.utils.image import show_cam_on_image\n",
    "from pytorch_grad_cam.utils.model_targets import ClassifierOutputTarget\n",
    "\n",
    "if __name__ == \"__main__\":\n",
    "\n",
    "    # Config\n",
    "    max_steps=500_000\n",
    "\n",
    "    # WallWorld\n",
    "    render_mode=None\n",
    "    size=7\n",
    "    agentSpawn = None\n",
    "    maxSteps=200\n",
    "    stepLoss=0\n",
    "    chestSpawnCoordinates=np.array([[0, 0], [0, 1], [0, 2], [0, 3], [0, 4], [0, 5], [0, 6],\n",
    "                                    [1, 0], [1, 1], [1, 2], [1, 3], [1, 4], [1, 5], [1, 6],\n",
    "                                    [2, 0], [2, 1], [2, 2],         [2, 4], [2, 5], [2, 6]])\n",
    "    wallCoordinates=      np.array([[3, 0], [3, 1], [3, 2],         [3, 4], [3, 5], [3, 6],])\n",
    "    agentSpawnCoordinates=np.array([[4, 0],                                         [4, 6],\n",
    "                                    [5, 0],                                         [5, 6],\n",
    "                                    [6, 0],                                         [6, 6]])\n",
    "    randomWalls=0\n",
    "    redChestCoordinates=None\n",
    "    greenChestCoordinates=None\n",
    "    keyCoordinates=None\n",
    "    randomredChests=1\n",
    "    randomgreenChests=1\n",
    "    randomkeys=0\n",
    "    redChestReward=-1 # Don't change this\n",
    "    greenChestReward=1 # Don't change this\n",
    "    # Explaination:\n",
    "    # terminated with 1 reward ---> green chest: 1\n",
    "    # terminated with 0 reward ---> red chest:  -1\n",
    "    # truncated                 --> no chest:    0\n",
    "    \n",
    "    # Agent\n",
    "    batch_size=64\n",
    "    lr=0.001\n",
    "    gamma=0.95\n",
    "    epsilon_start=1\n",
    "    epsilon_min=0.05\n",
    "    epsilon_decay=200_000 # 50_000 at 3000 episodes\n",
    "    tau=0.0005 # Was 0.005\n",
    "    replayBuffer=100_000\n",
    "\n",
    "    env = WallWorld(render_mode=None,\n",
    "                    size=size, agentSpawn=agentSpawn,\n",
    "                    stepLoss=stepLoss, maxSteps=maxSteps,\n",
    "                    wallCoordinates=wallCoordinates,\n",
    "                    randomWalls=randomWalls,\n",
    "                    redChestCoordinates=redChestCoordinates,\n",
    "                    greenChestCoordinates=greenChestCoordinates,\n",
    "                    keyCoordinates=keyCoordinates,\n",
    "                    redChestReward=redChestReward,\n",
    "                    greenChestReward=greenChestReward,\n",
    "                    randomredChests=randomredChests,\n",
    "                    randomgreenChests=randomgreenChests,\n",
    "                    randomkeys=randomkeys,\n",
    "                    agentSpawnCoordinates=agentSpawnCoordinates,\n",
    "                    chestSpawnCoordinates=chestSpawnCoordinates,\n",
    "                    newDims=True)\n",
    "    observation, _ = env.reset()\n",
    "    agent = DqnAgentNewDims(env.action_space, observation,\n",
    "        batch_size=batch_size,\n",
    "        lr=lr,\n",
    "        gamma=gamma,\n",
    "        epsilon_start=epsilon_start,\n",
    "        epsilon_min=epsilon_min,\n",
    "        epsilon_decay=epsilon_decay,\n",
    "        tau=tau,\n",
    "        replayBuffer=replayBuffer)\n",
    "    \n",
    "    maxSteps = 30 #????\n",
    "    show_env = WallWorld(render_mode=\"human\",\n",
    "                    size=size, agentSpawn=agentSpawn,\n",
    "                    stepLoss=stepLoss, maxSteps=maxSteps,\n",
    "                    wallCoordinates=wallCoordinates,\n",
    "                    randomWalls=randomWalls,\n",
    "                    redChestCoordinates=redChestCoordinates,\n",
    "                    greenChestCoordinates=greenChestCoordinates,\n",
    "                    keyCoordinates=keyCoordinates,\n",
    "                    redChestReward=redChestReward,\n",
    "                    greenChestReward=greenChestReward,\n",
    "                    randomredChests=randomredChests,\n",
    "                    randomgreenChests=randomgreenChests,\n",
    "                    randomkeys=randomkeys,\n",
    "                    agentSpawnCoordinates=agentSpawnCoordinates,\n",
    "                    chestSpawnCoordinates=chestSpawnCoordinates,\n",
    "                    newDims=True)\n",
    "\n",
    "    modelNames = [\"r00_g10_1500k\",\n",
    "              \"r01_g10_1500k\",\n",
    "              \"r02_g10_1500k\",\n",
    "              \"r03_g10_1500k\",\n",
    "              \"r04_g10_1500k\",\n",
    "              \"r05_g10_1500k\",\n",
    "              \"r06_g10_1500k\",\n",
    "              \"r07_g10_1500k\",\n",
    "              \"r08_g10_1500k\",\n",
    "              \"r09_g10_1500k\",\n",
    "              \"r10_g00_1500k\",\n",
    "              \"r10_g01_1500k\",\n",
    "              \"r10_g02_1500k\",\n",
    "              \"r10_g03_1500k\",\n",
    "              \"r10_g04_1500k\",\n",
    "              \"r10_g05_1500k\",\n",
    "              \"r10_g06_1500k\",\n",
    "              \"r10_g07_1500k\",\n",
    "              \"r10_g08_1500k\",\n",
    "              \"r10_g09_1500k\",\n",
    "              \"r10_g10_1500k\"]"
   ]
  },
  {
   "cell_type": "code",
   "execution_count": 196,
   "metadata": {},
   "outputs": [
    {
     "name": "stdout",
     "output_type": "stream",
     "text": [
      "Model loaded: C:/Projects/public/XAI_Master/models/r10_g04_3000k.pth\n",
      "Right: 0.635, Down: 0.701, Left: 0.663, Up: 0.670, "
     ]
    }
   ],
   "source": [
    "agent.load_model_weights(f\"C:/Projects/public/XAI_Master/models/r10_g04_3000k.pth\")\n",
    "\n",
    "state, _ = env.reset()\n",
    "state = torch.tensor(state, dtype=torch.float32, device=agent.device).unsqueeze(0)\n",
    "actions = agent.predict(state)\n",
    "\n",
    "def plotState(state):\n",
    "    image = state.squeeze().numpy().transpose((2, 1, 0))\n",
    "    plt.imshow(image, interpolation='nearest')\n",
    "    plt.axis('off')\n",
    "    plt.show()\n",
    "\n",
    "def printActions(actions):\n",
    "    action_to_direction = {0: 'Right', 1: 'Down', 2: 'Left', 3: 'Up'}\n",
    "    for i, action in enumerate(actions[0]):\n",
    "        print(f\"{action_to_direction[i]}: {action:.3f}\", end=\", \")\n",
    "\n",
    "printActions(actions)\n"
   ]
  },
  {
   "cell_type": "code",
   "execution_count": null,
   "metadata": {},
   "outputs": [
    {
     "data": {
      "image/png": "[encoded data removed]",
      "text/plain": [
       "<Figure size 640x480 with 1 Axes>"
      ]
     },
     "metadata": {},
     "output_type": "display_data"
    },
    {
     "data": {
      "image/png": "[encoded data removed]",
      "text/plain": [
       "<Figure size 640x480 with 1 Axes>"
      ]
     },
     "metadata": {},
     "output_type": "display_data"
    },
    {
     "data": {
      "image/png": "[encoded data removed]",
      "text/plain": [
       "<Figure size 640x480 with 1 Axes>"
      ]
     },
     "metadata": {},
     "output_type": "display_data"
    },
    {
     "name": "stdout",
     "output_type": "stream",
     "text": [
      "Model outputs: tensor([[0.6354, 0.7005, 0.6632, 0.6697]], grad_fn=<AddmmBackward0>)\n"
     ]
    },
    {
     "data": {
      "image/png": "[encoded data removed]",
      "text/plain": [
       "<Figure size 1000x500 with 2 Axes>"
      ]
     },
     "metadata": {},
     "output_type": "display_data"
    },
    {
     "name": "stdout",
     "output_type": "stream",
     "text": [
      "[[0.         0.         0.03208314 0.10264175 0.         0.\n",
      "  0.        ]\n",
      " [0.         0.         0.         0.         0.         0.\n",
      "  0.        ]\n",
      " [0.         0.         0.         0.         0.         0.\n",
      "  0.        ]\n",
      " [0.0931903  0.52677053 0.         0.         0.         0.\n",
      "  0.        ]\n",
      " [0.         0.9999999  0.         0.         0.         0.\n",
      "  0.        ]\n",
      " [0.         0.14724232 0.         0.         0.         0.\n",
      "  0.        ]\n",
      " [0.         0.         0.00535329 0.00208266 0.         0.\n",
      "  0.        ]]\n"
     ]
    }
   ],
   "source": [
    "target_layer = agent.policy_net.conv3\n",
    "action_idx = torch.argmax(actions, dim=1).item()\n",
    "targets = [ClassifierOutputTarget(action_idx)]\n",
    "\n",
    "plotState(state)\n",
    "\n",
    "# Create a GradCAM object with the agent's policy network and target layer\n",
    "with XGradCAM(model=agent.policy_net, target_layers=[target_layer]) as cam:\n",
    "    # Generate the CAM\n",
    "    grayscale_cam = cam(input_tensor=state, targets=targets)\n",
    "    \n",
    "    grayscale_cam = grayscale_cam[0, :]#only one image in the batch\n",
    "    \n",
    "    original_img = state[0].permute(2, 1, 0).cpu().numpy()\n",
    "\n",
    "    grayscale_cam = grayscale_cam.transpose(1, 0)\n",
    "\n",
    "    plt.imshow(original_img, interpolation='nearest')\n",
    "    plt.imshow(grayscale_cam, interpolation='nearest')\n",
    "    plt.axis('off')\n",
    "    plt.show()\n",
    "    \n",
    "    # Create the CAM visualization\n",
    "    visualization = show_cam_on_image(original_img, grayscale_cam, use_rgb=False)\n",
    "    \n",
    "    # Save or display the visualization\n",
    "    import matplotlib.pyplot as plt\n",
    "    plt.imshow(visualization)\n",
    "    plt.title(f\"GradCAM for action {action_idx}\")\n",
    "    plt.axis('off')\n",
    "    plt.show()\n",
    "    \n",
    "    # You can also get the model outputs without redoing inference\n",
    "    model_outputs = cam.outputs\n",
    "    print(f\"Model outputs: {model_outputs}\")\n",
    "\n",
    "plt.figure(figsize=(10, 5))\n",
    "plt.subplot(1, 2, 1)\n",
    "plt.imshow(original_img, interpolation='nearest')\n",
    "plt.title(\"Original Image\")\n",
    "plt.axis('off')\n",
    "\n",
    "plt.subplot(1, 2, 2)\n",
    "plt.imshow(grayscale_cam, interpolation=None)\n",
    "plt.title(\"GradCAM\")\n",
    "plt.axis('off')\n",
    "plt.show()\n",
    "\n",
    "print(grayscale_cam)"
   ]
  }
 ],
 "metadata": {
  "kernelspec": {
   "display_name": ".venv",
   "language": "python",
   "name": "python3"
  },
  "language_info": {
   "codemirror_mode": {
    "name": "ipython",
    "version": 3
   },
   "file_extension": ".py",
   "mimetype": "text/x-python",
   "name": "python",
   "nbconvert_exporter": "python",
   "pygments_lexer": "ipython3",
   "version": "3.12.2"
  }
 },
 "nbformat": 4,
 "nbformat_minor": 2
}
