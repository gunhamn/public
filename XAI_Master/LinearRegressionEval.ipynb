{
 "cells": [
  {
   "cell_type": "code",
   "execution_count": 33,
   "metadata": {},
   "outputs": [],
   "source": [
    "import numpy as np\n",
    "import matplotlib.pyplot as plt\n",
    "import pandas as pd\n",
    "from sklearn.model_selection import train_test_split\n",
    "from sklearn.linear_model import LinearRegression\n",
    "from sklearn.tree import DecisionTreeClassifier\n",
    "from sklearn.metrics import mean_squared_error, r2_score, accuracy_score, confusion_matrix\n",
    "\n",
    "np.random.seed(42)  # You can use any integer value\n",
    "random_state = 42"
   ]
  },
  {
   "cell_type": "code",
   "execution_count": 34,
   "metadata": {},
   "outputs": [
    {
     "name": "stdout",
     "output_type": "stream",
     "text": [
      "(50000, 128)\n"
     ]
    }
   ],
   "source": [
    "modelNames = [\"WW_redReward0_grReward1_7x7_300000steps\",\n",
    "                  \"WW_redReward0_grReward1_7x7_1500000steps\",\n",
    "                  \"WW_redReward1_grReward0_7x7_700000steps\",\n",
    "                  \"WW_redReward1_grReward0_7x7_1500000steps\",\n",
    "                  \"WW_redReward1_grReward0_7x7_2000000steps\"]\n",
    "\n",
    "red0green1_30k = pd.read_csv(\"C:/Projects/public/XAI_Master/datasets/WW_redReward0_grReward1_7x7_300000steps.csv\",\n",
    "    header=0,\n",
    "    index_col=None,\n",
    "    float_precision='high'\n",
    "    )\n",
    "red0green1_150k = pd.read_csv(\"C:/Projects/public/XAI_Master/datasets/WW_redReward0_grReward1_7x7_1500000steps.csv\",\n",
    "    header=0,\n",
    "    index_col=None,\n",
    "    float_precision='high'\n",
    "    )\n",
    "red1green0_70k = pd.read_csv(\"C:/Projects/public/XAI_Master/datasets/WW_redReward1_grReward0_7x7_700000steps.csv\",\n",
    "    header=0,          # Use first row as headers\n",
    "    index_col=None,    # Don't use any column as index\n",
    "    float_precision='high'  # For precise float values\n",
    "    )\n",
    "red1green0_150k = pd.read_csv(\"C:/Projects/public/XAI_Master/datasets/WW_redReward1_grReward0_7x7_1500000steps.csv\",\n",
    "    header=0,          # Use first row as headers\n",
    "    index_col=None,    # Don't use any column as index\n",
    "    float_precision='high'  # For precise float values\n",
    "    )\n",
    "red1green0_200k = pd.read_csv(\"C:/Projects/public/XAI_Master/datasets/WW_redReward1_grReward0_7x7_2000000steps.csv\",\n",
    "    header=0,          # Use first row as headers\n",
    "    index_col=None,    # Don't use any column as index\n",
    "    float_precision='high'  # For precise float values\n",
    "    )\n",
    "\n",
    "\n",
    "# Merge and shuffle the two datasets\n",
    "df = pd.concat([red0green1_30k, red0green1_150k, red1green0_70k, red1green0_150k, red1green0_200k], ignore_index=True)\n",
    "df = df.sample(frac=1, random_state=random_state).reset_index(drop=True)\n",
    "\"\"\"\n",
    "df = red0green1\n",
    "\"\"\"\n",
    "x = df.drop('target', axis=1)\n",
    "x = df.drop(['target',\"agentX\",\"agentY\",\"redX\",\"redY\",\"greenX\",\"greenY\"], axis=1)\n",
    "print(x.shape)\n",
    "y = df['target']\n",
    "\n",
    "x_train, x_test, y_train, y_test = train_test_split(x, y, test_size=0.2, random_state=random_state)"
   ]
  },
  {
   "cell_type": "code",
   "execution_count": 35,
   "metadata": {},
   "outputs": [
    {
     "name": "stdout",
     "output_type": "stream",
     "text": [
      "Mean Squared Error: 0.0267\n",
      "R2 Score: 0.9657\n",
      "Total correct predictions: 9708 out of 10000\n",
      "Accuracy: 97.08%\n",
      "\n",
      "Confusion matrix:\n",
      "[[5947   41    0]\n",
      " [  16 1082  112]\n",
      " [   0  123 2679]]\n"
     ]
    }
   ],
   "source": [
    "# Train and make predictions\n",
    "model = LinearRegression()\n",
    "model.fit(x_train, y_train)\n",
    "y_pred = model.predict(x_test)\n",
    "\n",
    "# Print float results\n",
    "print(f\"Mean Squared Error: {mean_squared_error(y_test, y_pred):.4f}\")\n",
    "print(f\"R2 Score: {r2_score(y_test, y_pred):.4f}\")\n",
    "\n",
    "# Round y_pred to int, max 1 and min -1\n",
    "y_pred = np.clip(np.round(y_pred), -1, 1)\n",
    "\n",
    "# Print int results\n",
    "total_correct = (y_test == y_pred).sum()\n",
    "total_samples = len(y_test)\n",
    "print(f\"Total correct predictions: {total_correct} out of {total_samples}\")\n",
    "print(f\"Accuracy: {accuracy_score(y_test, y_pred):.2%}\")\n",
    "print(f\"\\nConfusion matrix:\\n{confusion_matrix(y_test, y_pred)}\")\n"
   ]
  },
  {
   "cell_type": "code",
   "execution_count": 36,
   "metadata": {},
   "outputs": [
    {
     "name": "stdout",
     "output_type": "stream",
     "text": [
      "Total correct predictions: 9994 out of 10000\n",
      "Accuracy: 99.94%\n",
      "\n",
      "Confusion matrix:\n",
      "[[5987    1    0]\n",
      " [   1 1208    1]\n",
      " [   0    3 2799]]\n"
     ]
    }
   ],
   "source": [
    "# Train and make predictions\n",
    "tree = DecisionTreeClassifier(random_state=42)\n",
    "tree.fit(x_train, y_train)\n",
    "y_pred = tree.predict(x_test)\n",
    "\n",
    "# Print results\n",
    "total_correct = (y_test == y_pred).sum()\n",
    "total_samples = len(y_test)\n",
    "print(f\"Total correct predictions: {total_correct} out of {total_samples}\")\n",
    "print(f\"Accuracy: {accuracy_score(y_test, y_pred):.2%}\")\n",
    "print(f\"\\nConfusion matrix:\\n{confusion_matrix(y_test, y_pred)}\")"
   ]
  },
  {
   "cell_type": "markdown",
   "metadata": {},
   "source": [
    "A baseline is established. A bit too good baseline. My thoughts now is that I wonder how much the decision tree learns to identify the neural net and therefore knows if it is a good or bad neural net. I'm thinking that I need many more neural nets to balance out this, especially very diffferent ones.\n",
    "\n",
    "Todo:\n",
    "- Train many models, 30+\n",
    "- Create shap datasets\n",
    "\n",
    "Questions:\n",
    "- Should the models retain the 5% epsilon during dataset creation?\n",
    "- Should "
   ]
  },
  {
   "cell_type": "code",
   "execution_count": null,
   "metadata": {},
   "outputs": [],
   "source": []
  }
 ],
 "metadata": {
  "kernelspec": {
   "display_name": ".venv",
   "language": "python",
   "name": "python3"
  },
  "language_info": {
   "codemirror_mode": {
    "name": "ipython",
    "version": 3
   },
   "file_extension": ".py",
   "mimetype": "text/x-python",
   "name": "python",
   "nbconvert_exporter": "python",
   "pygments_lexer": "ipython3",
   "version": "3.12.2"
  }
 },
 "nbformat": 4,
 "nbformat_minor": 2
}
