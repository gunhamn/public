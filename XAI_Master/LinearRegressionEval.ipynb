{
 "cells": [
  {
   "cell_type": "code",
   "execution_count": 1,
   "metadata": {},
   "outputs": [],
   "source": [
    "import numpy as np\n",
    "import matplotlib.pyplot as plt\n",
    "import pandas as pd\n",
    "from sklearn.model_selection import train_test_split\n",
    "from sklearn.linear_model import LinearRegression\n",
    "from sklearn.tree import DecisionTreeClassifier\n",
    "from sklearn.metrics import mean_squared_error, r2_score, accuracy_score, confusion_matrix\n",
    "\n",
    "np.random.seed(42)  # You can use any integer value\n",
    "random_state = 42"
   ]
  },
  {
   "cell_type": "code",
   "execution_count": 2,
   "metadata": {},
   "outputs": [
    {
     "name": "stdout",
     "output_type": "stream",
     "text": [
      "(40000, 128)\n"
     ]
    }
   ],
   "source": [
    "modelNames = [\"WW_redReward0_grReward1_7x7_300000steps\",\n",
    "                  \"WW_redReward0_grReward1_7x7_1500000steps\",\n",
    "                  \"WW_redReward1_grReward0_7x7_700000steps\",\n",
    "                  \"WW_redReward1_grReward0_7x7_1500000steps\",\n",
    "                  \"WW_redReward1_grReward0_7x7_2000000steps\"]\n",
    "\n",
    "red0green1_30k = pd.read_csv(\"C:/Projects/public/XAI_Master/datasets/WW_redReward0_grReward1_7x7_300000steps.csv\",\n",
    "    header=0,\n",
    "    index_col=None,\n",
    "    float_precision='high'\n",
    "    )\n",
    "red0green1_150k = pd.read_csv(\"C:/Projects/public/XAI_Master/datasets/WW_redReward0_grReward1_7x7_1500000steps.csv\",\n",
    "    header=0,\n",
    "    index_col=None,\n",
    "    float_precision='high'\n",
    "    )\n",
    "red1green0_70k = pd.read_csv(\"C:/Projects/public/XAI_Master/datasets/WW_redReward1_grReward0_7x7_700000steps.csv\",\n",
    "    header=0,          # Use first row as headers\n",
    "    index_col=None,    # Don't use any column as index\n",
    "    float_precision='high'  # For precise float values\n",
    "    )\n",
    "red1green0_150k = pd.read_csv(\"C:/Projects/public/XAI_Master/datasets/WW_redReward1_grReward0_7x7_1500000steps.csv\",\n",
    "    header=0,          # Use first row as headers\n",
    "    index_col=None,    # Don't use any column as index\n",
    "    float_precision='high'  # For precise float values\n",
    "    )\n",
    "red1green0_200k = pd.read_csv(\"C:/Projects/public/XAI_Master/datasets/WW_redReward1_grReward0_7x7_2000000steps.csv\",\n",
    "    header=0,          # Use first row as headers\n",
    "    index_col=None,    # Don't use any column as index\n",
    "    float_precision='high'  # For precise float values\n",
    "    )\n",
    "\n",
    "\n",
    "# Merge and shuffle the two datasets\n",
    "df = pd.concat([red0green1_30k, red0green1_150k, red1green0_70k, red1green0_200k], ignore_index=True)\n",
    "df = df.sample(frac=1, random_state=random_state).reset_index(drop=True)\n",
    "\"\"\"\n",
    "df = red0green1\n",
    "\"\"\"\n",
    "x = df.drop('target', axis=1)\n",
    "x = df.drop(['target',\"agentX\",\"agentY\",\"redX\",\"redY\",\"greenX\",\"greenY\"], axis=1)\n",
    "print(x.shape)\n",
    "y = df['target']\n",
    "\n",
    "# x_train, x_test, y_train, y_test = train_test_split(x, y, test_size=0.2, random_state=random_state)\n",
    "\n",
    "# use red1green0_150k as test set\n",
    "x_train = x\n",
    "y_train = y\n",
    "x_test = red1green0_150k.drop(['target',\"agentX\",\"agentY\",\"redX\",\"redY\",\"greenX\",\"greenY\"], axis=1)\n",
    "y_test = red1green0_150k['target']"
   ]
  },
  {
   "cell_type": "code",
   "execution_count": 3,
   "metadata": {},
   "outputs": [
    {
     "name": "stdout",
     "output_type": "stream",
     "text": [
      "Mean Squared Error: 8.7399\n",
      "R2 Score: -7953.1265\n",
      "Total correct predictions: 3 out of 10000\n",
      "Accuracy: 0.03%\n",
      "\n",
      "Confusion matrix:\n",
      "[[   0  241 9748]\n",
      " [   0    3    8]\n",
      " [   0    0    0]]\n"
     ]
    }
   ],
   "source": [
    "# Train and make predictions\n",
    "model = LinearRegression()\n",
    "model.fit(x_train, y_train)\n",
    "y_pred = model.predict(x_test)\n",
    "\n",
    "# Print float results\n",
    "print(f\"Mean Squared Error: {mean_squared_error(y_test, y_pred):.4f}\")\n",
    "print(f\"R2 Score: {r2_score(y_test, y_pred):.4f}\")\n",
    "\n",
    "# Round y_pred to int, max 1 and min -1\n",
    "y_pred = np.clip(np.round(y_pred), -1, 1)\n",
    "\n",
    "# Print int results\n",
    "total_correct = (y_test == y_pred).sum()\n",
    "total_samples = len(y_test)\n",
    "print(f\"Total correct predictions: {total_correct} out of {total_samples}\")\n",
    "print(f\"Accuracy: {accuracy_score(y_test, y_pred):.2%}\")\n",
    "print(f\"\\nConfusion matrix:\\n{confusion_matrix(y_test, y_pred)}\")\n"
   ]
  },
  {
   "cell_type": "code",
   "execution_count": 4,
   "metadata": {},
   "outputs": [
    {
     "name": "stdout",
     "output_type": "stream",
     "text": [
      "Total correct predictions: 0 out of 10000\n",
      "Accuracy: 0.00%\n",
      "\n",
      "Confusion matrix:\n",
      "[[   0  908 9081]\n",
      " [   0    0   11]\n",
      " [   0    0    0]]\n"
     ]
    }
   ],
   "source": [
    "# Train and make predictions\n",
    "tree = DecisionTreeClassifier(random_state=42)\n",
    "tree.fit(x_train, y_train)\n",
    "y_pred = tree.predict(x_test)\n",
    "\n",
    "# Print results\n",
    "total_correct = (y_test == y_pred).sum()\n",
    "total_samples = len(y_test)\n",
    "print(f\"Total correct predictions: {total_correct} out of {total_samples}\")\n",
    "print(f\"Accuracy: {accuracy_score(y_test, y_pred):.2%}\")\n",
    "print(f\"\\nConfusion matrix:\\n{confusion_matrix(y_test, y_pred)}\")"
   ]
  },
  {
   "cell_type": "markdown",
   "metadata": {},
   "source": [
    "An eeeeeven better baseline is established. When giving the classification models a network they hadn't seen before gave them a 0% accuracy.\n",
    "\n",
    "Todo:\n",
    "- Train many models, 30+\n",
    "- Create shap datasets\n",
    "\n",
    "Questions:\n",
    "- Should the models retain the 5% epsilon during dataset creation? Yes\n",
    "- Does the SHAP background data sound sound? Compare\n",
    "- Should the decision tree recieve coordinates too? Format? Yes, no feature engineering"
   ]
  },
  {
   "cell_type": "code",
   "execution_count": 5,
   "metadata": {},
   "outputs": [
    {
     "ename": "SyntaxError",
     "evalue": "invalid syntax (2854073663.py, line 1)",
     "output_type": "error",
     "traceback": [
      "\u001b[1;36m  Cell \u001b[1;32mIn[5], line 1\u001b[1;36m\u001b[0m\n\u001b[1;33m    - Sette netverket som label\u001b[0m\n\u001b[1;37m            ^\u001b[0m\n\u001b[1;31mSyntaxError\u001b[0m\u001b[1;31m:\u001b[0m invalid syntax\n"
     ]
    }
   ],
   "source": [
    "- Sette netverket som label\n",
    "- Zero-shot\n"
   ]
  }
 ],
 "metadata": {
  "kernelspec": {
   "display_name": ".venv",
   "language": "python",
   "name": "python3"
  },
  "language_info": {
   "codemirror_mode": {
    "name": "ipython",
    "version": 3
   },
   "file_extension": ".py",
   "mimetype": "text/x-python",
   "name": "python",
   "nbconvert_exporter": "python",
   "pygments_lexer": "ipython3",
   "version": "3.12.2"
  }
 },
 "nbformat": 4,
 "nbformat_minor": 2
}
