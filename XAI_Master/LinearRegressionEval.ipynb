{
 "cells": [
  {
   "cell_type": "code",
   "execution_count": 56,
   "metadata": {},
   "outputs": [],
   "source": [
    "import numpy as np\n",
    "import matplotlib.pyplot as plt\n",
    "import pandas as pd\n",
    "from sklearn.model_selection import train_test_split\n",
    "from sklearn.linear_model import LinearRegression\n",
    "from sklearn.tree import DecisionTreeClassifier\n",
    "from sklearn.metrics import mean_squared_error, r2_score, accuracy_score, confusion_matrix\n",
    "\n",
    "np.random.seed(42)  # You can use any integer value\n",
    "random_state = 42"
   ]
  },
  {
   "cell_type": "code",
   "execution_count": 57,
   "metadata": {},
   "outputs": [
    {
     "name": "stdout",
     "output_type": "stream",
     "text": [
      "(10000, 134)\n"
     ]
    }
   ],
   "source": [
    "# import \"C:/Projects/public/XAI_Master/datasets/red1green0.csv\"\n",
    "\n",
    "red1green0 = pd.read_csv(\"C:/Projects/public/XAI_Master/datasets/red1green0.csv\",\n",
    "    header=0,          # Use first row as headers\n",
    "    index_col=None,    # Don't use any column as index\n",
    "    float_precision='high'  # For precise float values\n",
    "    )\n",
    "red0green1 = pd.read_csv(\"C:/Projects/public/XAI_Master/datasets/red0green1.csv\",\n",
    "    header=0,\n",
    "    index_col=None,\n",
    "    float_precision='high'\n",
    "    )\n",
    "\n",
    "# Merge and shuffle the two datasets\n",
    "df = pd.concat([red1green0, red0green1])\n",
    "df = df.sample(frac=1, random_state=random_state).reset_index(drop=True)\n",
    "\"\"\"\n",
    "df = red0green1\n",
    "\"\"\"\n",
    "x = df.drop('target', axis=1)\n",
    "#x = df.drop(['target',\"agentX\",\"agentY\",\"redX\",\"redY\",\"greenX\",\"greenY\"], axis=1)\n",
    "print(x.shape)\n",
    "y = df['target']\n",
    "\n",
    "x_train, x_test, y_train, y_test = train_test_split(x, y, test_size=0.2, random_state=random_state)"
   ]
  },
  {
   "cell_type": "code",
   "execution_count": 58,
   "metadata": {},
   "outputs": [
    {
     "name": "stdout",
     "output_type": "stream",
     "text": [
      "Mean Squared Error: 0.1268\n",
      "R2 Score: 0.7989\n",
      "Total correct predictions: 1627 out of 2000\n",
      "Accuracy: 81.35%\n",
      "\n",
      "Confusion matrix:\n",
      "[[1008   30    0]\n",
      " [   5  455   86]\n",
      " [   0  252  164]]\n"
     ]
    }
   ],
   "source": [
    "# Train and make predictions\n",
    "model = LinearRegression()\n",
    "model.fit(x_train, y_train)\n",
    "y_pred = model.predict(x_test)\n",
    "\n",
    "# Print float results\n",
    "print(f\"Mean Squared Error: {mean_squared_error(y_test, y_pred):.4f}\")\n",
    "print(f\"R2 Score: {r2_score(y_test, y_pred):.4f}\")\n",
    "\n",
    "# Round y_pred to int, max 1 and min -1\n",
    "y_pred = np.clip(np.round(y_pred), -1, 1)\n",
    "\n",
    "# Print int results\n",
    "total_correct = (y_test == y_pred).sum()\n",
    "total_samples = len(y_test)\n",
    "print(f\"Total correct predictions: {total_correct} out of {total_samples}\")\n",
    "print(f\"Accuracy: {accuracy_score(y_test, y_pred):.2%}\")\n",
    "print(f\"\\nConfusion matrix:\\n{confusion_matrix(y_test, y_pred)}\")\n"
   ]
  },
  {
   "cell_type": "code",
   "execution_count": 59,
   "metadata": {},
   "outputs": [
    {
     "name": "stdout",
     "output_type": "stream",
     "text": [
      "Total correct predictions: 1998 out of 2000\n",
      "Accuracy: 99.90%\n",
      "\n",
      "Confusion matrix:\n",
      "[[1037    1    0]\n",
      " [   0  545    1]\n",
      " [   0    0  416]]\n"
     ]
    }
   ],
   "source": [
    "# Train and make predictions\n",
    "tree = DecisionTreeClassifier(random_state=42)\n",
    "tree.fit(x_train, y_train)\n",
    "y_pred = tree.predict(x_test)\n",
    "\n",
    "# Print results\n",
    "total_correct = (y_test == y_pred).sum()\n",
    "total_samples = len(y_test)\n",
    "print(f\"Total correct predictions: {total_correct} out of {total_samples}\")\n",
    "print(f\"Accuracy: {accuracy_score(y_test, y_pred):.2%}\")\n",
    "print(f\"\\nConfusion matrix:\\n{confusion_matrix(y_test, y_pred)}\")"
   ]
  },
  {
   "cell_type": "markdown",
   "metadata": {},
   "source": [
    "A baseline is established. Between one good red agent and one week green agent, the decision tree managed to predict 78.4% of the cases correctly based on only neuron activations from, fc1, the second last layer with 128 neurons. When also giving the tree the coordinates for the agent, red and greens chests, the tree performed much better, only failing at 2-6 of 2000 test cases. (Depending on random seed)\n",
    "\n",
    "My thoughts now is that I wonder how much the decision tree learns to identify the neural net and therefore knows if it is a good or bad neural net. I'm also thinking that I need many more neural nets to balance out this, especially very diffferent ones.\n",
    "But probably, the next step is to try with a XAI method instead of activa\n",
    "tions, since it is this comparison which is the most important part of the thesis. Maybe gradcam or shap. SHAP is probably good since it yield a map of what the agent \"focuses\" on. It is also a great baseline for later. So, in short, do shap, and more models."
   ]
  }
 ],
 "metadata": {
  "kernelspec": {
   "display_name": ".venv",
   "language": "python",
   "name": "python3"
  },
  "language_info": {
   "codemirror_mode": {
    "name": "ipython",
    "version": 3
   },
   "file_extension": ".py",
   "mimetype": "text/x-python",
   "name": "python",
   "nbconvert_exporter": "python",
   "pygments_lexer": "ipython3",
   "version": "3.12.2"
  }
 },
 "nbformat": 4,
 "nbformat_minor": 2
}
