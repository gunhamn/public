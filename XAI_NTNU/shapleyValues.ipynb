{
 "cells": [
  {
   "cell_type": "code",
   "execution_count": 1,
   "metadata": {},
   "outputs": [
    {
     "name": "stdout",
     "output_type": "stream",
     "text": [
      "pygame 2.6.0 (SDL 2.28.4, Python 3.12.2)\n",
      "Hello from the pygame community. https://www.pygame.org/contribute.html\n"
     ]
    }
   ],
   "source": [
    "import numpy as np\n",
    "import torch\n",
    "import shap\n",
    "from ChestWorld import ChestWorld\n",
    "from dqn_agent_new import DqnAgentNew"
   ]
  },
  {
   "cell_type": "code",
   "execution_count": 2,
   "metadata": {},
   "outputs": [
    {
     "name": "stdout",
     "output_type": "stream",
     "text": [
      "Action space: 4\n",
      "Observation space: 6\n",
      "Observation space[0]: 6\n",
      "Action space: 4\n",
      "Observation space: 6\n",
      "Observation space[0]: 6\n"
     ]
    }
   ],
   "source": [
    "# ChestWorld\n",
    "render_mode=None\n",
    "size=6\n",
    "agentSpawn = None\n",
    "q_values=None\n",
    "maxSteps=200\n",
    "stepLoss=-1/maxSteps # min reward should be -1\n",
    "wallCoordinates=None\n",
    "randomWalls=0\n",
    "chestCoordinates=None\n",
    "keyCoordinates=None\n",
    "randomchests=3\n",
    "randomkeys=5\n",
    "chestReward=1/min(randomchests, randomkeys) # max reward should be 1\n",
    "\n",
    "# Agent\n",
    "batch_size=64\n",
    "lr=0.001\n",
    "gamma=0.95\n",
    "epsilon_start=1\n",
    "epsilon_min=0.05\n",
    "epsilon_decay=200_000 # 50_000 at 3000 episodes\n",
    "tau=0.0005 # Was 0.005\n",
    "replayBuffer=100_000\n",
    "\n",
    "env = ChestWorld(render_mode=None, size=size, agentSpawn=agentSpawn, stepLoss=stepLoss, maxSteps=maxSteps, wallCoordinates=wallCoordinates, randomWalls=randomWalls, chestCoordinates=chestCoordinates, keyCoordinates=keyCoordinates, chestReward=chestReward, randomchests=randomchests, randomkeys=randomkeys)\n",
    "observation, _ = env.reset()\n",
    "agent = DqnAgentNew(env.action_space, observation,\n",
    "    batch_size=batch_size,\n",
    "    lr=lr,\n",
    "    gamma=gamma,\n",
    "    epsilon_start=epsilon_start,\n",
    "    epsilon_min=epsilon_min,\n",
    "    epsilon_decay=epsilon_decay,\n",
    "    tau=tau,\n",
    "    replayBuffer=replayBuffer,\n",
    "    wandb=False)"
   ]
  },
  {
   "cell_type": "code",
   "execution_count": 8,
   "metadata": {},
   "outputs": [
    {
     "name": "stdout",
     "output_type": "stream",
     "text": [
      "Model loaded: C:/Projects/public/XAI_NTNU/modelsToEval/CW_3chests_5keys_6x6_10000000steps.pth\n",
      "1%, time elapsed: 0 minutes and 0.13 seconds, it may finish around: 2024-11-27 08:25:34\n",
      "10%, time elapsed: 0 minutes and 1.07 seconds, it may finish around: 2024-11-27 08:25:32\n",
      "50%, time elapsed: 0 minutes and 5.23 seconds, it may finish around: 2024-11-27 08:25:32\n",
      "99%, time elapsed: 0 minutes and 10.56 seconds, it may finish around: 2024-11-27 08:25:32\n",
      "replayBufferStates shape: torch.Size([40004, 6, 6, 3])\n"
     ]
    }
   ],
   "source": [
    "agent.replayBuffer=20_000\n",
    "agent.load_model_weights(f\"C:/Projects/public/XAI_NTNU/modelsToEval/CW_3chests_5keys_6x6_10000000steps.pth\")\n",
    "agent.inference(env=env, max_steps=20_000, epsilon=epsilon_min)\n",
    "\n",
    "action_direction = {0: \"Right\",1: \"Down\",2: \"Left\", 3: \"Up\"}\n",
    "#action_direction = {0: \"🠪\", 1: \"🠫\", 2: \"🠨\", 3: \"🠩\"}\n",
    "\n",
    "replayBuffer = agent.replay_buffer\n",
    "replayBufferStates = [replayBuffer[i][0] for i in range(len(replayBuffer))]\n",
    "replayBufferStates = torch.stack(replayBufferStates)\n",
    "replayBufferStates = replayBufferStates.squeeze(1)\n",
    "print(f\"replayBufferStates shape: {replayBufferStates.shape}\")\n"
   ]
  },
  {
   "cell_type": "code",
   "execution_count": 4,
   "metadata": {},
   "outputs": [
    {
     "name": "stdout",
     "output_type": "stream",
     "text": [
      "the10000first shape: torch.Size([10000, 6, 6, 3])\n",
      "Background shape: torch.Size([10, 6, 6, 3])\n",
      "Background[0]: tensor([[[1.0000, 1.0000, 1.0000],\n",
      "         [1.0000, 1.0000, 1.0000],\n",
      "         [1.0000, 1.0000, 1.0000],\n",
      "         [1.0000, 1.0000, 1.0000],\n",
      "         [1.0000, 1.0000, 1.0000],\n",
      "         [1.0000, 1.0000, 1.0000]],\n",
      "\n",
      "        [[1.0000, 1.0000, 1.0000],\n",
      "         [1.0000, 1.0000, 1.0000],\n",
      "         [1.0000, 1.0000, 1.0000],\n",
      "         [1.0000, 1.0000, 1.0000],\n",
      "         [0.0000, 0.1960, 1.0000],\n",
      "         [1.0000, 1.0000, 1.0000]],\n",
      "\n",
      "        [[1.0000, 1.0000, 1.0000],\n",
      "         [1.0000, 1.0000, 1.0000],\n",
      "         [1.0000, 1.0000, 1.0000],\n",
      "         [1.0000, 1.0000, 1.0000],\n",
      "         [1.0000, 1.0000, 1.0000],\n",
      "         [1.0000, 1.0000, 1.0000]],\n",
      "\n",
      "        [[1.0000, 1.0000, 1.0000],\n",
      "         [0.0000, 1.0000, 0.0000],\n",
      "         [1.0000, 1.0000, 1.0000],\n",
      "         [1.0000, 1.0000, 1.0000],\n",
      "         [1.0000, 1.0000, 1.0000],\n",
      "         [0.0000, 1.0000, 0.0000]],\n",
      "\n",
      "        [[1.0000, 1.0000, 1.0000],\n",
      "         [1.0000, 1.0000, 1.0000],\n",
      "         [1.0000, 1.0000, 1.0000],\n",
      "         [1.0000, 1.0000, 1.0000],\n",
      "         [1.0000, 1.0000, 1.0000],\n",
      "         [0.0000, 1.0000, 0.0000]],\n",
      "\n",
      "        [[1.0000, 0.0000, 0.0000],\n",
      "         [1.0000, 1.0000, 1.0000],\n",
      "         [1.0000, 0.0000, 0.0000],\n",
      "         [1.0000, 1.0000, 1.0000],\n",
      "         [1.0000, 1.0000, 1.0000],\n",
      "         [1.0000, 1.0000, 1.0000]]])\n"
     ]
    }
   ],
   "source": [
    "model = agent.policy_net\n",
    "\n",
    "the10000first = replayBufferStates[:10000]\n",
    "\n",
    "print(f\"the10000first shape: {the10000first.shape}\")\n",
    "# remove all identical states\n",
    "unique_states = torch.unique(the10000first, dim=0)\n",
    "\n",
    "# sample 2000 states\n",
    "background = unique_states[np.random.choice(unique_states.shape[0], 10, replace=False)]\n",
    "\n",
    "statesToExplain = replayBufferStates[10_000:10_001]\n",
    "\n",
    "#with torch.no_grad():\n",
    "print(f\"Background shape: {background.shape}\")\n",
    "print(f\"Background[0]: {background[0]}\")"
   ]
  },
  {
   "cell_type": "code",
   "execution_count": 5,
   "metadata": {},
   "outputs": [],
   "source": [
    "e = shap.DeepExplainer(model=model,\n",
    "                       data=background,\n",
    "                       session=None,\n",
    "                       learning_phase_flags=None)"
   ]
  },
  {
   "cell_type": "code",
   "execution_count": 7,
   "metadata": {},
   "outputs": [
    {
     "name": "stdout",
     "output_type": "stream",
     "text": [
      "Test states shape: torch.Size([1, 6, 6, 3])\n",
      "Predictions: [[0.4964424  0.50342715 0.555999   0.4834817 ]]\n",
      "Argmax: ['🠨']\n",
      "Test states type: <class 'torch.Tensor'>\n"
     ]
    },
    {
     "name": "stderr",
     "output_type": "stream",
     "text": [
      "c:\\Projects\\.venv\\Lib\\site-packages\\IPython\\core\\pylabtools.py:152: UserWarning: Glyph 129064 (\\N{LEFTWARDS TRIANGLE-HEADED ARROW WITH BOLD SHAFT}) missing from current font.\n",
      "  fig.canvas.print_figure(bytes_io, **kw)\n",
      "c:\\Projects\\.venv\\Lib\\site-packages\\IPython\\core\\pylabtools.py:152: UserWarning: Glyph 129066 (\\N{RIGHTWARDS TRIANGLE-HEADED ARROW WITH BOLD SHAFT}) missing from current font.\n",
      "  fig.canvas.print_figure(bytes_io, **kw)\n",
      "c:\\Projects\\.venv\\Lib\\site-packages\\IPython\\core\\pylabtools.py:152: UserWarning: Glyph 129067 (\\N{DOWNWARDS TRIANGLE-HEADED ARROW WITH BOLD SHAFT}) missing from current font.\n",
      "  fig.canvas.print_figure(bytes_io, **kw)\n",
      "c:\\Projects\\.venv\\Lib\\site-packages\\IPython\\core\\pylabtools.py:152: UserWarning: Glyph 129065 (\\N{UPWARDS TRIANGLE-HEADED ARROW WITH BOLD SHAFT}) missing from current font.\n",
      "  fig.canvas.print_figure(bytes_io, **kw)\n"
     ]
    },
    {
     "data": {
      "image/png": "[encoded data removed]",
      "text/plain": [
       "<Figure size 1500x500 with 6 Axes>"
      ]
     },
     "metadata": {},
     "output_type": "display_data"
    }
   ],
   "source": [
    "print(f\"Test states shape: {statesToExplain.shape}\")\n",
    "with torch.no_grad():\n",
    "    predictions = model(statesToExplain).detach().numpy()\n",
    "    argmax = [action_direction[np.argmax(prediction)] for prediction in predictions]\n",
    "    print(f\"Predictions: {predictions}\")\n",
    "    print(f\"Argmax: {argmax}\")\n",
    "\n",
    "print(f\"Test states type: {type(statesToExplain)}\")\n",
    "\n",
    "shap_values = e.shap_values(statesToExplain, check_additivity=False)\n",
    "\"\"\"AssertionError: The SHAP explanations do not sum up to the\n",
    "model's output! This is either because of a rounding error or\n",
    "because an operator in your computation graph was not fully\n",
    "supported. If the sum difference of %f is significant compared\n",
    "to the scale of your model outputs, please post as a github issue,\n",
    "with a reproducible example so we can debug it. Used framework:\n",
    "    pytorch - Max. diff: 0.07974889467004687 - Tolerance: 0.01\"\"\"\n",
    "# check_additivity was set to False for this reason\n",
    "# this error needs to be fixed since it gives a feulty result\n",
    "\n",
    "\"\"\"The last one was\n",
    "Max. diff: 0.9542994634248316 - Tolerance: 0.01\n",
    "Intolerable...\"\"\"\n",
    "\n",
    "shap_numpy = list(np.transpose(shap_values, (4, 0, 2, 1, 3)))\n",
    "test_numpy = np.transpose(statesToExplain.numpy(), (0, 2, 1, 3))\n",
    "\n",
    "labels = np.array([[f\"{action_direction[i]}: {predictions[j][i]:.3f}\" for i in range(len(predictions[j]))] for j in range(len(predictions))])\n",
    "\n",
    "# plot the feature attributions\n",
    "shap.image_plot(shap_values=shap_numpy,\n",
    "                pixel_values=test_numpy,\n",
    "                labels=labels,\n",
    "                true_labels=argmax,)\n",
    "#                labelpad=0,\n",
    "#                width=18)"
   ]
  },
  {
   "cell_type": "code",
   "execution_count": null,
   "metadata": {},
   "outputs": [
    {
     "name": "stdout",
     "output_type": "stream",
     "text": [
      "test_states[0]: tensor([[[0.0000, 1.0000, 0.0000],\n",
      "         [1.0000, 1.0000, 1.0000],\n",
      "         [1.0000, 1.0000, 1.0000],\n",
      "         [1.0000, 1.0000, 1.0000],\n",
      "         [1.0000, 1.0000, 1.0000],\n",
      "         [1.0000, 1.0000, 1.0000]],\n",
      "\n",
      "        [[1.0000, 1.0000, 1.0000],\n",
      "         [1.0000, 1.0000, 1.0000],\n",
      "         [1.0000, 1.0000, 1.0000],\n",
      "         [1.0000, 1.0000, 1.0000],\n",
      "         [1.0000, 1.0000, 1.0000],\n",
      "         [1.0000, 0.0000, 0.0000]],\n",
      "\n",
      "        [[1.0000, 1.0000, 1.0000],\n",
      "         [1.0000, 1.0000, 1.0000],\n",
      "         [1.0000, 1.0000, 1.0000],\n",
      "         [1.0000, 1.0000, 1.0000],\n",
      "         [1.0000, 1.0000, 1.0000],\n",
      "         [1.0000, 1.0000, 1.0000]],\n",
      "\n",
      "        [[1.0000, 1.0000, 1.0000],\n",
      "         [0.0000, 1.0000, 0.0000],\n",
      "         [1.0000, 1.0000, 1.0000],\n",
      "         [1.0000, 1.0000, 1.0000],\n",
      "         [1.0000, 1.0000, 1.0000],\n",
      "         [1.0000, 1.0000, 1.0000]],\n",
      "\n",
      "        [[0.0000, 1.0000, 0.0000],\n",
      "         [0.0000, 1.0000, 0.0000],\n",
      "         [1.0000, 1.0000, 1.0000],\n",
      "         [1.0000, 1.0000, 1.0000],\n",
      "         [1.0000, 1.0000, 1.0000],\n",
      "         [1.0000, 1.0000, 1.0000]],\n",
      "\n",
      "        [[1.0000, 1.0000, 1.0000],\n",
      "         [1.0000, 0.0000, 0.0000],\n",
      "         [1.0000, 1.0000, 1.0000],\n",
      "         [1.0000, 0.0000, 0.0000],\n",
      "         [1.0000, 1.0000, 1.0000],\n",
      "         [0.0000, 0.1960, 1.0000]]])\n"
     ]
    }
   ],
   "source": [
    "print(f\"test_states[0]: {statesToExplain[0]}\")"
   ]
  }
 ],
 "metadata": {
  "kernelspec": {
   "display_name": ".venv",
   "language": "python",
   "name": "python3"
  },
  "language_info": {
   "codemirror_mode": {
    "name": "ipython",
    "version": 3
   },
   "file_extension": ".py",
   "mimetype": "text/x-python",
   "name": "python",
   "nbconvert_exporter": "python",
   "pygments_lexer": "ipython3",
   "version": "3.12.2"
  }
 },
 "nbformat": 4,
 "nbformat_minor": 2
}
